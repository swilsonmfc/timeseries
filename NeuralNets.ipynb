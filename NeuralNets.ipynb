{
  "nbformat": 4,
  "nbformat_minor": 0,
  "metadata": {
    "colab": {
      "name": "NeuralNets.ipynb",
      "provenance": [],
      "toc_visible": true,
      "authorship_tag": "ABX9TyNtfEQhqSprYg2gh4RvlL2U",
      "include_colab_link": true
    },
    "kernelspec": {
      "name": "python3",
      "display_name": "Python 3"
    },
    "language_info": {
      "name": "python"
    }
  },
  "cells": [
    {
      "cell_type": "markdown",
      "metadata": {
        "id": "view-in-github",
        "colab_type": "text"
      },
      "source": [
        "<a href=\"https://colab.research.google.com/github/swilsonmfc/timeseries/blob/master/NeuralNets.ipynb\" target=\"_parent\"><img src=\"https://colab.research.google.com/assets/colab-badge.svg\" alt=\"Open In Colab\"/></a>"
      ]
    },
    {
      "cell_type": "markdown",
      "source": [
        "# TimeSeries Neural Networks"
      ],
      "metadata": {
        "id": "vZ5ZmHeuK9fq"
      }
    },
    {
      "cell_type": "markdown",
      "source": [
        "# Install"
      ],
      "metadata": {
        "id": "Z6ckU3HnK_k2"
      }
    },
    {
      "cell_type": "markdown",
      "source": [
        "# Setup"
      ],
      "metadata": {
        "id": "ZAI01_EnK_pH"
      }
    },
    {
      "cell_type": "code",
      "source": [
        "import pandas as pd\n",
        "import numpy as np\n",
        "import matplotlib.pyplot as plt\n",
        "\n",
        "from scipy.ndimage.filters import convolve1d\n",
        "\n",
        "import keras\n",
        "from keras.models import Sequential\n",
        "from keras.layers import LSTM\n",
        "from keras.layers import Conv1D\n",
        "from keras.layers import MaxPooling1D\n",
        "from keras.layers import Activation\n",
        "from keras.layers import Dense\n",
        "from keras.layers import Flatten"
      ],
      "metadata": {
        "id": "0euyqy5pLUlb"
      },
      "execution_count": 1,
      "outputs": []
    },
    {
      "cell_type": "markdown",
      "source": [
        "# Neural Networks"
      ],
      "metadata": {
        "id": "ZQWBn1ytK_rg"
      }
    },
    {
      "cell_type": "markdown",
      "source": [
        "## Neuron\n",
        "\n",
        "![](https://miro.medium.com/max/2739/1*L9xLcwKhuZ2cuS8fF0ZjwA.png)"
      ],
      "metadata": {
        "id": "GQvYOqkEK_t-"
      }
    },
    {
      "cell_type": "markdown",
      "source": [
        "## Non-Linearity\n",
        "![](https://www.researchgate.net/profile/Vivienne-Sze/publication/315667264/figure/fig3/AS:669951052496900@1536740186369/Various-forms-of-non-linear-activation-functions-Figure-adopted-from-Caffe-Tutorial.png)"
      ],
      "metadata": {
        "id": "5nu5yPlQMoBN"
      }
    },
    {
      "cell_type": "markdown",
      "source": [
        "## Network\n",
        "\n",
        "![](https://miro.medium.com/max/2622/1*eJ36Jpf-DE9q5nKk67xT0Q.jpeg)"
      ],
      "metadata": {
        "id": "CXdQLZ7oK_wq"
      }
    },
    {
      "cell_type": "markdown",
      "source": [
        "## Back Propagation\n",
        "\n",
        "![](https://miro.medium.com/max/2313/1*DcLWqOojI1b9jzQaLibUkQ.png)"
      ],
      "metadata": {
        "id": "zfKzOO8sK_zP"
      }
    },
    {
      "cell_type": "markdown",
      "source": [
        "# Univariate TimeSeries\n",
        "* "
      ],
      "metadata": {
        "id": "CpHgJ3m-L5TJ"
      }
    },
    {
      "cell_type": "code",
      "source": [
        "series = [10, 20, 30, 40, 50, 60, 70, 80, 90, 100]"
      ],
      "metadata": {
        "id": "iDQ4zHdWNwJJ"
      },
      "execution_count": 2,
      "outputs": []
    },
    {
      "cell_type": "markdown",
      "source": [
        "## Single Step"
      ],
      "metadata": {
        "id": "9v7EkDsBOcSv"
      }
    },
    {
      "cell_type": "code",
      "source": [
        "def subseries(series, steps=3):\n",
        "    X, y = [], []\n",
        "    size = len(series)\n",
        "    for index in range(size):\n",
        "        if index + steps > size - 1:\n",
        "            break\n",
        "        seqX = series[index:index + steps]\n",
        "        seqY = series[index + steps]\n",
        "        X.append(seqX)\n",
        "        y.append(seqY)\n",
        "    return np.array(X), np.array(y)"
      ],
      "metadata": {
        "id": "Ri0qwBGsNygH"
      },
      "execution_count": 3,
      "outputs": []
    },
    {
      "cell_type": "code",
      "source": [
        "def subseries_pythonic(series, k):\n",
        "  X = [series[i : i + k] for i in range(len(series) - k)]\n",
        "  y = [series[i] for i in range(k, len(series))]\n",
        "  return np.array(X), np.array(y)"
      ],
      "metadata": {
        "id": "jefDikIPOhp0"
      },
      "execution_count": 4,
      "outputs": []
    },
    {
      "cell_type": "markdown",
      "source": [
        "### Data"
      ],
      "metadata": {
        "id": "uW5nn3wgPYJ8"
      }
    },
    {
      "cell_type": "code",
      "source": [
        "steps = 3\n",
        "X, y = subseries_pythonic(series, steps)\n",
        "for index in range(len(X)):\n",
        "    print(X[index], y[index])"
      ],
      "metadata": {
        "colab": {
          "base_uri": "https://localhost:8080/"
        },
        "id": "OVyQW-oYPZho",
        "outputId": "e05419d5-92bb-437e-e0b1-4dbf5a04a8e2"
      },
      "execution_count": 5,
      "outputs": [
        {
          "output_type": "stream",
          "name": "stdout",
          "text": [
            "[10 20 30] 40\n",
            "[20 30 40] 50\n",
            "[30 40 50] 60\n",
            "[40 50 60] 70\n",
            "[50 60 70] 80\n",
            "[60 70 80] 90\n",
            "[70 80 90] 100\n"
          ]
        }
      ]
    },
    {
      "cell_type": "markdown",
      "source": [
        "### Model"
      ],
      "metadata": {
        "id": "dwxURL4WPlis"
      }
    },
    {
      "cell_type": "code",
      "source": [
        "model = Sequential()\n",
        "model.add(Dense(100, activation='relu', input_dim=steps))\n",
        "model.add(Dense(1))\n",
        "model.compile(optimizer='adam', loss='mse')\n",
        "history = model.fit(X, y, epochs=2000, verbose=0)"
      ],
      "metadata": {
        "id": "57CHZaA0Pmuc"
      },
      "execution_count": 6,
      "outputs": []
    },
    {
      "cell_type": "code",
      "source": [
        "model.summary()"
      ],
      "metadata": {
        "colab": {
          "base_uri": "https://localhost:8080/"
        },
        "id": "TUUskdFtPonZ",
        "outputId": "322bc665-79b7-4d18-f4f4-33cdfbf50c5c"
      },
      "execution_count": 7,
      "outputs": [
        {
          "output_type": "stream",
          "name": "stdout",
          "text": [
            "Model: \"sequential\"\n",
            "_________________________________________________________________\n",
            " Layer (type)                Output Shape              Param #   \n",
            "=================================================================\n",
            " dense (Dense)               (None, 100)               400       \n",
            "                                                                 \n",
            " dense_1 (Dense)             (None, 1)                 101       \n",
            "                                                                 \n",
            "=================================================================\n",
            "Total params: 501\n",
            "Trainable params: 501\n",
            "Non-trainable params: 0\n",
            "_________________________________________________________________\n"
          ]
        }
      ]
    },
    {
      "cell_type": "markdown",
      "source": [
        "### Predict"
      ],
      "metadata": {
        "id": "jlc8uaDzPqtK"
      }
    },
    {
      "cell_type": "code",
      "source": [
        "X_pred = np.array([80, 90, 100]) # --> 110\n",
        "X_pred = X_pred.reshape((1, X.shape[1]))\n",
        "model.predict(X_pred)"
      ],
      "metadata": {
        "colab": {
          "base_uri": "https://localhost:8080/"
        },
        "id": "oeYoYVPbPtgh",
        "outputId": "cb93a9c9-eb51-44aa-bd7c-01f97e99b05f"
      },
      "execution_count": 8,
      "outputs": [
        {
          "output_type": "execute_result",
          "data": {
            "text/plain": [
              "array([[111.826584]], dtype=float32)"
            ]
          },
          "metadata": {},
          "execution_count": 8
        }
      ]
    },
    {
      "cell_type": "code",
      "source": [
        "X_pred = np.array([280, 290, 300]) # --> 310\n",
        "X_pred = X_pred.reshape((1, X.shape[1]))\n",
        "model.predict(X_pred)"
      ],
      "metadata": {
        "colab": {
          "base_uri": "https://localhost:8080/"
        },
        "id": "jm4NUoBaQb7D",
        "outputId": "b705c4bc-804f-48c7-a0cf-87f4d5fe396c"
      },
      "execution_count": 9,
      "outputs": [
        {
          "output_type": "execute_result",
          "data": {
            "text/plain": [
              "array([[348.62173]], dtype=float32)"
            ]
          },
          "metadata": {},
          "execution_count": 9
        }
      ]
    },
    {
      "cell_type": "code",
      "source": [
        "X_pred = np.array([-70, -60, -50]) # --> -40\n",
        "X_pred = X_pred.reshape((1, X.shape[1]))\n",
        "model.predict(X_pred)"
      ],
      "metadata": {
        "colab": {
          "base_uri": "https://localhost:8080/"
        },
        "id": "u943LfohQgSX",
        "outputId": "963731fa-ce9c-491b-c07f-f474989a0ce7"
      },
      "execution_count": 10,
      "outputs": [
        {
          "output_type": "execute_result",
          "data": {
            "text/plain": [
              "array([[22.126738]], dtype=float32)"
            ]
          },
          "metadata": {},
          "execution_count": 10
        }
      ]
    },
    {
      "cell_type": "markdown",
      "source": [
        "## Multi Step"
      ],
      "metadata": {
        "id": "p-4GS5m3Quex"
      }
    },
    {
      "cell_type": "code",
      "source": [
        "def subseries_multi(series, steps=3, output=2):\n",
        "    X, y = [], []\n",
        "    size = len(series)\n",
        "    for index in range(size):\n",
        "        if index + steps > size - output:\n",
        "            break\n",
        "        seqX = series[index:index + steps]\n",
        "        seqY = series[index + steps: index + steps + output]\n",
        "        X.append(seqX)\n",
        "        y.append(seqY)\n",
        "    return np.array(X), np.array(y)"
      ],
      "metadata": {
        "id": "ZzIYADMIaeD4"
      },
      "execution_count": 11,
      "outputs": []
    },
    {
      "cell_type": "code",
      "source": [
        "def subseries_multi_pythonic(series, k, steps):\n",
        "  X = [series[i : i + k] for i in range(len(series) - k - steps + 1)]\n",
        "  y = [series[i : i + steps] for i in range(k, len(series) - steps + 1)]\n",
        "  return np.array(X), np.array(y)"
      ],
      "metadata": {
        "id": "GAbgUSSaagEX"
      },
      "execution_count": 12,
      "outputs": []
    },
    {
      "cell_type": "markdown",
      "source": [
        "### Data"
      ],
      "metadata": {
        "id": "taJrjidRaTFB"
      }
    },
    {
      "cell_type": "code",
      "source": [
        "steps  = 3\n",
        "output = 2\n",
        "X, y = subseries_multi_pythonic(series, steps, output)\n",
        "for index in range(len(X)):\n",
        "    print(X[index], y[index])"
      ],
      "metadata": {
        "colab": {
          "base_uri": "https://localhost:8080/"
        },
        "id": "90zVS29pa3Fd",
        "outputId": "0e537252-2ce5-496d-9088-2135ef6f4fdd"
      },
      "execution_count": 13,
      "outputs": [
        {
          "output_type": "stream",
          "name": "stdout",
          "text": [
            "[10 20 30] [40 50]\n",
            "[20 30 40] [50 60]\n",
            "[30 40 50] [60 70]\n",
            "[40 50 60] [70 80]\n",
            "[50 60 70] [80 90]\n",
            "[60 70 80] [ 90 100]\n"
          ]
        }
      ]
    },
    {
      "cell_type": "markdown",
      "source": [
        "### Model"
      ],
      "metadata": {
        "id": "WgChQMgVaTHb"
      }
    },
    {
      "cell_type": "code",
      "source": [
        "model = Sequential()\n",
        "model.add(Dense(100, activation='relu', input_dim=steps))\n",
        "model.add(Dense(output))\n",
        "model.compile(optimizer='adam', loss='mse')\n",
        "history = model.fit(X, y, epochs=2000, verbose=0)"
      ],
      "metadata": {
        "id": "RGreMxfXbUvY"
      },
      "execution_count": 14,
      "outputs": []
    },
    {
      "cell_type": "markdown",
      "source": [
        "### Predict"
      ],
      "metadata": {
        "id": "9Nfy_acLaTJu"
      }
    },
    {
      "cell_type": "code",
      "source": [
        "X_pred = np.array([80, 90, 100]) # --> 110\n",
        "X_pred = X_pred.reshape((1, X.shape[1]))\n",
        "model.predict(X_pred)"
      ],
      "metadata": {
        "colab": {
          "base_uri": "https://localhost:8080/"
        },
        "outputId": "435f1902-2ccb-4456-8e34-308b9f51c64d",
        "id": "kkg7TFnvbYcX"
      },
      "execution_count": 15,
      "outputs": [
        {
          "output_type": "execute_result",
          "data": {
            "text/plain": [
              "array([[109.63612, 121.23521]], dtype=float32)"
            ]
          },
          "metadata": {},
          "execution_count": 15
        }
      ]
    },
    {
      "cell_type": "code",
      "source": [
        "X_pred = np.array([280, 290, 300]) # --> 310\n",
        "X_pred = X_pred.reshape((1, X.shape[1]))\n",
        "model.predict(X_pred)"
      ],
      "metadata": {
        "colab": {
          "base_uri": "https://localhost:8080/"
        },
        "outputId": "78431dd0-57c4-4bce-a49c-dd86f17f4d32",
        "id": "EP5nAsf-bYcX"
      },
      "execution_count": 16,
      "outputs": [
        {
          "output_type": "execute_result",
          "data": {
            "text/plain": [
              "array([[312.0683 , 331.48703]], dtype=float32)"
            ]
          },
          "metadata": {},
          "execution_count": 16
        }
      ]
    },
    {
      "cell_type": "code",
      "source": [
        "X_pred = np.array([-70, -60, -50]) # --> -40\n",
        "X_pred = X_pred.reshape((1, X.shape[1]))\n",
        "model.predict(X_pred)"
      ],
      "metadata": {
        "colab": {
          "base_uri": "https://localhost:8080/"
        },
        "outputId": "5b84e7db-55cd-4c38-b9ea-f24c4eaa9aad",
        "id": "OJ8A_UsgbYcY"
      },
      "execution_count": 17,
      "outputs": [
        {
          "output_type": "execute_result",
          "data": {
            "text/plain": [
              "array([[ 5.9791927, 36.7289   ]], dtype=float32)"
            ]
          },
          "metadata": {},
          "execution_count": 17
        }
      ]
    },
    {
      "cell_type": "markdown",
      "source": [
        "# Recurrent Neural Networks\n",
        "\n",
        "![](https://www.researchgate.net/publication/338553148/figure/fig1/AS:846868162551810@1578920512954/Unrolled-recurrent-neural-network-RNN-recurrent-neural-network.ppm)"
      ],
      "metadata": {
        "id": "ANa57QLIMGIg"
      }
    },
    {
      "cell_type": "markdown",
      "source": [
        "* RNN\n",
        "  * Train relatively quickly\n",
        "  * Suffer from short term memory\n",
        "* Challenges\n",
        "  * http://proceedings.mlr.press/v28/pascanu13.pdf\n",
        "  * Vanishing gradients --> Zero\n",
        "  * Exploding gradients --> Infinity (NaN)"
      ],
      "metadata": {
        "id": "b0ZTk0RRrsfr"
      }
    },
    {
      "cell_type": "code",
      "source": [
        "small_error = 0.01\n",
        "large_error = 100\n",
        "\n",
        "print(f'Vanishing {small_error ** 5}')\n",
        "print(f'Exploding {large_error ** 5}')\n"
      ],
      "metadata": {
        "colab": {
          "base_uri": "https://localhost:8080/"
        },
        "id": "PAPABboPosLd",
        "outputId": "26b700f3-9e93-4d60-c90f-399501fa6a23"
      },
      "execution_count": 18,
      "outputs": [
        {
          "output_type": "stream",
          "name": "stdout",
          "text": [
            "Vanishing 1.0000000000000002e-10\n",
            "Exploding 10000000000\n"
          ]
        }
      ]
    },
    {
      "cell_type": "markdown",
      "source": [
        "# LSTM\n",
        "* https://www.researchgate.net/publication/13853244_Long_Short-term_Memory\n",
        "* Long short term memory\n",
        "* How do we avoid vanishing gradients!\n",
        "  * Short term memory\n",
        "  * Long term memory\n",
        "* Key takeaways:\n",
        "  * Long term memory (Ct) can pass through\n",
        "  * LSTM is computationally expensive\n",
        "* Not the only approach\n",
        "  * GRU Gated Recurrent Unit (Faster)\n",
        "\n",
        "![](https://chunml.github.io/images/projects/creating-text-generator-using-recurrent-neural-network/LSTM.png)"
      ],
      "metadata": {
        "id": "WhWDY73aMMBn"
      }
    },
    {
      "cell_type": "markdown",
      "source": [
        "## Data\n",
        "* Our data is in [samples, input_features] shape\n",
        "* We need data in [samples, timesteps, output_features] shape"
      ],
      "metadata": {
        "id": "eNDsC_8Xsf7m"
      }
    },
    {
      "cell_type": "code",
      "source": [
        "series = [10, 20, 30, 40, 50, 60, 70, 80, 90, 100]"
      ],
      "metadata": {
        "id": "6JQyAG3CseBT"
      },
      "execution_count": 19,
      "outputs": []
    },
    {
      "cell_type": "markdown",
      "source": [
        "## Reshape"
      ],
      "metadata": {
        "id": "lGw9M6YZssHZ"
      }
    },
    {
      "cell_type": "markdown",
      "source": [
        "### Input\n",
        "* Input [samples, features]\n",
        "* Input data has 7 samples\n",
        "* Input data has 3 features"
      ],
      "metadata": {
        "id": "5f0vJWwytK89"
      }
    },
    {
      "cell_type": "code",
      "source": [
        "steps = 3\n",
        "X, y = subseries_pythonic(series, k=steps)\n",
        "print(X.shape, y.shape)"
      ],
      "metadata": {
        "colab": {
          "base_uri": "https://localhost:8080/"
        },
        "id": "EB7kFrJUssJ1",
        "outputId": "53b9668f-d086-4642-be00-d0724faa3d24"
      },
      "execution_count": 20,
      "outputs": [
        {
          "output_type": "stream",
          "name": "stdout",
          "text": [
            "(7, 3) (7,)\n"
          ]
        }
      ]
    },
    {
      "cell_type": "markdown",
      "source": [
        "### Output\n",
        "* Reshaped [samples, timesteps, features]\n",
        "* Reshaped data has 7 samples (rows in X)\n",
        "* Reshaped data has 3 timesteps (our input data's features)\n",
        "* Reshaped data has 1 feature (one value of the timestep at a time)"
      ],
      "metadata": {
        "id": "6tLVfbcftD-E"
      }
    },
    {
      "cell_type": "code",
      "source": [
        "features = 1\n",
        "X = X.reshape(X.shape[0], steps, features)\n",
        "print(X.shape, y.shape)"
      ],
      "metadata": {
        "colab": {
          "base_uri": "https://localhost:8080/"
        },
        "id": "swMfAWJZtEFz",
        "outputId": "1909c487-0bc1-47b4-aa9a-b37c2b4e0587"
      },
      "execution_count": 21,
      "outputs": [
        {
          "output_type": "stream",
          "name": "stdout",
          "text": [
            "(7, 3, 1) (7,)\n"
          ]
        }
      ]
    },
    {
      "cell_type": "markdown",
      "source": [
        "## Model\n",
        "* LSTM\n",
        "* Input Shape"
      ],
      "metadata": {
        "id": "hilTYr6LtYX9"
      }
    },
    {
      "cell_type": "code",
      "source": [
        "model = Sequential()\n",
        "model.add(LSTM(50, activation='relu', input_shape=(steps, features)))\n",
        "model.add(Dense(1))\n",
        "model.compile(optimizer='adam', loss='mse')\n",
        "history = model.fit(X, y, epochs=2000, verbose=0)"
      ],
      "metadata": {
        "id": "43ZQeh0otaub"
      },
      "execution_count": 22,
      "outputs": []
    },
    {
      "cell_type": "code",
      "source": [
        "model.summary()"
      ],
      "metadata": {
        "colab": {
          "base_uri": "https://localhost:8080/"
        },
        "id": "IipU2CsLthHu",
        "outputId": "9d3300e0-cef7-40f7-fc5a-7805dc28500f"
      },
      "execution_count": 23,
      "outputs": [
        {
          "output_type": "stream",
          "name": "stdout",
          "text": [
            "Model: \"sequential_2\"\n",
            "_________________________________________________________________\n",
            " Layer (type)                Output Shape              Param #   \n",
            "=================================================================\n",
            " lstm (LSTM)                 (None, 50)                10400     \n",
            "                                                                 \n",
            " dense_4 (Dense)             (None, 1)                 51        \n",
            "                                                                 \n",
            "=================================================================\n",
            "Total params: 10,451\n",
            "Trainable params: 10,451\n",
            "Non-trainable params: 0\n",
            "_________________________________________________________________\n"
          ]
        }
      ]
    },
    {
      "cell_type": "markdown",
      "source": [
        "## Predict"
      ],
      "metadata": {
        "id": "U6SSPoBQtj7V"
      }
    },
    {
      "cell_type": "code",
      "source": [
        "X_pred = np.array([80, 90, 100])\n",
        "X_pred = X_pred.reshape((1, steps, features))\n",
        "y_hat = model.predict(X_pred, verbose=0)\n",
        "y_hat"
      ],
      "metadata": {
        "colab": {
          "base_uri": "https://localhost:8080/"
        },
        "id": "GindfhbYtlER",
        "outputId": "1100ecbc-b400-48bb-c5b1-befa3ed69272"
      },
      "execution_count": 24,
      "outputs": [
        {
          "output_type": "execute_result",
          "data": {
            "text/plain": [
              "array([[110.371826]], dtype=float32)"
            ]
          },
          "metadata": {},
          "execution_count": 24
        }
      ]
    },
    {
      "cell_type": "code",
      "source": [
        "X_pred = np.array([280, 290, 300])\n",
        "X_pred = X_pred.reshape((1, steps, features))\n",
        "y_hat = model.predict(X_pred, verbose=0)\n",
        "y_hat"
      ],
      "metadata": {
        "colab": {
          "base_uri": "https://localhost:8080/"
        },
        "id": "IESPdBBl1QjU",
        "outputId": "476a6c28-b3d4-4c00-ce2b-5b34ccf920f2"
      },
      "execution_count": 25,
      "outputs": [
        {
          "output_type": "execute_result",
          "data": {
            "text/plain": [
              "array([[344.5065]], dtype=float32)"
            ]
          },
          "metadata": {},
          "execution_count": 25
        }
      ]
    },
    {
      "cell_type": "code",
      "source": [
        "X_pred = np.array([-80, -70, -60])\n",
        "X_pred = X_pred.reshape((1, steps, features))\n",
        "y_hat = model.predict(X_pred, verbose=0)\n",
        "y_hat"
      ],
      "metadata": {
        "colab": {
          "base_uri": "https://localhost:8080/"
        },
        "id": "RmgXJHYD1RPP",
        "outputId": "de89ef6d-fe5e-41a8-ab62-21d5ecd3a815"
      },
      "execution_count": 26,
      "outputs": [
        {
          "output_type": "execute_result",
          "data": {
            "text/plain": [
              "array([[3.7892663]], dtype=float32)"
            ]
          },
          "metadata": {},
          "execution_count": 26
        }
      ]
    },
    {
      "cell_type": "markdown",
      "source": [
        "# Convolutions"
      ],
      "metadata": {
        "id": "3abpWmAHMNjh"
      }
    },
    {
      "cell_type": "markdown",
      "source": [
        "### Sliding\n",
        "* Imagine we're sliding a window across the sequence\n",
        "* We look at just the values in the window (size)\n",
        "* Then slide it to the right n positions (stride)"
      ],
      "metadata": {
        "id": "z-72wR-0yNWr"
      }
    },
    {
      "cell_type": "markdown",
      "source": [
        "### Filters\n",
        "* We take the values in the window and multiply by weights\n",
        "* In Conv1D layers, we specify how many filters / kernels / feature maps we want\n",
        "* When you hear filter / kernel / feature map think weights that we learn from data\n",
        "* We randomly initiatlize a filter, but for illustrative purposes I set them\n",
        "  * Identity\n",
        "  * Doubler\n",
        "* After we apply the kernel we sum the weighted values"
      ],
      "metadata": {
        "id": "znO9BB5nyRcE"
      }
    },
    {
      "cell_type": "code",
      "source": [
        "def convolution1D(series, filter1D):\n",
        "    values = []\n",
        "    size = len(filter1D)\n",
        "    for index in range(len(series) - size + 1):\n",
        "        window   = series[index : index + size] \n",
        "        filtered = window * filter1D\n",
        "        summed   = filtered.sum()\n",
        "        print(f'Window {window}  * Filter {filter1D}  = {filtered}  --> Sum {summed}')\n",
        "        values.append(summed)\n",
        "    return values"
      ],
      "metadata": {
        "id": "eMiou9UDtXpZ"
      },
      "execution_count": 27,
      "outputs": []
    },
    {
      "cell_type": "code",
      "source": [
        "# Identity\n",
        "c = convolution1D(series, np.array([1,1,1]))\n",
        "print(f'Convolution: {c}')"
      ],
      "metadata": {
        "colab": {
          "base_uri": "https://localhost:8080/"
        },
        "id": "ZyC1w4O-wO9m",
        "outputId": "7bfd3c9b-ac31-44a3-dcc3-0d493646cf76"
      },
      "execution_count": 28,
      "outputs": [
        {
          "output_type": "stream",
          "name": "stdout",
          "text": [
            "Window [10, 20, 30]  * Filter [1 1 1]  = [10 20 30]  --> Sum 60\n",
            "Window [20, 30, 40]  * Filter [1 1 1]  = [20 30 40]  --> Sum 90\n",
            "Window [30, 40, 50]  * Filter [1 1 1]  = [30 40 50]  --> Sum 120\n",
            "Window [40, 50, 60]  * Filter [1 1 1]  = [40 50 60]  --> Sum 150\n",
            "Window [50, 60, 70]  * Filter [1 1 1]  = [50 60 70]  --> Sum 180\n",
            "Window [60, 70, 80]  * Filter [1 1 1]  = [60 70 80]  --> Sum 210\n",
            "Window [70, 80, 90]  * Filter [1 1 1]  = [70 80 90]  --> Sum 240\n",
            "Window [80, 90, 100]  * Filter [1 1 1]  = [ 80  90 100]  --> Sum 270\n",
            "Convolution: [60, 90, 120, 150, 180, 210, 240, 270]\n"
          ]
        }
      ]
    },
    {
      "cell_type": "markdown",
      "source": [
        "![](https://cdn-images-1.medium.com/max/1600/1*tfESmBDSXnJzBMFxPvqZzg.gif)"
      ],
      "metadata": {
        "id": "CIgZoSHCwR5p"
      }
    },
    {
      "cell_type": "code",
      "source": [
        "# Doubler\n",
        "c = convolution1D(series, np.array([2,2,2]))\n",
        "print(f'Convolution: {c}')"
      ],
      "metadata": {
        "colab": {
          "base_uri": "https://localhost:8080/"
        },
        "id": "WMPKfA4DwVe5",
        "outputId": "9bb06ce9-66b6-4f2b-e1b0-cf4d1d201d2e"
      },
      "execution_count": 29,
      "outputs": [
        {
          "output_type": "stream",
          "name": "stdout",
          "text": [
            "Window [10, 20, 30]  * Filter [2 2 2]  = [20 40 60]  --> Sum 120\n",
            "Window [20, 30, 40]  * Filter [2 2 2]  = [40 60 80]  --> Sum 180\n",
            "Window [30, 40, 50]  * Filter [2 2 2]  = [ 60  80 100]  --> Sum 240\n",
            "Window [40, 50, 60]  * Filter [2 2 2]  = [ 80 100 120]  --> Sum 300\n",
            "Window [50, 60, 70]  * Filter [2 2 2]  = [100 120 140]  --> Sum 360\n",
            "Window [60, 70, 80]  * Filter [2 2 2]  = [120 140 160]  --> Sum 420\n",
            "Window [70, 80, 90]  * Filter [2 2 2]  = [140 160 180]  --> Sum 480\n",
            "Window [80, 90, 100]  * Filter [2 2 2]  = [160 180 200]  --> Sum 540\n",
            "Convolution: [120, 180, 240, 300, 360, 420, 480, 540]\n"
          ]
        }
      ]
    },
    {
      "cell_type": "code",
      "source": [
        "c = convolution1D(series, np.array([0, 0, 1]))"
      ],
      "metadata": {
        "colab": {
          "base_uri": "https://localhost:8080/"
        },
        "id": "Hyd7BS3ZwcVS",
        "outputId": "916d1912-9c73-4e46-972a-71b2149f48ec"
      },
      "execution_count": 30,
      "outputs": [
        {
          "output_type": "stream",
          "name": "stdout",
          "text": [
            "Window [10, 20, 30]  * Filter [0 0 1]  = [ 0  0 30]  --> Sum 30\n",
            "Window [20, 30, 40]  * Filter [0 0 1]  = [ 0  0 40]  --> Sum 40\n",
            "Window [30, 40, 50]  * Filter [0 0 1]  = [ 0  0 50]  --> Sum 50\n",
            "Window [40, 50, 60]  * Filter [0 0 1]  = [ 0  0 60]  --> Sum 60\n",
            "Window [50, 60, 70]  * Filter [0 0 1]  = [ 0  0 70]  --> Sum 70\n",
            "Window [60, 70, 80]  * Filter [0 0 1]  = [ 0  0 80]  --> Sum 80\n",
            "Window [70, 80, 90]  * Filter [0 0 1]  = [ 0  0 90]  --> Sum 90\n",
            "Window [80, 90, 100]  * Filter [0 0 1]  = [  0   0 100]  --> Sum 100\n"
          ]
        }
      ]
    },
    {
      "cell_type": "markdown",
      "source": [
        "## Scipy"
      ],
      "metadata": {
        "id": "waPSRHQQwfBx"
      }
    },
    {
      "cell_type": "code",
      "source": [
        "weights = [1, 1, 1]\n",
        "start = 1\n",
        "end   = len(weights) - start\n",
        "\n",
        "convolve1d(series, weights = weights, origin=start, mode='constant')[: -end]"
      ],
      "metadata": {
        "colab": {
          "base_uri": "https://localhost:8080/"
        },
        "id": "tA0n8wfTwgZR",
        "outputId": "59d00aa3-bd65-4e6b-a3b1-31eafdce8b4a"
      },
      "execution_count": 31,
      "outputs": [
        {
          "output_type": "execute_result",
          "data": {
            "text/plain": [
              "array([ 60,  90, 120, 150, 180, 210, 240, 270])"
            ]
          },
          "metadata": {},
          "execution_count": 31
        }
      ]
    },
    {
      "cell_type": "markdown",
      "source": [
        "## Conv1D"
      ],
      "metadata": {
        "id": "hbCckmffwjY4"
      }
    },
    {
      "cell_type": "code",
      "source": [
        "series = np.array([10, 20, 30, 40, 50, 60, 70, 80, 90, 100])"
      ],
      "metadata": {
        "id": "AIG5anXHxUz7"
      },
      "execution_count": 32,
      "outputs": []
    },
    {
      "cell_type": "markdown",
      "source": [
        "### Reshape"
      ],
      "metadata": {
        "id": "mNRKp5QZxj0W"
      }
    },
    {
      "cell_type": "code",
      "source": [
        "steps = 3\n",
        "X, y = subseries_pythonic(series, k=steps)\n",
        "print(X.shape, y.shape)"
      ],
      "metadata": {
        "colab": {
          "base_uri": "https://localhost:8080/"
        },
        "id": "AZloDZ66xliI",
        "outputId": "5a270cd7-81e1-497c-ed95-0080108221bc"
      },
      "execution_count": 33,
      "outputs": [
        {
          "output_type": "stream",
          "name": "stdout",
          "text": [
            "(7, 3) (7,)\n"
          ]
        }
      ]
    },
    {
      "cell_type": "code",
      "source": [
        "features = 1\n",
        "X = X.reshape(X.shape[0], steps, features)\n",
        "print(X.shape, y.shape)"
      ],
      "metadata": {
        "colab": {
          "base_uri": "https://localhost:8080/"
        },
        "id": "o0ZoFs8lxpKq",
        "outputId": "cff6422e-b735-4857-d251-52760dd492d1"
      },
      "execution_count": 34,
      "outputs": [
        {
          "output_type": "stream",
          "name": "stdout",
          "text": [
            "(7, 3, 1) (7,)\n"
          ]
        }
      ]
    },
    {
      "cell_type": "markdown",
      "source": [
        "### Model"
      ],
      "metadata": {
        "id": "bRjtS-Khxs8j"
      }
    },
    {
      "cell_type": "code",
      "source": [
        "model = Sequential()\n",
        "model.add(Conv1D(32, 2, activation='relu', input_shape=(steps, features)))\n",
        "model.add(Flatten())\n",
        "model.add(Dense(50, activation='relu'))\n",
        "model.add(Dense(1))\n",
        "model.compile(optimizer='adam', loss='mse')\n",
        "history = model.fit(X, y, epochs=2000, verbose=0)"
      ],
      "metadata": {
        "id": "JtW5qaq8xv6D"
      },
      "execution_count": 35,
      "outputs": []
    },
    {
      "cell_type": "code",
      "source": [
        "model.summary()"
      ],
      "metadata": {
        "colab": {
          "base_uri": "https://localhost:8080/"
        },
        "id": "O2Q7qQoZxxwA",
        "outputId": "d3c47edb-b407-444c-9d0f-733ab9041bfb"
      },
      "execution_count": 36,
      "outputs": [
        {
          "output_type": "stream",
          "name": "stdout",
          "text": [
            "Model: \"sequential_3\"\n",
            "_________________________________________________________________\n",
            " Layer (type)                Output Shape              Param #   \n",
            "=================================================================\n",
            " conv1d (Conv1D)             (None, 2, 32)             96        \n",
            "                                                                 \n",
            " flatten (Flatten)           (None, 64)                0         \n",
            "                                                                 \n",
            " dense_5 (Dense)             (None, 50)                3250      \n",
            "                                                                 \n",
            " dense_6 (Dense)             (None, 1)                 51        \n",
            "                                                                 \n",
            "=================================================================\n",
            "Total params: 3,397\n",
            "Trainable params: 3,397\n",
            "Non-trainable params: 0\n",
            "_________________________________________________________________\n"
          ]
        }
      ]
    },
    {
      "cell_type": "markdown",
      "source": [
        "### Predict"
      ],
      "metadata": {
        "id": "WSzV8WPfxzIw"
      }
    },
    {
      "cell_type": "code",
      "source": [
        "X_pred = np.array([80, 90, 100])\n",
        "X_pred = X_pred.reshape((1, steps, features))\n",
        "y_hat = model.predict(X_pred)\n",
        "y_hat"
      ],
      "metadata": {
        "colab": {
          "base_uri": "https://localhost:8080/"
        },
        "id": "-GtHLSP7x2PE",
        "outputId": "8910488f-cd31-42d6-f877-47e3bb04be8a"
      },
      "execution_count": 37,
      "outputs": [
        {
          "output_type": "execute_result",
          "data": {
            "text/plain": [
              "array([[111.05156]], dtype=float32)"
            ]
          },
          "metadata": {},
          "execution_count": 37
        }
      ]
    },
    {
      "cell_type": "code",
      "source": [
        "X_pred = np.array([280, 290, 300])\n",
        "X_pred = X_pred.reshape((1, steps, features))\n",
        "y_hat = model.predict(X_pred)\n",
        "y_hat"
      ],
      "metadata": {
        "colab": {
          "base_uri": "https://localhost:8080/"
        },
        "id": "seQ0RV8u065P",
        "outputId": "ce42ceca-82e4-41b4-a7eb-f89430ad6911"
      },
      "execution_count": 38,
      "outputs": [
        {
          "output_type": "execute_result",
          "data": {
            "text/plain": [
              "array([[342.75183]], dtype=float32)"
            ]
          },
          "metadata": {},
          "execution_count": 38
        }
      ]
    },
    {
      "cell_type": "code",
      "source": [
        "X_pred = np.array([-80, -70, -60])\n",
        "X_pred = X_pred.reshape((1, steps, features))\n",
        "y_hat = model.predict(X_pred)\n",
        "y_hat"
      ],
      "metadata": {
        "colab": {
          "base_uri": "https://localhost:8080/"
        },
        "id": "ChT-DZhp062y",
        "outputId": "ff962fac-133c-480a-d150-222d48c3b9b5"
      },
      "execution_count": 39,
      "outputs": [
        {
          "output_type": "execute_result",
          "data": {
            "text/plain": [
              "array([[35.164097]], dtype=float32)"
            ]
          },
          "metadata": {},
          "execution_count": 39
        }
      ]
    },
    {
      "cell_type": "markdown",
      "source": [
        "# Improving\n",
        "* What helps it learn?\n",
        "* Model complexity or more data?"
      ],
      "metadata": {
        "id": "Kkge6dtp2tQs"
      }
    },
    {
      "cell_type": "code",
      "source": [
        "plt.plot(history.history['loss'])"
      ],
      "metadata": {
        "colab": {
          "base_uri": "https://localhost:8080/",
          "height": 286
        },
        "id": "bplGPOzVx_N2",
        "outputId": "f27362da-6bfb-4dce-ce4a-6ff7d7f75351"
      },
      "execution_count": 40,
      "outputs": [
        {
          "output_type": "execute_result",
          "data": {
            "text/plain": [
              "[<matplotlib.lines.Line2D at 0x7f9b75b6bf90>]"
            ]
          },
          "metadata": {},
          "execution_count": 40
        },
        {
          "output_type": "display_data",
          "data": {
            "text/plain": [
              "<Figure size 432x288 with 1 Axes>"
            ],
            "image/png": "[encoded data removed]"
          },
          "metadata": {
            "needs_background": "light"
          }
        }
      ]
    },
    {
      "cell_type": "markdown",
      "source": [
        "## More Layers"
      ],
      "metadata": {
        "id": "iRovogeO3rqP"
      }
    },
    {
      "cell_type": "code",
      "source": [
        "steps = 3\n",
        "features = 1\n",
        "series = np.array([10, 20, 30, 40, 50, 60, 70, 80, 90, 100])\n",
        "X, y = subseries_pythonic(series, k=steps)\n",
        "X = X.reshape(X.shape[0], steps, features)"
      ],
      "metadata": {
        "id": "tXCms1BQ3wfP"
      },
      "execution_count": 41,
      "outputs": []
    },
    {
      "cell_type": "code",
      "source": [
        "model = Sequential()\n",
        "model.add(Conv1D(32, 2, activation='relu', input_shape=(steps, features)))\n",
        "model.add(Conv1D(64, 2, activation='relu'))\n",
        "model.add(Flatten())\n",
        "model.add(Dense(50, activation='relu'))\n",
        "model.add(Dense(1))\n",
        "model.compile(optimizer='adam', loss='mse')\n",
        "history = model.fit(X, y, epochs=500, verbose=0)"
      ],
      "metadata": {
        "id": "Qo7SFTYd3wfP"
      },
      "execution_count": 42,
      "outputs": []
    },
    {
      "cell_type": "code",
      "source": [
        "X_pred = np.array([80, 90, 100])\n",
        "X_pred = X_pred.reshape((1, steps, features))\n",
        "y_hat = model.predict(X_pred)\n",
        "y_hat"
      ],
      "metadata": {
        "colab": {
          "base_uri": "https://localhost:8080/"
        },
        "outputId": "d47cc373-3bdb-42f7-ddce-d19b4d1999ec",
        "id": "MCqx8sdf3wfP"
      },
      "execution_count": 43,
      "outputs": [
        {
          "output_type": "stream",
          "name": "stdout",
          "text": [
            "WARNING:tensorflow:5 out of the last 13 calls to <function Model.make_predict_function.<locals>.predict_function at 0x7f9b74a30290> triggered tf.function retracing. Tracing is expensive and the excessive number of tracings could be due to (1) creating @tf.function repeatedly in a loop, (2) passing tensors with different shapes, (3) passing Python objects instead of tensors. For (1), please define your @tf.function outside of the loop. For (2), @tf.function has experimental_relax_shapes=True option that relaxes argument shapes that can avoid unnecessary retracing. For (3), please refer to https://www.tensorflow.org/guide/function#controlling_retracing and https://www.tensorflow.org/api_docs/python/tf/function for  more details.\n"
          ]
        },
        {
          "output_type": "execute_result",
          "data": {
            "text/plain": [
              "array([[113.38599]], dtype=float32)"
            ]
          },
          "metadata": {},
          "execution_count": 43
        }
      ]
    },
    {
      "cell_type": "code",
      "source": [
        "X_pred = np.array([580, 590, 600])\n",
        "X_pred = X_pred.reshape((1, steps, features))\n",
        "y_hat = model.predict(X_pred)\n",
        "y_hat"
      ],
      "metadata": {
        "colab": {
          "base_uri": "https://localhost:8080/"
        },
        "outputId": "96aa5c3e-b4c9-4859-9340-caf4d1bedf5f",
        "id": "cx35H0ni3wfQ"
      },
      "execution_count": 44,
      "outputs": [
        {
          "output_type": "execute_result",
          "data": {
            "text/plain": [
              "array([[695.34467]], dtype=float32)"
            ]
          },
          "metadata": {},
          "execution_count": 44
        }
      ]
    },
    {
      "cell_type": "code",
      "source": [
        "X_pred = np.array([12.75, 22.75, 32.75])\n",
        "X_pred = X_pred.reshape((1, steps, features))\n",
        "y_hat = model.predict(X_pred)\n",
        "y_hat"
      ],
      "metadata": {
        "colab": {
          "base_uri": "https://localhost:8080/"
        },
        "outputId": "00fdc76a-2be0-4ff7-a992-f9e95019e6a4",
        "id": "G78W3qeW3wfQ"
      },
      "execution_count": 45,
      "outputs": [
        {
          "output_type": "stream",
          "name": "stdout",
          "text": [
            "WARNING:tensorflow:5 out of the last 12 calls to <function Model.make_predict_function.<locals>.predict_function at 0x7f9b74a30290> triggered tf.function retracing. Tracing is expensive and the excessive number of tracings could be due to (1) creating @tf.function repeatedly in a loop, (2) passing tensors with different shapes, (3) passing Python objects instead of tensors. For (1), please define your @tf.function outside of the loop. For (2), @tf.function has experimental_relax_shapes=True option that relaxes argument shapes that can avoid unnecessary retracing. For (3), please refer to https://www.tensorflow.org/guide/function#controlling_retracing and https://www.tensorflow.org/api_docs/python/tf/function for  more details.\n"
          ]
        },
        {
          "output_type": "execute_result",
          "data": {
            "text/plain": [
              "array([[39.313656]], dtype=float32)"
            ]
          },
          "metadata": {},
          "execution_count": 45
        }
      ]
    },
    {
      "cell_type": "markdown",
      "source": [
        "## More Data"
      ],
      "metadata": {
        "id": "IX9V6soD3MhW"
      }
    },
    {
      "cell_type": "code",
      "source": [
        "steps = 3\n",
        "features = 1\n",
        "series = np.arange(-5000, 5000, 10)\n",
        "X, y = subseries_pythonic(series, k=steps)\n",
        "X = X.reshape(X.shape[0], steps, features)"
      ],
      "metadata": {
        "id": "jug_Xp5z3DHS"
      },
      "execution_count": 46,
      "outputs": []
    },
    {
      "cell_type": "code",
      "source": [
        "model = Sequential()\n",
        "model.add(Conv1D(32, 2, activation='relu', input_shape=(steps, features)))\n",
        "model.add(Conv1D(64, 2, activation='relu'))\n",
        "model.add(Flatten())\n",
        "model.add(Dense(50, activation='relu'))\n",
        "model.add(Dense(1))\n",
        "model.compile(optimizer='adam', loss='mse')\n",
        "history = model.fit(X, y, epochs=2000, verbose=0)"
      ],
      "metadata": {
        "id": "ypMY-3ql3Qcq"
      },
      "execution_count": 47,
      "outputs": []
    },
    {
      "cell_type": "code",
      "source": [
        "X_pred = np.array([80, 90, 100])\n",
        "X_pred = X_pred.reshape((1, steps, features))\n",
        "y_hat = model.predict(X_pred)\n",
        "y_hat"
      ],
      "metadata": {
        "colab": {
          "base_uri": "https://localhost:8080/"
        },
        "outputId": "b443ff97-0baa-427d-88f7-f5db5d567f8b",
        "id": "qlVtZuRN3fDi"
      },
      "execution_count": 48,
      "outputs": [
        {
          "output_type": "execute_result",
          "data": {
            "text/plain": [
              "array([[110.18188]], dtype=float32)"
            ]
          },
          "metadata": {},
          "execution_count": 48
        }
      ]
    },
    {
      "cell_type": "code",
      "source": [
        "X_pred = np.array([5800, 5810, 5820])\n",
        "X_pred = X_pred.reshape((1, steps, features))\n",
        "y_hat = model.predict(X_pred)\n",
        "y_hat"
      ],
      "metadata": {
        "colab": {
          "base_uri": "https://localhost:8080/"
        },
        "outputId": "706d3c53-6214-4508-e17e-42aa033348c5",
        "id": "O27aaRWp3fDj"
      },
      "execution_count": 49,
      "outputs": [
        {
          "output_type": "execute_result",
          "data": {
            "text/plain": [
              "array([[5830.0957]], dtype=float32)"
            ]
          },
          "metadata": {},
          "execution_count": 49
        }
      ]
    },
    {
      "cell_type": "code",
      "source": [
        "X_pred = np.array([-8000, -7990, -7980])\n",
        "X_pred = X_pred.reshape((1, steps, features))\n",
        "y_hat = model.predict(X_pred)\n",
        "y_hat"
      ],
      "metadata": {
        "colab": {
          "base_uri": "https://localhost:8080/"
        },
        "outputId": "23a56aac-149b-49f5-ad78-5f46086dd4c2",
        "id": "hRAaVNMF3fDj"
      },
      "execution_count": 50,
      "outputs": [
        {
          "output_type": "execute_result",
          "data": {
            "text/plain": [
              "array([[-7970.912]], dtype=float32)"
            ]
          },
          "metadata": {},
          "execution_count": 50
        }
      ]
    },
    {
      "cell_type": "markdown",
      "source": [
        "# Summary\n",
        "* Many ways to use neural networks for sequences (time series)\n",
        "  * Focus on buiding sequences (numpy)\n",
        "  * Nets give you flexibility in composition\n",
        "* Feed Forward Network\n",
        "* Recurrent (LSTM)\n",
        "* 1D Convolutional Network"
      ],
      "metadata": {
        "id": "rZSGx0Fbx3-3"
      }
    },
    {
      "cell_type": "code",
      "source": [
        ""
      ],
      "metadata": {
        "id": "-6zEAN9w2QPr"
      },
      "execution_count": 50,
      "outputs": []
    }
  ]
}