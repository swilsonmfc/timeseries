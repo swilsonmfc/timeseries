{
  "nbformat": 4,
  "nbformat_minor": 0,
  "metadata": {
    "colab": {
      "name": "NBeats.ipynb",
      "provenance": [],
      "toc_visible": true,
      "authorship_tag": "ABX9TyOY0t98C3QE2GzapALrt/e9",
      "include_colab_link": true
    },
    "kernelspec": {
      "name": "python3",
      "display_name": "Python 3"
    },
    "language_info": {
      "name": "python"
    },
    "widgets": {
      "application/vnd.jupyter.widget-state+json": {
        "b7520e787b45483cbeaf0038081dd89b": {
          "model_module": "@jupyter-widgets/controls",
          "model_name": "HBoxModel",
          "model_module_version": "1.5.0",
          "state": {
            "_dom_classes": [],
            "_model_module": "@jupyter-widgets/controls",
            "_model_module_version": "1.5.0",
            "_model_name": "HBoxModel",
            "_view_count": null,
            "_view_module": "@jupyter-widgets/controls",
            "_view_module_version": "1.5.0",
            "_view_name": "HBoxView",
            "box_style": "",
            "children": [
              "IPY_MODEL_b84c5b1d22424823963c8c5854254fa2",
              "IPY_MODEL_55116575a3a749deb6bd008a79dec3db",
              "IPY_MODEL_08db262771014aa58a3eee53971282fa"
            ],
            "layout": "IPY_MODEL_193461da6e534510811002b12a3d874c"
          }
        },
        "b84c5b1d22424823963c8c5854254fa2": {
          "model_module": "@jupyter-widgets/controls",
          "model_name": "HTMLModel",
          "model_module_version": "1.5.0",
          "state": {
            "_dom_classes": [],
            "_model_module": "@jupyter-widgets/controls",
            "_model_module_version": "1.5.0",
            "_model_name": "HTMLModel",
            "_view_count": null,
            "_view_module": "@jupyter-widgets/controls",
            "_view_module_version": "1.5.0",
            "_view_name": "HTMLView",
            "description": "",
            "description_tooltip": null,
            "layout": "IPY_MODEL_dc762f28761b4ebda2016638ef6958e8",
            "placeholder": "​",
            "style": "IPY_MODEL_46c9e3ac6a314649a18d9c0455fab7e4",
            "value": "Epoch 99: 100%"
          }
        },
        "55116575a3a749deb6bd008a79dec3db": {
          "model_module": "@jupyter-widgets/controls",
          "model_name": "FloatProgressModel",
          "model_module_version": "1.5.0",
          "state": {
            "_dom_classes": [],
            "_model_module": "@jupyter-widgets/controls",
            "_model_module_version": "1.5.0",
            "_model_name": "FloatProgressModel",
            "_view_count": null,
            "_view_module": "@jupyter-widgets/controls",
            "_view_module_version": "1.5.0",
            "_view_name": "ProgressView",
            "bar_style": "success",
            "description": "",
            "description_tooltip": null,
            "layout": "IPY_MODEL_379575a97eca47ac90df984aa06924e1",
            "max": 3,
            "min": 0,
            "orientation": "horizontal",
            "style": "IPY_MODEL_57c655ac3fcb4b24b1e6a3156eaf8720",
            "value": 3
          }
        },
        "08db262771014aa58a3eee53971282fa": {
          "model_module": "@jupyter-widgets/controls",
          "model_name": "HTMLModel",
          "model_module_version": "1.5.0",
          "state": {
            "_dom_classes": [],
            "_model_module": "@jupyter-widgets/controls",
            "_model_module_version": "1.5.0",
            "_model_name": "HTMLModel",
            "_view_count": null,
            "_view_module": "@jupyter-widgets/controls",
            "_view_module_version": "1.5.0",
            "_view_name": "HTMLView",
            "description": "",
            "description_tooltip": null,
            "layout": "IPY_MODEL_bb3c806d3cee445180ac5c614367d603",
            "placeholder": "​",
            "style": "IPY_MODEL_4b22a05ce6b8489bb37606e011c07507",
            "value": " 3/3 [00:00&lt;00:00,  4.24it/s, loss=0.000634, train_loss=0.00047]"
          }
        },
        "193461da6e534510811002b12a3d874c": {
          "model_module": "@jupyter-widgets/base",
          "model_name": "LayoutModel",
          "model_module_version": "1.2.0",
          "state": {
            "_model_module": "@jupyter-widgets/base",
            "_model_module_version": "1.2.0",
            "_model_name": "LayoutModel",
            "_view_count": null,
            "_view_module": "@jupyter-widgets/base",
            "_view_module_version": "1.2.0",
            "_view_name": "LayoutView",
            "align_content": null,
            "align_items": null,
            "align_self": null,
            "border": null,
            "bottom": null,
            "display": "inline-flex",
            "flex": null,
            "flex_flow": "row wrap",
            "grid_area": null,
            "grid_auto_columns": null,
            "grid_auto_flow": null,
            "grid_auto_rows": null,
            "grid_column": null,
            "grid_gap": null,
            "grid_row": null,
            "grid_template_areas": null,
            "grid_template_columns": null,
            "grid_template_rows": null,
            "height": null,
            "justify_content": null,
            "justify_items": null,
            "left": null,
            "margin": null,
            "max_height": null,
            "max_width": null,
            "min_height": null,
            "min_width": null,
            "object_fit": null,
            "object_position": null,
            "order": null,
            "overflow": null,
            "overflow_x": null,
            "overflow_y": null,
            "padding": null,
            "right": null,
            "top": null,
            "visibility": null,
            "width": "100%"
          }
        },
        "dc762f28761b4ebda2016638ef6958e8": {
          "model_module": "@jupyter-widgets/base",
          "model_name": "LayoutModel",
          "model_module_version": "1.2.0",
          "state": {
            "_model_module": "@jupyter-widgets/base",
            "_model_module_version": "1.2.0",
            "_model_name": "LayoutModel",
            "_view_count": null,
            "_view_module": "@jupyter-widgets/base",
            "_view_module_version": "1.2.0",
            "_view_name": "LayoutView",
            "align_content": null,
            "align_items": null,
            "align_self": null,
            "border": null,
            "bottom": null,
            "display": null,
            "flex": null,
            "flex_flow": null,
            "grid_area": null,
            "grid_auto_columns": null,
            "grid_auto_flow": null,
            "grid_auto_rows": null,
            "grid_column": null,
            "grid_gap": null,
            "grid_row": null,
            "grid_template_areas": null,
            "grid_template_columns": null,
            "grid_template_rows": null,
            "height": null,
            "justify_content": null,
            "justify_items": null,
            "left": null,
            "margin": null,
            "max_height": null,
            "max_width": null,
            "min_height": null,
            "min_width": null,
            "object_fit": null,
            "object_position": null,
            "order": null,
            "overflow": null,
            "overflow_x": null,
            "overflow_y": null,
            "padding": null,
            "right": null,
            "top": null,
            "visibility": null,
            "width": null
          }
        },
        "46c9e3ac6a314649a18d9c0455fab7e4": {
          "model_module": "@jupyter-widgets/controls",
          "model_name": "DescriptionStyleModel",
          "model_module_version": "1.5.0",
          "state": {
            "_model_module": "@jupyter-widgets/controls",
            "_model_module_version": "1.5.0",
            "_model_name": "DescriptionStyleModel",
            "_view_count": null,
            "_view_module": "@jupyter-widgets/base",
            "_view_module_version": "1.2.0",
            "_view_name": "StyleView",
            "description_width": ""
          }
        },
        "379575a97eca47ac90df984aa06924e1": {
          "model_module": "@jupyter-widgets/base",
          "model_name": "LayoutModel",
          "model_module_version": "1.2.0",
          "state": {
            "_model_module": "@jupyter-widgets/base",
            "_model_module_version": "1.2.0",
            "_model_name": "LayoutModel",
            "_view_count": null,
            "_view_module": "@jupyter-widgets/base",
            "_view_module_version": "1.2.0",
            "_view_name": "LayoutView",
            "align_content": null,
            "align_items": null,
            "align_self": null,
            "border": null,
            "bottom": null,
            "display": null,
            "flex": "2",
            "flex_flow": null,
            "grid_area": null,
            "grid_auto_columns": null,
            "grid_auto_flow": null,
            "grid_auto_rows": null,
            "grid_column": null,
            "grid_gap": null,
            "grid_row": null,
            "grid_template_areas": null,
            "grid_template_columns": null,
            "grid_template_rows": null,
            "height": null,
            "justify_content": null,
            "justify_items": null,
            "left": null,
            "margin": null,
            "max_height": null,
            "max_width": null,
            "min_height": null,
            "min_width": null,
            "object_fit": null,
            "object_position": null,
            "order": null,
            "overflow": null,
            "overflow_x": null,
            "overflow_y": null,
            "padding": null,
            "right": null,
            "top": null,
            "visibility": null,
            "width": null
          }
        },
        "57c655ac3fcb4b24b1e6a3156eaf8720": {
          "model_module": "@jupyter-widgets/controls",
          "model_name": "ProgressStyleModel",
          "model_module_version": "1.5.0",
          "state": {
            "_model_module": "@jupyter-widgets/controls",
            "_model_module_version": "1.5.0",
            "_model_name": "ProgressStyleModel",
            "_view_count": null,
            "_view_module": "@jupyter-widgets/base",
            "_view_module_version": "1.2.0",
            "_view_name": "StyleView",
            "bar_color": null,
            "description_width": ""
          }
        },
        "bb3c806d3cee445180ac5c614367d603": {
          "model_module": "@jupyter-widgets/base",
          "model_name": "LayoutModel",
          "model_module_version": "1.2.0",
          "state": {
            "_model_module": "@jupyter-widgets/base",
            "_model_module_version": "1.2.0",
            "_model_name": "LayoutModel",
            "_view_count": null,
            "_view_module": "@jupyter-widgets/base",
            "_view_module_version": "1.2.0",
            "_view_name": "LayoutView",
            "align_content": null,
            "align_items": null,
            "align_self": null,
            "border": null,
            "bottom": null,
            "display": null,
            "flex": null,
            "flex_flow": null,
            "grid_area": null,
            "grid_auto_columns": null,
            "grid_auto_flow": null,
            "grid_auto_rows": null,
            "grid_column": null,
            "grid_gap": null,
            "grid_row": null,
            "grid_template_areas": null,
            "grid_template_columns": null,
            "grid_template_rows": null,
            "height": null,
            "justify_content": null,
            "justify_items": null,
            "left": null,
            "margin": null,
            "max_height": null,
            "max_width": null,
            "min_height": null,
            "min_width": null,
            "object_fit": null,
            "object_position": null,
            "order": null,
            "overflow": null,
            "overflow_x": null,
            "overflow_y": null,
            "padding": null,
            "right": null,
            "top": null,
            "visibility": null,
            "width": null
          }
        },
        "4b22a05ce6b8489bb37606e011c07507": {
          "model_module": "@jupyter-widgets/controls",
          "model_name": "DescriptionStyleModel",
          "model_module_version": "1.5.0",
          "state": {
            "_model_module": "@jupyter-widgets/controls",
            "_model_module_version": "1.5.0",
            "_model_name": "DescriptionStyleModel",
            "_view_count": null,
            "_view_module": "@jupyter-widgets/base",
            "_view_module_version": "1.2.0",
            "_view_name": "StyleView",
            "description_width": ""
          }
        },
        "5b77322319054d728827ae860d740b60": {
          "model_module": "@jupyter-widgets/controls",
          "model_name": "HBoxModel",
          "model_module_version": "1.5.0",
          "state": {
            "_dom_classes": [],
            "_model_module": "@jupyter-widgets/controls",
            "_model_module_version": "1.5.0",
            "_model_name": "HBoxModel",
            "_view_count": null,
            "_view_module": "@jupyter-widgets/controls",
            "_view_module_version": "1.5.0",
            "_view_name": "HBoxView",
            "box_style": "",
            "children": [
              "IPY_MODEL_c7837917dba341d9a61f09857bafc18f",
              "IPY_MODEL_a3cf58814ffd43fb859c5bf9fd793b4d",
              "IPY_MODEL_692716f45044412cb2f072a8c66d2d3e"
            ],
            "layout": "IPY_MODEL_17226680df624ff9af2fb7d443bfc9ba"
          }
        },
        "c7837917dba341d9a61f09857bafc18f": {
          "model_module": "@jupyter-widgets/controls",
          "model_name": "HTMLModel",
          "model_module_version": "1.5.0",
          "state": {
            "_dom_classes": [],
            "_model_module": "@jupyter-widgets/controls",
            "_model_module_version": "1.5.0",
            "_model_name": "HTMLModel",
            "_view_count": null,
            "_view_module": "@jupyter-widgets/controls",
            "_view_module_version": "1.5.0",
            "_view_name": "HTMLView",
            "description": "",
            "description_tooltip": null,
            "layout": "IPY_MODEL_8f16b1eb9e5745bb89d7fdc211032336",
            "placeholder": "​",
            "style": "IPY_MODEL_bd2aeb4597224e3e81d676400aa08b58",
            "value": "Predicting DataLoader 0: 100%"
          }
        },
        "a3cf58814ffd43fb859c5bf9fd793b4d": {
          "model_module": "@jupyter-widgets/controls",
          "model_name": "FloatProgressModel",
          "model_module_version": "1.5.0",
          "state": {
            "_dom_classes": [],
            "_model_module": "@jupyter-widgets/controls",
            "_model_module_version": "1.5.0",
            "_model_name": "FloatProgressModel",
            "_view_count": null,
            "_view_module": "@jupyter-widgets/controls",
            "_view_module_version": "1.5.0",
            "_view_name": "ProgressView",
            "bar_style": "success",
            "description": "",
            "description_tooltip": null,
            "layout": "IPY_MODEL_7f7ece9df5564e43807ef00865360ab2",
            "max": 1,
            "min": 0,
            "orientation": "horizontal",
            "style": "IPY_MODEL_77d637c0def34c26a39a6eeb0db77845",
            "value": 1
          }
        },
        "692716f45044412cb2f072a8c66d2d3e": {
          "model_module": "@jupyter-widgets/controls",
          "model_name": "HTMLModel",
          "model_module_version": "1.5.0",
          "state": {
            "_dom_classes": [],
            "_model_module": "@jupyter-widgets/controls",
            "_model_module_version": "1.5.0",
            "_model_name": "HTMLModel",
            "_view_count": null,
            "_view_module": "@jupyter-widgets/controls",
            "_view_module_version": "1.5.0",
            "_view_name": "HTMLView",
            "description": "",
            "description_tooltip": null,
            "layout": "IPY_MODEL_65beb1d095354cc687b4a427c24375db",
            "placeholder": "​",
            "style": "IPY_MODEL_3f823e9c6b994a46801f693dc74526b8",
            "value": " 1/1 [00:00&lt;00:00, 11.84it/s]"
          }
        },
        "17226680df624ff9af2fb7d443bfc9ba": {
          "model_module": "@jupyter-widgets/base",
          "model_name": "LayoutModel",
          "model_module_version": "1.2.0",
          "state": {
            "_model_module": "@jupyter-widgets/base",
            "_model_module_version": "1.2.0",
            "_model_name": "LayoutModel",
            "_view_count": null,
            "_view_module": "@jupyter-widgets/base",
            "_view_module_version": "1.2.0",
            "_view_name": "LayoutView",
            "align_content": null,
            "align_items": null,
            "align_self": null,
            "border": null,
            "bottom": null,
            "display": "inline-flex",
            "flex": null,
            "flex_flow": "row wrap",
            "grid_area": null,
            "grid_auto_columns": null,
            "grid_auto_flow": null,
            "grid_auto_rows": null,
            "grid_column": null,
            "grid_gap": null,
            "grid_row": null,
            "grid_template_areas": null,
            "grid_template_columns": null,
            "grid_template_rows": null,
            "height": null,
            "justify_content": null,
            "justify_items": null,
            "left": null,
            "margin": null,
            "max_height": null,
            "max_width": null,
            "min_height": null,
            "min_width": null,
            "object_fit": null,
            "object_position": null,
            "order": null,
            "overflow": null,
            "overflow_x": null,
            "overflow_y": null,
            "padding": null,
            "right": null,
            "top": null,
            "visibility": null,
            "width": "100%"
          }
        },
        "8f16b1eb9e5745bb89d7fdc211032336": {
          "model_module": "@jupyter-widgets/base",
          "model_name": "LayoutModel",
          "model_module_version": "1.2.0",
          "state": {
            "_model_module": "@jupyter-widgets/base",
            "_model_module_version": "1.2.0",
            "_model_name": "LayoutModel",
            "_view_count": null,
            "_view_module": "@jupyter-widgets/base",
            "_view_module_version": "1.2.0",
            "_view_name": "LayoutView",
            "align_content": null,
            "align_items": null,
            "align_self": null,
            "border": null,
            "bottom": null,
            "display": null,
            "flex": null,
            "flex_flow": null,
            "grid_area": null,
            "grid_auto_columns": null,
            "grid_auto_flow": null,
            "grid_auto_rows": null,
            "grid_column": null,
            "grid_gap": null,
            "grid_row": null,
            "grid_template_areas": null,
            "grid_template_columns": null,
            "grid_template_rows": null,
            "height": null,
            "justify_content": null,
            "justify_items": null,
            "left": null,
            "margin": null,
            "max_height": null,
            "max_width": null,
            "min_height": null,
            "min_width": null,
            "object_fit": null,
            "object_position": null,
            "order": null,
            "overflow": null,
            "overflow_x": null,
            "overflow_y": null,
            "padding": null,
            "right": null,
            "top": null,
            "visibility": null,
            "width": null
          }
        },
        "bd2aeb4597224e3e81d676400aa08b58": {
          "model_module": "@jupyter-widgets/controls",
          "model_name": "DescriptionStyleModel",
          "model_module_version": "1.5.0",
          "state": {
            "_model_module": "@jupyter-widgets/controls",
            "_model_module_version": "1.5.0",
            "_model_name": "DescriptionStyleModel",
            "_view_count": null,
            "_view_module": "@jupyter-widgets/base",
            "_view_module_version": "1.2.0",
            "_view_name": "StyleView",
            "description_width": ""
          }
        },
        "7f7ece9df5564e43807ef00865360ab2": {
          "model_module": "@jupyter-widgets/base",
          "model_name": "LayoutModel",
          "model_module_version": "1.2.0",
          "state": {
            "_model_module": "@jupyter-widgets/base",
            "_model_module_version": "1.2.0",
            "_model_name": "LayoutModel",
            "_view_count": null,
            "_view_module": "@jupyter-widgets/base",
            "_view_module_version": "1.2.0",
            "_view_name": "LayoutView",
            "align_content": null,
            "align_items": null,
            "align_self": null,
            "border": null,
            "bottom": null,
            "display": null,
            "flex": "2",
            "flex_flow": null,
            "grid_area": null,
            "grid_auto_columns": null,
            "grid_auto_flow": null,
            "grid_auto_rows": null,
            "grid_column": null,
            "grid_gap": null,
            "grid_row": null,
            "grid_template_areas": null,
            "grid_template_columns": null,
            "grid_template_rows": null,
            "height": null,
            "justify_content": null,
            "justify_items": null,
            "left": null,
            "margin": null,
            "max_height": null,
            "max_width": null,
            "min_height": null,
            "min_width": null,
            "object_fit": null,
            "object_position": null,
            "order": null,
            "overflow": null,
            "overflow_x": null,
            "overflow_y": null,
            "padding": null,
            "right": null,
            "top": null,
            "visibility": null,
            "width": null
          }
        },
        "77d637c0def34c26a39a6eeb0db77845": {
          "model_module": "@jupyter-widgets/controls",
          "model_name": "ProgressStyleModel",
          "model_module_version": "1.5.0",
          "state": {
            "_model_module": "@jupyter-widgets/controls",
            "_model_module_version": "1.5.0",
            "_model_name": "ProgressStyleModel",
            "_view_count": null,
            "_view_module": "@jupyter-widgets/base",
            "_view_module_version": "1.2.0",
            "_view_name": "StyleView",
            "bar_color": null,
            "description_width": ""
          }
        },
        "65beb1d095354cc687b4a427c24375db": {
          "model_module": "@jupyter-widgets/base",
          "model_name": "LayoutModel",
          "model_module_version": "1.2.0",
          "state": {
            "_model_module": "@jupyter-widgets/base",
            "_model_module_version": "1.2.0",
            "_model_name": "LayoutModel",
            "_view_count": null,
            "_view_module": "@jupyter-widgets/base",
            "_view_module_version": "1.2.0",
            "_view_name": "LayoutView",
            "align_content": null,
            "align_items": null,
            "align_self": null,
            "border": null,
            "bottom": null,
            "display": null,
            "flex": null,
            "flex_flow": null,
            "grid_area": null,
            "grid_auto_columns": null,
            "grid_auto_flow": null,
            "grid_auto_rows": null,
            "grid_column": null,
            "grid_gap": null,
            "grid_row": null,
            "grid_template_areas": null,
            "grid_template_columns": null,
            "grid_template_rows": null,
            "height": null,
            "justify_content": null,
            "justify_items": null,
            "left": null,
            "margin": null,
            "max_height": null,
            "max_width": null,
            "min_height": null,
            "min_width": null,
            "object_fit": null,
            "object_position": null,
            "order": null,
            "overflow": null,
            "overflow_x": null,
            "overflow_y": null,
            "padding": null,
            "right": null,
            "top": null,
            "visibility": null,
            "width": null
          }
        },
        "3f823e9c6b994a46801f693dc74526b8": {
          "model_module": "@jupyter-widgets/controls",
          "model_name": "DescriptionStyleModel",
          "model_module_version": "1.5.0",
          "state": {
            "_model_module": "@jupyter-widgets/controls",
            "_model_module_version": "1.5.0",
            "_model_name": "DescriptionStyleModel",
            "_view_count": null,
            "_view_module": "@jupyter-widgets/base",
            "_view_module_version": "1.2.0",
            "_view_name": "StyleView",
            "description_width": ""
          }
        },
        "657232948fd14d889b1cf62a43daef94": {
          "model_module": "@jupyter-widgets/controls",
          "model_name": "HBoxModel",
          "model_module_version": "1.5.0",
          "state": {
            "_dom_classes": [],
            "_model_module": "@jupyter-widgets/controls",
            "_model_module_version": "1.5.0",
            "_model_name": "HBoxModel",
            "_view_count": null,
            "_view_module": "@jupyter-widgets/controls",
            "_view_module_version": "1.5.0",
            "_view_name": "HBoxView",
            "box_style": "",
            "children": [
              "IPY_MODEL_321e6096fede4017b91258827386744d",
              "IPY_MODEL_249aaae11e164ef8a38bfe2b7c58faac",
              "IPY_MODEL_17dae432884f4bd0afc24265df473034"
            ],
            "layout": "IPY_MODEL_9b0e90266d0b4e06a3e4c18e6e273ec5"
          }
        },
        "321e6096fede4017b91258827386744d": {
          "model_module": "@jupyter-widgets/controls",
          "model_name": "HTMLModel",
          "model_module_version": "1.5.0",
          "state": {
            "_dom_classes": [],
            "_model_module": "@jupyter-widgets/controls",
            "_model_module_version": "1.5.0",
            "_model_name": "HTMLModel",
            "_view_count": null,
            "_view_module": "@jupyter-widgets/controls",
            "_view_module_version": "1.5.0",
            "_view_name": "HTMLView",
            "description": "",
            "description_tooltip": null,
            "layout": "IPY_MODEL_d73435af62684adb95752f90e25b2785",
            "placeholder": "​",
            "style": "IPY_MODEL_2490df73439442b29b5bd47582334cfb",
            "value": "Epoch 99: 100%"
          }
        },
        "249aaae11e164ef8a38bfe2b7c58faac": {
          "model_module": "@jupyter-widgets/controls",
          "model_name": "FloatProgressModel",
          "model_module_version": "1.5.0",
          "state": {
            "_dom_classes": [],
            "_model_module": "@jupyter-widgets/controls",
            "_model_module_version": "1.5.0",
            "_model_name": "FloatProgressModel",
            "_view_count": null,
            "_view_module": "@jupyter-widgets/controls",
            "_view_module_version": "1.5.0",
            "_view_name": "ProgressView",
            "bar_style": "success",
            "description": "",
            "description_tooltip": null,
            "layout": "IPY_MODEL_05ec25dc0f564af88c3b69779981c87d",
            "max": 3,
            "min": 0,
            "orientation": "horizontal",
            "style": "IPY_MODEL_6ba0aa556aed4ff1994a0f7ba835d322",
            "value": 3
          }
        },
        "17dae432884f4bd0afc24265df473034": {
          "model_module": "@jupyter-widgets/controls",
          "model_name": "HTMLModel",
          "model_module_version": "1.5.0",
          "state": {
            "_dom_classes": [],
            "_model_module": "@jupyter-widgets/controls",
            "_model_module_version": "1.5.0",
            "_model_name": "HTMLModel",
            "_view_count": null,
            "_view_module": "@jupyter-widgets/controls",
            "_view_module_version": "1.5.0",
            "_view_name": "HTMLView",
            "description": "",
            "description_tooltip": null,
            "layout": "IPY_MODEL_601e239380d544a19e351e3d1d906000",
            "placeholder": "​",
            "style": "IPY_MODEL_abc5b17342c24d4fa0ee0c2f297363da",
            "value": " 3/3 [00:00&lt;00:00, 29.75it/s, loss=0.00019, train_loss=0.00017]"
          }
        },
        "9b0e90266d0b4e06a3e4c18e6e273ec5": {
          "model_module": "@jupyter-widgets/base",
          "model_name": "LayoutModel",
          "model_module_version": "1.2.0",
          "state": {
            "_model_module": "@jupyter-widgets/base",
            "_model_module_version": "1.2.0",
            "_model_name": "LayoutModel",
            "_view_count": null,
            "_view_module": "@jupyter-widgets/base",
            "_view_module_version": "1.2.0",
            "_view_name": "LayoutView",
            "align_content": null,
            "align_items": null,
            "align_self": null,
            "border": null,
            "bottom": null,
            "display": "inline-flex",
            "flex": null,
            "flex_flow": "row wrap",
            "grid_area": null,
            "grid_auto_columns": null,
            "grid_auto_flow": null,
            "grid_auto_rows": null,
            "grid_column": null,
            "grid_gap": null,
            "grid_row": null,
            "grid_template_areas": null,
            "grid_template_columns": null,
            "grid_template_rows": null,
            "height": null,
            "justify_content": null,
            "justify_items": null,
            "left": null,
            "margin": null,
            "max_height": null,
            "max_width": null,
            "min_height": null,
            "min_width": null,
            "object_fit": null,
            "object_position": null,
            "order": null,
            "overflow": null,
            "overflow_x": null,
            "overflow_y": null,
            "padding": null,
            "right": null,
            "top": null,
            "visibility": null,
            "width": "100%"
          }
        },
        "d73435af62684adb95752f90e25b2785": {
          "model_module": "@jupyter-widgets/base",
          "model_name": "LayoutModel",
          "model_module_version": "1.2.0",
          "state": {
            "_model_module": "@jupyter-widgets/base",
            "_model_module_version": "1.2.0",
            "_model_name": "LayoutModel",
            "_view_count": null,
            "_view_module": "@jupyter-widgets/base",
            "_view_module_version": "1.2.0",
            "_view_name": "LayoutView",
            "align_content": null,
            "align_items": null,
            "align_self": null,
            "border": null,
            "bottom": null,
            "display": null,
            "flex": null,
            "flex_flow": null,
            "grid_area": null,
            "grid_auto_columns": null,
            "grid_auto_flow": null,
            "grid_auto_rows": null,
            "grid_column": null,
            "grid_gap": null,
            "grid_row": null,
            "grid_template_areas": null,
            "grid_template_columns": null,
            "grid_template_rows": null,
            "height": null,
            "justify_content": null,
            "justify_items": null,
            "left": null,
            "margin": null,
            "max_height": null,
            "max_width": null,
            "min_height": null,
            "min_width": null,
            "object_fit": null,
            "object_position": null,
            "order": null,
            "overflow": null,
            "overflow_x": null,
            "overflow_y": null,
            "padding": null,
            "right": null,
            "top": null,
            "visibility": null,
            "width": null
          }
        },
        "2490df73439442b29b5bd47582334cfb": {
          "model_module": "@jupyter-widgets/controls",
          "model_name": "DescriptionStyleModel",
          "model_module_version": "1.5.0",
          "state": {
            "_model_module": "@jupyter-widgets/controls",
            "_model_module_version": "1.5.0",
            "_model_name": "DescriptionStyleModel",
            "_view_count": null,
            "_view_module": "@jupyter-widgets/base",
            "_view_module_version": "1.2.0",
            "_view_name": "StyleView",
            "description_width": ""
          }
        },
        "05ec25dc0f564af88c3b69779981c87d": {
          "model_module": "@jupyter-widgets/base",
          "model_name": "LayoutModel",
          "model_module_version": "1.2.0",
          "state": {
            "_model_module": "@jupyter-widgets/base",
            "_model_module_version": "1.2.0",
            "_model_name": "LayoutModel",
            "_view_count": null,
            "_view_module": "@jupyter-widgets/base",
            "_view_module_version": "1.2.0",
            "_view_name": "LayoutView",
            "align_content": null,
            "align_items": null,
            "align_self": null,
            "border": null,
            "bottom": null,
            "display": null,
            "flex": "2",
            "flex_flow": null,
            "grid_area": null,
            "grid_auto_columns": null,
            "grid_auto_flow": null,
            "grid_auto_rows": null,
            "grid_column": null,
            "grid_gap": null,
            "grid_row": null,
            "grid_template_areas": null,
            "grid_template_columns": null,
            "grid_template_rows": null,
            "height": null,
            "justify_content": null,
            "justify_items": null,
            "left": null,
            "margin": null,
            "max_height": null,
            "max_width": null,
            "min_height": null,
            "min_width": null,
            "object_fit": null,
            "object_position": null,
            "order": null,
            "overflow": null,
            "overflow_x": null,
            "overflow_y": null,
            "padding": null,
            "right": null,
            "top": null,
            "visibility": null,
            "width": null
          }
        },
        "6ba0aa556aed4ff1994a0f7ba835d322": {
          "model_module": "@jupyter-widgets/controls",
          "model_name": "ProgressStyleModel",
          "model_module_version": "1.5.0",
          "state": {
            "_model_module": "@jupyter-widgets/controls",
            "_model_module_version": "1.5.0",
            "_model_name": "ProgressStyleModel",
            "_view_count": null,
            "_view_module": "@jupyter-widgets/base",
            "_view_module_version": "1.2.0",
            "_view_name": "StyleView",
            "bar_color": null,
            "description_width": ""
          }
        },
        "601e239380d544a19e351e3d1d906000": {
          "model_module": "@jupyter-widgets/base",
          "model_name": "LayoutModel",
          "model_module_version": "1.2.0",
          "state": {
            "_model_module": "@jupyter-widgets/base",
            "_model_module_version": "1.2.0",
            "_model_name": "LayoutModel",
            "_view_count": null,
            "_view_module": "@jupyter-widgets/base",
            "_view_module_version": "1.2.0",
            "_view_name": "LayoutView",
            "align_content": null,
            "align_items": null,
            "align_self": null,
            "border": null,
            "bottom": null,
            "display": null,
            "flex": null,
            "flex_flow": null,
            "grid_area": null,
            "grid_auto_columns": null,
            "grid_auto_flow": null,
            "grid_auto_rows": null,
            "grid_column": null,
            "grid_gap": null,
            "grid_row": null,
            "grid_template_areas": null,
            "grid_template_columns": null,
            "grid_template_rows": null,
            "height": null,
            "justify_content": null,
            "justify_items": null,
            "left": null,
            "margin": null,
            "max_height": null,
            "max_width": null,
            "min_height": null,
            "min_width": null,
            "object_fit": null,
            "object_position": null,
            "order": null,
            "overflow": null,
            "overflow_x": null,
            "overflow_y": null,
            "padding": null,
            "right": null,
            "top": null,
            "visibility": null,
            "width": null
          }
        },
        "abc5b17342c24d4fa0ee0c2f297363da": {
          "model_module": "@jupyter-widgets/controls",
          "model_name": "DescriptionStyleModel",
          "model_module_version": "1.5.0",
          "state": {
            "_model_module": "@jupyter-widgets/controls",
            "_model_module_version": "1.5.0",
            "_model_name": "DescriptionStyleModel",
            "_view_count": null,
            "_view_module": "@jupyter-widgets/base",
            "_view_module_version": "1.2.0",
            "_view_name": "StyleView",
            "description_width": ""
          }
        },
        "d02792063f8549909f478c283eea3e99": {
          "model_module": "@jupyter-widgets/controls",
          "model_name": "HBoxModel",
          "model_module_version": "1.5.0",
          "state": {
            "_dom_classes": [],
            "_model_module": "@jupyter-widgets/controls",
            "_model_module_version": "1.5.0",
            "_model_name": "HBoxModel",
            "_view_count": null,
            "_view_module": "@jupyter-widgets/controls",
            "_view_module_version": "1.5.0",
            "_view_name": "HBoxView",
            "box_style": "",
            "children": [
              "IPY_MODEL_aebbb58a67ef40dba3b4a74346e3a8fa",
              "IPY_MODEL_9a0523161fe94300840172fb77647480",
              "IPY_MODEL_48dc552331cd419d9f7aa623b84bfdfb"
            ],
            "layout": "IPY_MODEL_52ce904d9e7b4c9bb9c5159d70f618ab"
          }
        },
        "aebbb58a67ef40dba3b4a74346e3a8fa": {
          "model_module": "@jupyter-widgets/controls",
          "model_name": "HTMLModel",
          "model_module_version": "1.5.0",
          "state": {
            "_dom_classes": [],
            "_model_module": "@jupyter-widgets/controls",
            "_model_module_version": "1.5.0",
            "_model_name": "HTMLModel",
            "_view_count": null,
            "_view_module": "@jupyter-widgets/controls",
            "_view_module_version": "1.5.0",
            "_view_name": "HTMLView",
            "description": "",
            "description_tooltip": null,
            "layout": "IPY_MODEL_2cde34a4fa6147bab4ef93d3a221aafe",
            "placeholder": "​",
            "style": "IPY_MODEL_a30528b32230408c95e9361d6edb24e3",
            "value": "Predicting DataLoader 0: 100%"
          }
        },
        "9a0523161fe94300840172fb77647480": {
          "model_module": "@jupyter-widgets/controls",
          "model_name": "FloatProgressModel",
          "model_module_version": "1.5.0",
          "state": {
            "_dom_classes": [],
            "_model_module": "@jupyter-widgets/controls",
            "_model_module_version": "1.5.0",
            "_model_name": "FloatProgressModel",
            "_view_count": null,
            "_view_module": "@jupyter-widgets/controls",
            "_view_module_version": "1.5.0",
            "_view_name": "ProgressView",
            "bar_style": "success",
            "description": "",
            "description_tooltip": null,
            "layout": "IPY_MODEL_b1c4910add46455ea333198e9615f203",
            "max": 1,
            "min": 0,
            "orientation": "horizontal",
            "style": "IPY_MODEL_ac46c2ac95c44af1b49a69b3991dfcd0",
            "value": 1
          }
        },
        "48dc552331cd419d9f7aa623b84bfdfb": {
          "model_module": "@jupyter-widgets/controls",
          "model_name": "HTMLModel",
          "model_module_version": "1.5.0",
          "state": {
            "_dom_classes": [],
            "_model_module": "@jupyter-widgets/controls",
            "_model_module_version": "1.5.0",
            "_model_name": "HTMLModel",
            "_view_count": null,
            "_view_module": "@jupyter-widgets/controls",
            "_view_module_version": "1.5.0",
            "_view_name": "HTMLView",
            "description": "",
            "description_tooltip": null,
            "layout": "IPY_MODEL_6c7b208faab9488289d384464bc7ae2a",
            "placeholder": "​",
            "style": "IPY_MODEL_3ccc8206fbda4eea82d6504b37f6094e",
            "value": " 1/1 [00:00&lt;00:00, 30.78it/s]"
          }
        },
        "52ce904d9e7b4c9bb9c5159d70f618ab": {
          "model_module": "@jupyter-widgets/base",
          "model_name": "LayoutModel",
          "model_module_version": "1.2.0",
          "state": {
            "_model_module": "@jupyter-widgets/base",
            "_model_module_version": "1.2.0",
            "_model_name": "LayoutModel",
            "_view_count": null,
            "_view_module": "@jupyter-widgets/base",
            "_view_module_version": "1.2.0",
            "_view_name": "LayoutView",
            "align_content": null,
            "align_items": null,
            "align_self": null,
            "border": null,
            "bottom": null,
            "display": "inline-flex",
            "flex": null,
            "flex_flow": "row wrap",
            "grid_area": null,
            "grid_auto_columns": null,
            "grid_auto_flow": null,
            "grid_auto_rows": null,
            "grid_column": null,
            "grid_gap": null,
            "grid_row": null,
            "grid_template_areas": null,
            "grid_template_columns": null,
            "grid_template_rows": null,
            "height": null,
            "justify_content": null,
            "justify_items": null,
            "left": null,
            "margin": null,
            "max_height": null,
            "max_width": null,
            "min_height": null,
            "min_width": null,
            "object_fit": null,
            "object_position": null,
            "order": null,
            "overflow": null,
            "overflow_x": null,
            "overflow_y": null,
            "padding": null,
            "right": null,
            "top": null,
            "visibility": null,
            "width": "100%"
          }
        },
        "2cde34a4fa6147bab4ef93d3a221aafe": {
          "model_module": "@jupyter-widgets/base",
          "model_name": "LayoutModel",
          "model_module_version": "1.2.0",
          "state": {
            "_model_module": "@jupyter-widgets/base",
            "_model_module_version": "1.2.0",
            "_model_name": "LayoutModel",
            "_view_count": null,
            "_view_module": "@jupyter-widgets/base",
            "_view_module_version": "1.2.0",
            "_view_name": "LayoutView",
            "align_content": null,
            "align_items": null,
            "align_self": null,
            "border": null,
            "bottom": null,
            "display": null,
            "flex": null,
            "flex_flow": null,
            "grid_area": null,
            "grid_auto_columns": null,
            "grid_auto_flow": null,
            "grid_auto_rows": null,
            "grid_column": null,
            "grid_gap": null,
            "grid_row": null,
            "grid_template_areas": null,
            "grid_template_columns": null,
            "grid_template_rows": null,
            "height": null,
            "justify_content": null,
            "justify_items": null,
            "left": null,
            "margin": null,
            "max_height": null,
            "max_width": null,
            "min_height": null,
            "min_width": null,
            "object_fit": null,
            "object_position": null,
            "order": null,
            "overflow": null,
            "overflow_x": null,
            "overflow_y": null,
            "padding": null,
            "right": null,
            "top": null,
            "visibility": null,
            "width": null
          }
        },
        "a30528b32230408c95e9361d6edb24e3": {
          "model_module": "@jupyter-widgets/controls",
          "model_name": "DescriptionStyleModel",
          "model_module_version": "1.5.0",
          "state": {
            "_model_module": "@jupyter-widgets/controls",
            "_model_module_version": "1.5.0",
            "_model_name": "DescriptionStyleModel",
            "_view_count": null,
            "_view_module": "@jupyter-widgets/base",
            "_view_module_version": "1.2.0",
            "_view_name": "StyleView",
            "description_width": ""
          }
        },
        "b1c4910add46455ea333198e9615f203": {
          "model_module": "@jupyter-widgets/base",
          "model_name": "LayoutModel",
          "model_module_version": "1.2.0",
          "state": {
            "_model_module": "@jupyter-widgets/base",
            "_model_module_version": "1.2.0",
            "_model_name": "LayoutModel",
            "_view_count": null,
            "_view_module": "@jupyter-widgets/base",
            "_view_module_version": "1.2.0",
            "_view_name": "LayoutView",
            "align_content": null,
            "align_items": null,
            "align_self": null,
            "border": null,
            "bottom": null,
            "display": null,
            "flex": "2",
            "flex_flow": null,
            "grid_area": null,
            "grid_auto_columns": null,
            "grid_auto_flow": null,
            "grid_auto_rows": null,
            "grid_column": null,
            "grid_gap": null,
            "grid_row": null,
            "grid_template_areas": null,
            "grid_template_columns": null,
            "grid_template_rows": null,
            "height": null,
            "justify_content": null,
            "justify_items": null,
            "left": null,
            "margin": null,
            "max_height": null,
            "max_width": null,
            "min_height": null,
            "min_width": null,
            "object_fit": null,
            "object_position": null,
            "order": null,
            "overflow": null,
            "overflow_x": null,
            "overflow_y": null,
            "padding": null,
            "right": null,
            "top": null,
            "visibility": null,
            "width": null
          }
        },
        "ac46c2ac95c44af1b49a69b3991dfcd0": {
          "model_module": "@jupyter-widgets/controls",
          "model_name": "ProgressStyleModel",
          "model_module_version": "1.5.0",
          "state": {
            "_model_module": "@jupyter-widgets/controls",
            "_model_module_version": "1.5.0",
            "_model_name": "ProgressStyleModel",
            "_view_count": null,
            "_view_module": "@jupyter-widgets/base",
            "_view_module_version": "1.2.0",
            "_view_name": "StyleView",
            "bar_color": null,
            "description_width": ""
          }
        },
        "6c7b208faab9488289d384464bc7ae2a": {
          "model_module": "@jupyter-widgets/base",
          "model_name": "LayoutModel",
          "model_module_version": "1.2.0",
          "state": {
            "_model_module": "@jupyter-widgets/base",
            "_model_module_version": "1.2.0",
            "_model_name": "LayoutModel",
            "_view_count": null,
            "_view_module": "@jupyter-widgets/base",
            "_view_module_version": "1.2.0",
            "_view_name": "LayoutView",
            "align_content": null,
            "align_items": null,
            "align_self": null,
            "border": null,
            "bottom": null,
            "display": null,
            "flex": null,
            "flex_flow": null,
            "grid_area": null,
            "grid_auto_columns": null,
            "grid_auto_flow": null,
            "grid_auto_rows": null,
            "grid_column": null,
            "grid_gap": null,
            "grid_row": null,
            "grid_template_areas": null,
            "grid_template_columns": null,
            "grid_template_rows": null,
            "height": null,
            "justify_content": null,
            "justify_items": null,
            "left": null,
            "margin": null,
            "max_height": null,
            "max_width": null,
            "min_height": null,
            "min_width": null,
            "object_fit": null,
            "object_position": null,
            "order": null,
            "overflow": null,
            "overflow_x": null,
            "overflow_y": null,
            "padding": null,
            "right": null,
            "top": null,
            "visibility": null,
            "width": null
          }
        },
        "3ccc8206fbda4eea82d6504b37f6094e": {
          "model_module": "@jupyter-widgets/controls",
          "model_name": "DescriptionStyleModel",
          "model_module_version": "1.5.0",
          "state": {
            "_model_module": "@jupyter-widgets/controls",
            "_model_module_version": "1.5.0",
            "_model_name": "DescriptionStyleModel",
            "_view_count": null,
            "_view_module": "@jupyter-widgets/base",
            "_view_module_version": "1.2.0",
            "_view_name": "StyleView",
            "description_width": ""
          }
        },
        "2e8dfc84bf2649a9acab0f252a9e9831": {
          "model_module": "@jupyter-widgets/controls",
          "model_name": "HBoxModel",
          "model_module_version": "1.5.0",
          "state": {
            "_dom_classes": [],
            "_model_module": "@jupyter-widgets/controls",
            "_model_module_version": "1.5.0",
            "_model_name": "HBoxModel",
            "_view_count": null,
            "_view_module": "@jupyter-widgets/controls",
            "_view_module_version": "1.5.0",
            "_view_name": "HBoxView",
            "box_style": "",
            "children": [
              "IPY_MODEL_60c45c25d71f448e8de56ebb157b1a2f",
              "IPY_MODEL_7fc29ac22767428ebf46b6861aa99176",
              "IPY_MODEL_60c04b19ae414b3c978f7e18f0e3643c"
            ],
            "layout": "IPY_MODEL_a66ca69cd9b24481b68f6f5ff56f4755"
          }
        },
        "60c45c25d71f448e8de56ebb157b1a2f": {
          "model_module": "@jupyter-widgets/controls",
          "model_name": "HTMLModel",
          "model_module_version": "1.5.0",
          "state": {
            "_dom_classes": [],
            "_model_module": "@jupyter-widgets/controls",
            "_model_module_version": "1.5.0",
            "_model_name": "HTMLModel",
            "_view_count": null,
            "_view_module": "@jupyter-widgets/controls",
            "_view_module_version": "1.5.0",
            "_view_name": "HTMLView",
            "description": "",
            "description_tooltip": null,
            "layout": "IPY_MODEL_574f98e5cfec47e28a00fb053062fbf1",
            "placeholder": "​",
            "style": "IPY_MODEL_d89425210a8c48d489dccacec08f789b",
            "value": "Epoch 99: 100%"
          }
        },
        "7fc29ac22767428ebf46b6861aa99176": {
          "model_module": "@jupyter-widgets/controls",
          "model_name": "FloatProgressModel",
          "model_module_version": "1.5.0",
          "state": {
            "_dom_classes": [],
            "_model_module": "@jupyter-widgets/controls",
            "_model_module_version": "1.5.0",
            "_model_name": "FloatProgressModel",
            "_view_count": null,
            "_view_module": "@jupyter-widgets/controls",
            "_view_module_version": "1.5.0",
            "_view_name": "ProgressView",
            "bar_style": "success",
            "description": "",
            "description_tooltip": null,
            "layout": "IPY_MODEL_e45feb9e77e046f6a3d9dcbd2328e68c",
            "max": 3,
            "min": 0,
            "orientation": "horizontal",
            "style": "IPY_MODEL_6ae37d54a285423a9751852a2302bc6e",
            "value": 3
          }
        },
        "60c04b19ae414b3c978f7e18f0e3643c": {
          "model_module": "@jupyter-widgets/controls",
          "model_name": "HTMLModel",
          "model_module_version": "1.5.0",
          "state": {
            "_dom_classes": [],
            "_model_module": "@jupyter-widgets/controls",
            "_model_module_version": "1.5.0",
            "_model_name": "HTMLModel",
            "_view_count": null,
            "_view_module": "@jupyter-widgets/controls",
            "_view_module_version": "1.5.0",
            "_view_name": "HTMLView",
            "description": "",
            "description_tooltip": null,
            "layout": "IPY_MODEL_4e4cc447d6d54311a085c3f1624de17a",
            "placeholder": "​",
            "style": "IPY_MODEL_3d8071c3bc1b40028a7c19dbee6bb7f2",
            "value": " 3/3 [00:00&lt;00:00,  3.97it/s, loss=0.000566, train_loss=0.000564]"
          }
        },
        "a66ca69cd9b24481b68f6f5ff56f4755": {
          "model_module": "@jupyter-widgets/base",
          "model_name": "LayoutModel",
          "model_module_version": "1.2.0",
          "state": {
            "_model_module": "@jupyter-widgets/base",
            "_model_module_version": "1.2.0",
            "_model_name": "LayoutModel",
            "_view_count": null,
            "_view_module": "@jupyter-widgets/base",
            "_view_module_version": "1.2.0",
            "_view_name": "LayoutView",
            "align_content": null,
            "align_items": null,
            "align_self": null,
            "border": null,
            "bottom": null,
            "display": "inline-flex",
            "flex": null,
            "flex_flow": "row wrap",
            "grid_area": null,
            "grid_auto_columns": null,
            "grid_auto_flow": null,
            "grid_auto_rows": null,
            "grid_column": null,
            "grid_gap": null,
            "grid_row": null,
            "grid_template_areas": null,
            "grid_template_columns": null,
            "grid_template_rows": null,
            "height": null,
            "justify_content": null,
            "justify_items": null,
            "left": null,
            "margin": null,
            "max_height": null,
            "max_width": null,
            "min_height": null,
            "min_width": null,
            "object_fit": null,
            "object_position": null,
            "order": null,
            "overflow": null,
            "overflow_x": null,
            "overflow_y": null,
            "padding": null,
            "right": null,
            "top": null,
            "visibility": null,
            "width": "100%"
          }
        },
        "574f98e5cfec47e28a00fb053062fbf1": {
          "model_module": "@jupyter-widgets/base",
          "model_name": "LayoutModel",
          "model_module_version": "1.2.0",
          "state": {
            "_model_module": "@jupyter-widgets/base",
            "_model_module_version": "1.2.0",
            "_model_name": "LayoutModel",
            "_view_count": null,
            "_view_module": "@jupyter-widgets/base",
            "_view_module_version": "1.2.0",
            "_view_name": "LayoutView",
            "align_content": null,
            "align_items": null,
            "align_self": null,
            "border": null,
            "bottom": null,
            "display": null,
            "flex": null,
            "flex_flow": null,
            "grid_area": null,
            "grid_auto_columns": null,
            "grid_auto_flow": null,
            "grid_auto_rows": null,
            "grid_column": null,
            "grid_gap": null,
            "grid_row": null,
            "grid_template_areas": null,
            "grid_template_columns": null,
            "grid_template_rows": null,
            "height": null,
            "justify_content": null,
            "justify_items": null,
            "left": null,
            "margin": null,
            "max_height": null,
            "max_width": null,
            "min_height": null,
            "min_width": null,
            "object_fit": null,
            "object_position": null,
            "order": null,
            "overflow": null,
            "overflow_x": null,
            "overflow_y": null,
            "padding": null,
            "right": null,
            "top": null,
            "visibility": null,
            "width": null
          }
        },
        "d89425210a8c48d489dccacec08f789b": {
          "model_module": "@jupyter-widgets/controls",
          "model_name": "DescriptionStyleModel",
          "model_module_version": "1.5.0",
          "state": {
            "_model_module": "@jupyter-widgets/controls",
            "_model_module_version": "1.5.0",
            "_model_name": "DescriptionStyleModel",
            "_view_count": null,
            "_view_module": "@jupyter-widgets/base",
            "_view_module_version": "1.2.0",
            "_view_name": "StyleView",
            "description_width": ""
          }
        },
        "e45feb9e77e046f6a3d9dcbd2328e68c": {
          "model_module": "@jupyter-widgets/base",
          "model_name": "LayoutModel",
          "model_module_version": "1.2.0",
          "state": {
            "_model_module": "@jupyter-widgets/base",
            "_model_module_version": "1.2.0",
            "_model_name": "LayoutModel",
            "_view_count": null,
            "_view_module": "@jupyter-widgets/base",
            "_view_module_version": "1.2.0",
            "_view_name": "LayoutView",
            "align_content": null,
            "align_items": null,
            "align_self": null,
            "border": null,
            "bottom": null,
            "display": null,
            "flex": "2",
            "flex_flow": null,
            "grid_area": null,
            "grid_auto_columns": null,
            "grid_auto_flow": null,
            "grid_auto_rows": null,
            "grid_column": null,
            "grid_gap": null,
            "grid_row": null,
            "grid_template_areas": null,
            "grid_template_columns": null,
            "grid_template_rows": null,
            "height": null,
            "justify_content": null,
            "justify_items": null,
            "left": null,
            "margin": null,
            "max_height": null,
            "max_width": null,
            "min_height": null,
            "min_width": null,
            "object_fit": null,
            "object_position": null,
            "order": null,
            "overflow": null,
            "overflow_x": null,
            "overflow_y": null,
            "padding": null,
            "right": null,
            "top": null,
            "visibility": null,
            "width": null
          }
        },
        "6ae37d54a285423a9751852a2302bc6e": {
          "model_module": "@jupyter-widgets/controls",
          "model_name": "ProgressStyleModel",
          "model_module_version": "1.5.0",
          "state": {
            "_model_module": "@jupyter-widgets/controls",
            "_model_module_version": "1.5.0",
            "_model_name": "ProgressStyleModel",
            "_view_count": null,
            "_view_module": "@jupyter-widgets/base",
            "_view_module_version": "1.2.0",
            "_view_name": "StyleView",
            "bar_color": null,
            "description_width": ""
          }
        },
        "4e4cc447d6d54311a085c3f1624de17a": {
          "model_module": "@jupyter-widgets/base",
          "model_name": "LayoutModel",
          "model_module_version": "1.2.0",
          "state": {
            "_model_module": "@jupyter-widgets/base",
            "_model_module_version": "1.2.0",
            "_model_name": "LayoutModel",
            "_view_count": null,
            "_view_module": "@jupyter-widgets/base",
            "_view_module_version": "1.2.0",
            "_view_name": "LayoutView",
            "align_content": null,
            "align_items": null,
            "align_self": null,
            "border": null,
            "bottom": null,
            "display": null,
            "flex": null,
            "flex_flow": null,
            "grid_area": null,
            "grid_auto_columns": null,
            "grid_auto_flow": null,
            "grid_auto_rows": null,
            "grid_column": null,
            "grid_gap": null,
            "grid_row": null,
            "grid_template_areas": null,
            "grid_template_columns": null,
            "grid_template_rows": null,
            "height": null,
            "justify_content": null,
            "justify_items": null,
            "left": null,
            "margin": null,
            "max_height": null,
            "max_width": null,
            "min_height": null,
            "min_width": null,
            "object_fit": null,
            "object_position": null,
            "order": null,
            "overflow": null,
            "overflow_x": null,
            "overflow_y": null,
            "padding": null,
            "right": null,
            "top": null,
            "visibility": null,
            "width": null
          }
        },
        "3d8071c3bc1b40028a7c19dbee6bb7f2": {
          "model_module": "@jupyter-widgets/controls",
          "model_name": "DescriptionStyleModel",
          "model_module_version": "1.5.0",
          "state": {
            "_model_module": "@jupyter-widgets/controls",
            "_model_module_version": "1.5.0",
            "_model_name": "DescriptionStyleModel",
            "_view_count": null,
            "_view_module": "@jupyter-widgets/base",
            "_view_module_version": "1.2.0",
            "_view_name": "StyleView",
            "description_width": ""
          }
        },
        "00ddc75b685f40579b0e9f37554c369b": {
          "model_module": "@jupyter-widgets/controls",
          "model_name": "HBoxModel",
          "model_module_version": "1.5.0",
          "state": {
            "_dom_classes": [],
            "_model_module": "@jupyter-widgets/controls",
            "_model_module_version": "1.5.0",
            "_model_name": "HBoxModel",
            "_view_count": null,
            "_view_module": "@jupyter-widgets/controls",
            "_view_module_version": "1.5.0",
            "_view_name": "HBoxView",
            "box_style": "",
            "children": [
              "IPY_MODEL_ce63af8092804c0f8fe54b3e4ed07b68",
              "IPY_MODEL_024fb4b8537a4e26b2c569f7e6ef1680",
              "IPY_MODEL_df4e1601f6054803ae1831ca56ff8a5a"
            ],
            "layout": "IPY_MODEL_29efd199eb984fdfabba056a9c81f0ae"
          }
        },
        "ce63af8092804c0f8fe54b3e4ed07b68": {
          "model_module": "@jupyter-widgets/controls",
          "model_name": "HTMLModel",
          "model_module_version": "1.5.0",
          "state": {
            "_dom_classes": [],
            "_model_module": "@jupyter-widgets/controls",
            "_model_module_version": "1.5.0",
            "_model_name": "HTMLModel",
            "_view_count": null,
            "_view_module": "@jupyter-widgets/controls",
            "_view_module_version": "1.5.0",
            "_view_name": "HTMLView",
            "description": "",
            "description_tooltip": null,
            "layout": "IPY_MODEL_be5879cd293f482b873164baea35a6d5",
            "placeholder": "​",
            "style": "IPY_MODEL_a85c2a1790b946389f41ac1567f04a60",
            "value": "Predicting DataLoader 0: 100%"
          }
        },
        "024fb4b8537a4e26b2c569f7e6ef1680": {
          "model_module": "@jupyter-widgets/controls",
          "model_name": "FloatProgressModel",
          "model_module_version": "1.5.0",
          "state": {
            "_dom_classes": [],
            "_model_module": "@jupyter-widgets/controls",
            "_model_module_version": "1.5.0",
            "_model_name": "FloatProgressModel",
            "_view_count": null,
            "_view_module": "@jupyter-widgets/controls",
            "_view_module_version": "1.5.0",
            "_view_name": "ProgressView",
            "bar_style": "success",
            "description": "",
            "description_tooltip": null,
            "layout": "IPY_MODEL_e95a488ea00e4340aefe05ec395c3a0f",
            "max": 1,
            "min": 0,
            "orientation": "horizontal",
            "style": "IPY_MODEL_8d5c3203c00045b0ac9b926342a4b06e",
            "value": 1
          }
        },
        "df4e1601f6054803ae1831ca56ff8a5a": {
          "model_module": "@jupyter-widgets/controls",
          "model_name": "HTMLModel",
          "model_module_version": "1.5.0",
          "state": {
            "_dom_classes": [],
            "_model_module": "@jupyter-widgets/controls",
            "_model_module_version": "1.5.0",
            "_model_name": "HTMLModel",
            "_view_count": null,
            "_view_module": "@jupyter-widgets/controls",
            "_view_module_version": "1.5.0",
            "_view_name": "HTMLView",
            "description": "",
            "description_tooltip": null,
            "layout": "IPY_MODEL_5193502149434bf2be690d90fff8573b",
            "placeholder": "​",
            "style": "IPY_MODEL_862e8f9ecd78421d89fa4b279bf7f8c1",
            "value": " 1/1 [00:00&lt;00:00, 10.92it/s]"
          }
        },
        "29efd199eb984fdfabba056a9c81f0ae": {
          "model_module": "@jupyter-widgets/base",
          "model_name": "LayoutModel",
          "model_module_version": "1.2.0",
          "state": {
            "_model_module": "@jupyter-widgets/base",
            "_model_module_version": "1.2.0",
            "_model_name": "LayoutModel",
            "_view_count": null,
            "_view_module": "@jupyter-widgets/base",
            "_view_module_version": "1.2.0",
            "_view_name": "LayoutView",
            "align_content": null,
            "align_items": null,
            "align_self": null,
            "border": null,
            "bottom": null,
            "display": "inline-flex",
            "flex": null,
            "flex_flow": "row wrap",
            "grid_area": null,
            "grid_auto_columns": null,
            "grid_auto_flow": null,
            "grid_auto_rows": null,
            "grid_column": null,
            "grid_gap": null,
            "grid_row": null,
            "grid_template_areas": null,
            "grid_template_columns": null,
            "grid_template_rows": null,
            "height": null,
            "justify_content": null,
            "justify_items": null,
            "left": null,
            "margin": null,
            "max_height": null,
            "max_width": null,
            "min_height": null,
            "min_width": null,
            "object_fit": null,
            "object_position": null,
            "order": null,
            "overflow": null,
            "overflow_x": null,
            "overflow_y": null,
            "padding": null,
            "right": null,
            "top": null,
            "visibility": null,
            "width": "100%"
          }
        },
        "be5879cd293f482b873164baea35a6d5": {
          "model_module": "@jupyter-widgets/base",
          "model_name": "LayoutModel",
          "model_module_version": "1.2.0",
          "state": {
            "_model_module": "@jupyter-widgets/base",
            "_model_module_version": "1.2.0",
            "_model_name": "LayoutModel",
            "_view_count": null,
            "_view_module": "@jupyter-widgets/base",
            "_view_module_version": "1.2.0",
            "_view_name": "LayoutView",
            "align_content": null,
            "align_items": null,
            "align_self": null,
            "border": null,
            "bottom": null,
            "display": null,
            "flex": null,
            "flex_flow": null,
            "grid_area": null,
            "grid_auto_columns": null,
            "grid_auto_flow": null,
            "grid_auto_rows": null,
            "grid_column": null,
            "grid_gap": null,
            "grid_row": null,
            "grid_template_areas": null,
            "grid_template_columns": null,
            "grid_template_rows": null,
            "height": null,
            "justify_content": null,
            "justify_items": null,
            "left": null,
            "margin": null,
            "max_height": null,
            "max_width": null,
            "min_height": null,
            "min_width": null,
            "object_fit": null,
            "object_position": null,
            "order": null,
            "overflow": null,
            "overflow_x": null,
            "overflow_y": null,
            "padding": null,
            "right": null,
            "top": null,
            "visibility": null,
            "width": null
          }
        },
        "a85c2a1790b946389f41ac1567f04a60": {
          "model_module": "@jupyter-widgets/controls",
          "model_name": "DescriptionStyleModel",
          "model_module_version": "1.5.0",
          "state": {
            "_model_module": "@jupyter-widgets/controls",
            "_model_module_version": "1.5.0",
            "_model_name": "DescriptionStyleModel",
            "_view_count": null,
            "_view_module": "@jupyter-widgets/base",
            "_view_module_version": "1.2.0",
            "_view_name": "StyleView",
            "description_width": ""
          }
        },
        "e95a488ea00e4340aefe05ec395c3a0f": {
          "model_module": "@jupyter-widgets/base",
          "model_name": "LayoutModel",
          "model_module_version": "1.2.0",
          "state": {
            "_model_module": "@jupyter-widgets/base",
            "_model_module_version": "1.2.0",
            "_model_name": "LayoutModel",
            "_view_count": null,
            "_view_module": "@jupyter-widgets/base",
            "_view_module_version": "1.2.0",
            "_view_name": "LayoutView",
            "align_content": null,
            "align_items": null,
            "align_self": null,
            "border": null,
            "bottom": null,
            "display": null,
            "flex": "2",
            "flex_flow": null,
            "grid_area": null,
            "grid_auto_columns": null,
            "grid_auto_flow": null,
            "grid_auto_rows": null,
            "grid_column": null,
            "grid_gap": null,
            "grid_row": null,
            "grid_template_areas": null,
            "grid_template_columns": null,
            "grid_template_rows": null,
            "height": null,
            "justify_content": null,
            "justify_items": null,
            "left": null,
            "margin": null,
            "max_height": null,
            "max_width": null,
            "min_height": null,
            "min_width": null,
            "object_fit": null,
            "object_position": null,
            "order": null,
            "overflow": null,
            "overflow_x": null,
            "overflow_y": null,
            "padding": null,
            "right": null,
            "top": null,
            "visibility": null,
            "width": null
          }
        },
        "8d5c3203c00045b0ac9b926342a4b06e": {
          "model_module": "@jupyter-widgets/controls",
          "model_name": "ProgressStyleModel",
          "model_module_version": "1.5.0",
          "state": {
            "_model_module": "@jupyter-widgets/controls",
            "_model_module_version": "1.5.0",
            "_model_name": "ProgressStyleModel",
            "_view_count": null,
            "_view_module": "@jupyter-widgets/base",
            "_view_module_version": "1.2.0",
            "_view_name": "StyleView",
            "bar_color": null,
            "description_width": ""
          }
        },
        "5193502149434bf2be690d90fff8573b": {
          "model_module": "@jupyter-widgets/base",
          "model_name": "LayoutModel",
          "model_module_version": "1.2.0",
          "state": {
            "_model_module": "@jupyter-widgets/base",
            "_model_module_version": "1.2.0",
            "_model_name": "LayoutModel",
            "_view_count": null,
            "_view_module": "@jupyter-widgets/base",
            "_view_module_version": "1.2.0",
            "_view_name": "LayoutView",
            "align_content": null,
            "align_items": null,
            "align_self": null,
            "border": null,
            "bottom": null,
            "display": null,
            "flex": null,
            "flex_flow": null,
            "grid_area": null,
            "grid_auto_columns": null,
            "grid_auto_flow": null,
            "grid_auto_rows": null,
            "grid_column": null,
            "grid_gap": null,
            "grid_row": null,
            "grid_template_areas": null,
            "grid_template_columns": null,
            "grid_template_rows": null,
            "height": null,
            "justify_content": null,
            "justify_items": null,
            "left": null,
            "margin": null,
            "max_height": null,
            "max_width": null,
            "min_height": null,
            "min_width": null,
            "object_fit": null,
            "object_position": null,
            "order": null,
            "overflow": null,
            "overflow_x": null,
            "overflow_y": null,
            "padding": null,
            "right": null,
            "top": null,
            "visibility": null,
            "width": null
          }
        },
        "862e8f9ecd78421d89fa4b279bf7f8c1": {
          "model_module": "@jupyter-widgets/controls",
          "model_name": "DescriptionStyleModel",
          "model_module_version": "1.5.0",
          "state": {
            "_model_module": "@jupyter-widgets/controls",
            "_model_module_version": "1.5.0",
            "_model_name": "DescriptionStyleModel",
            "_view_count": null,
            "_view_module": "@jupyter-widgets/base",
            "_view_module_version": "1.2.0",
            "_view_name": "StyleView",
            "description_width": ""
          }
        }
      }
    }
  },
  "cells": [
    {
      "cell_type": "markdown",
      "metadata": {
        "id": "view-in-github",
        "colab_type": "text"
      },
      "source": [
        "<a href=\"https://colab.research.google.com/github/swilsonmfc/timeseries/blob/master/NBeats.ipynb\" target=\"_parent\"><img src=\"https://colab.research.google.com/assets/colab-badge.svg\" alt=\"Open In Colab\"/></a>"
      ]
    },
    {
      "cell_type": "markdown",
      "source": [
        "# N-BEATS"
      ],
      "metadata": {
        "id": "kSYAUq0vIGt-"
      }
    },
    {
      "cell_type": "markdown",
      "source": [
        "![image.png](data:image/png;base64,iVBORw0KGgoAAAANSUhEUgAAAhUAAAEwCAYAAAAAbYNmAAABQmlDQ1BJQ0MgUHJvZmlsZQAAKJFjYGASSCwoyGFhYGDIzSspCnJ3UoiIjFJgf8bAwSDIwM0gw2CUmFxc4BgQ4ANUwgCjUcG3awyMIPqyLsisw9dXqR1+odNVkWZUKHTi6HNM9SiAKyW1OBlI/wHipOSCohIGBsYEIFu5vKQAxG4BskWKgI4CsmeA2OkQ9hoQOwnCPgBWExLkDGRfAbIFkjMSU4DsJ0C2ThKSeDoSG2ovCHA4G5m7GVsaEHAq6aAktaIERDvnF1QWZaZnlCg4AkMoVcEzL1lPR8HIwMiIgQEU3hDVn2+Aw5FRjAMhlrqDgcGkGSh4EyGW/Y6BYc8iBga+dwgxVX0g/zYDw6G0gsSiRLgDGL+xFKcZG0HY3NsZGFin/f//OZyBgV2TgeHv9f//f2/////vMgYG5lsMDAe+AQBF8mDv+Jul8AAAAFZlWElmTU0AKgAAAAgAAYdpAAQAAAABAAAAGgAAAAAAA5KGAAcAAAASAAAARKACAAQAAAABAAACFaADAAQAAAABAAABMAAAAABBU0NJSQAAAFNjcmVlbnNob3QCXdJfAAAB1mlUWHRYTUw6Y29tLmFkb2JlLnhtcAAAAAAAPHg6eG1wbWV0YSB4bWxuczp4PSJhZG9iZTpuczptZXRhLyIgeDp4bXB0az0iWE1QIENvcmUgNS40LjAiPgogICA8cmRmOlJERiB4bWxuczpyZGY9Imh0dHA6Ly93d3cudzMub3JnLzE5OTkvMDIvMjItcmRmLXN5bnRheC1ucyMiPgogICAgICA8cmRmOkRlc2NyaXB0aW9uIHJkZjphYm91dD0iIgogICAgICAgICAgICB4bWxuczpleGlmPSJodHRwOi8vbnMuYWRvYmUuY29tL2V4aWYvMS4wLyI+CiAgICAgICAgIDxleGlmOlBpeGVsWERpbWVuc2lvbj41MzM8L2V4aWY6UGl4ZWxYRGltZW5zaW9uPgogICAgICAgICA8ZXhpZjpVc2VyQ29tbWVudD5TY3JlZW5zaG90PC9leGlmOlVzZXJDb21tZW50PgogICAgICAgICA8ZXhpZjpQaXhlbFlEaW1lbnNpb24+MzA0PC9leGlmOlBpeGVsWURpbWVuc2lvbj4KICAgICAgPC9yZGY6RGVzY3JpcHRpb24+CiAgIDwvcmRmOlJERj4KPC94OnhtcG1ldGE+CtSgl5oAAEAASURBVHgB7F0HfJPV137SvXdLW8oobSl77w0iezrBgfuvfiKKorgBRRQnLkBBRBBRVBBFQfYeZbUFuhelk+69kvQ7J21KWtI2adM2ae/5/dok73vHuc99k3vuWVdSTgRBAgGBgEBAICAQEAgIBBqJgFEj64vqAgGBgEBAICAQEAgIBBQICKFCPAgCAYGAQEAgIBAQCOgEASFU6ARG0YhAQCAgEBAICAQEAkKoEM+AQEAgIBAQCAgEBAI6QUAIFTqBUTQiEBAICAQEAgIBgYAQKsQzIBAQCAgEBAICAYGAThAQQoVOYBSNCAQEAgIBgYBAQCAghArxDAgEBAICAYGAQEAgoBMEhFChExhFIwIBgYBAQCAgEBAICKFCPAMCAYGAQEAgIBAQCOgEASFU6ARG0YhAQCAgEBAICAQEAkKoEM+AQEAgIBAQCAgEBAI6QUAIFTqBUTQiEBAICAQEAgIBgYAQKsQzIBAQCAgEBAICAYGAThAQQoVOYBSNCAQEAgIBgYBAQCAghArxDAgEBAICAYGAQEAgoBMEhFChExhFIwIBgYBAQCAgEBAICKFCPAMCAYGAQEAgIBAQCOgEASFU6ARG0YhAQCAgEBAICAQEAkKoEM+AQEAgIBAQCAgEBAI6QUAIFTqBUTQiEBAICAQEAgIBgYAQKsQzIBAQCAgEBAICAYGAThAQQoVOYBSNCAQEAgIBgYBAQCAghArxDAgEBAICAYGAQEAgoBMEhFChExhFIwIBgYBAQCAgEBAICKFCPAMCAYGAQEAgIBAQCOgEASFU6ARG0YhAQCAgEBAICAQEAkKoEM+AQEAgIBAQCAgEBAI6QUAIFTqBUTQiEBAICAQEAgIBgYAQKsQzIBAQCAgEBAICAYGAThAQQoVOYBSNCAQEAgIBgUBLIpB+9hzy4+JakgXRNyEgKScSSAgEBAK6QaCwsFDjhoyMjMB/UqlU4zotVdDY2Bgymaylute4XxMTEwWf+v6zJpFIFGMyBD557g3hGd07YjQ6zZyBHq8v1fh5aYmCDXlGTU1NwX+GQCaGwKTgUSBgKAjk5eVpzKqZmRksLCygTR2NG9dxQSsrK2gjMOm4e42bc3BwQEFBgd4LQKYmppCXyw2CTytrK4N4RllAKykt0Xte7e3tUVRYhDJpmcbPta2trRAqNEZLFBQItCIEWFDQlHjHwpoKbepo2rauyzGvhsAnawB4R8e7a30m5o8XQV3yuf56EnbczISXhSl8LczQxdICd7m7wormrqHE/DGmhjD3PEYT4lffeWU8TUxNIDGq0FZpMjdKzZYmZVu6TMOftpbmXPQvENBDBLQxEbBAwQuLNnVaasjMoyHwyXjK5fqvAeBFQpdzfzw7F2+Ex4CkVARmk0VbTn+ERZZMjv/zcm/wY6NczHQ590eyc3BfWByC+3WDh4V5g3lTV1FuIN8nbZ9RflYMhYRQYSgzJfg0CAS0+fFV7la1qdNSIOhyAWzqMTCe+o6pkcRIZ+aP5OIS3B0cAZiaIWhQD9gaGyGBro25FIYz2Xl42sO1wZAzn7qe+50pGUBeAZbF3MA6f+8G86auoraLtbo2mvoa4yknYU/fn9GG4iCiPxqKnKgnEBAICARaGIEy0srcG0YaitIy/NGjC9qZmynMHX7kB2FkZY59BYUKoaCF2azW/X+5+YrPu5LTEFlQVO2e+GD4CAihwvDnUIxAICAQaIMI8I53RWwiojJzsdS3A0Y62lWhwGaLyTZWQGExiqT6E7VTQJFOWSTodHWq4PXtuES9E3qqQBRvGoSAMH80CDZRSSCgHgFLS0v1N9RcZZ8KNoFoU0dNM81yiZ0fDYFPxtTc3FzvFyqlPw0LBg2l0Px8bIxPxihPN7zi5w1TEiRUaYSzA/YmpSEVEvTQ4rlUbYP55D9dzf1V8v2AVI5nOnjirH0edpBQEeHbCf0cbglEqv1r854FKTMyAemKV2361qYs42lGGiV21tSUuI6hkOajMpQRCT4FAi2IgDZffqXnvzZ1Wmpo/INtCHwyPowr29b1mZT+NI3hM4S0ECQ94c3OXjCnMdekgRSGyBRSXIxeDVy0ec51Offn8ypMH8MdbDHN1Qk74lOwODoeRwf1VvRTcwzaftYVryzsldKflP6sCNvq4pq2XFUv3xAeuY6hkBAqDGWmBJ8GgQDnSNCUOPSN81RoU0fTtnVdzlDyVLBGhfNp6LsTnC7yVFzMyFZMs5ekXO0z1IU3t7QWnaQw0+m21g16JJhPFix09YweSiMnTRNjeBFfJjIpHmvfDj/EJ+G/xBSMVjHfNIRZFgQ4T0VjeN2cdBOvJaaSNoVMRhxBQ8LpZBcHrPL2QnsdRapweHZxUbHWeSoagklL1DEcnUpLoCP6FAgIBAQCeopAKCVQ4gXaxUx9pkV7Vq/TQnghXz+cNaW0QB/MLUR7WyuYVmpAXu1I4a40hnfJjNMYU5Cupmh9SjpQVAJ/K0sMI21KH/r7j6JVBp4LxhvRN5BFDrGC6kZAaCrqxkfcFQgIBAQCeocAL8CH2fxhbVmr2YBV5v3IWTOQhAp21WzpH/t83v0Tz3c638qb4UgC0XQ3J/xDC3cuOXHat2AqajZ1xBWVYqiTPXb38lPMOeMclF9AJpob2ETJxTaRduj6oJ4wJ6FIkHoEWvo5U8+VuCoQMFAEtLF9KssqX/V9yIbCpyIHhER3PhV5tBjyImKmRQbE+uaSsykaySlXRQP5VLh30gI92dWxVqGCeRhCWoHAtCwUyWWwI1OGtqTM+qiLuQ/k8FFapNnModrefDdn/EMOpfuzcnFfOxdtWaxWnttVbbvazXo+5LAWoqwMPVUENW6rv50tDvfrjjU3UrA68jrO5ORjPAkejSHGtaF8Nqbf5qgrhIrmQFn00WYQ4MgDTYmd9dherU0dTdvWdTm2AxsCn4ynKe1+jeW3Oy42BJMiUtn7kup7qoM9tvX2g5GOHOaYT6aG8pnJCyAJOz1owatrXobRORPfgSIsSmUYaW2jNQTMp66e0QDWrJAvxRAnh2o8j3V1psRdJvg9MwcPd2yvNY/KCrxImxg3/DlNLSFMab5714LpM508sZo0Fj+lZ2OKh5uyW61fGU9lin5NKyufF03Lt2Q5IVS0JPqi71aHQDF52mtK7KjJgoU2dTRtW9fl+EfNEPhkx9eSkhKdOWruvEmOhWQ+2Et/m2wt8VAjslOqzkljHTUDaVfP1N2s7uenq3nFT/zpjEwMtNRc4FXyynyy86su5v4ALcbs42FP2SRV2zMh7cUY2vkfI41KGh3IZ9tAEwibKviQLtW2lePQ5PUaCTVMvibqn3UOFh/qYo89yTeRSY6bVlSuIcRCYBkJhdocKMZzYCjUMFQMZXSCT4GAQEAg0EAE+ByJjzgSgB0hyYywhFTfMbzb1gO6VsmHLzkU1kXuvBiRFuBCXmFdxZr8Hmf+vEK+CUMpCsWsxmLMGoZ5ZMahVRYncjSPntI101eKKrJ7+tYhfD3B5hnSEO3LzNJ1962mPSFUtJqpFANpqwjwDo3/BOkWgWhauK9n5eFROulzf/cuihDDeZQSmxfIlqZQFirojA+PehIoWVNkhSUtkv+RP0NLPiM3iksVqcRH1RLaOsmRfBTIz2AHhZy2BJ/cZziFebIA5lCHVmA85/sgIfP71Jbhs6WfO036F+YPTVASZQQCGiLA5gxNiU0KvEvTpk7NtmW0wD0QEo25FEs/vxF23prt1vzcWD5rttdUn3XJ51fkPMgL3f91cIe3lQXe6doZ75JQ8Sk57L3ZpUOjhmBEAoGkvOEJja6wmY1MCU5k7qnPz2OinQ3+Tk1HMTk02GjxfPIAFXw28hnldoI4/JUW7pFk5lD3vNsTXwNcHLGPTST0vTCmv4YQf6fUtV9fWyxUHCsohjM5abK/Q23kQHzOoWiVP+ncknTSWLg3IHcFP6OMq3G55r8VtfGjj9drR08fuRU8CQT0HAHbyiyGmrCp/AHUpk7NdpPoNMojaZk4kpOHuZ06wtW8aWyvzKsh2HV5QbC2tm70bjePVPE70jPRjyITerdzVWRUfLW7DXaS3X0NpZZ+lFJLd6N+GkqMJy9kDd2VX6Gdfz/a9dvb1Z/eeqSLE/5OSEU2+Ud41KIpqG0cvAAypo15RrntgOvJCgFttLtbrT4Tj3p54hIl6roiIx8L+4psoLXxpe66hDA1NzNvEK9s6gJ9l0Z6tqu3/jNdOuJPwvO/ghIsdNU+WoW/R4yrNnPP5Q2FhFBhKDMl+DQIBLKzK7IcasKsMqNmbm6F050mdWqWuULCBMjxjRP2PHf5Cr7rRmr6SiqkMxYWRcVhOu0O59Li2BgylIyaDg4OyCNnv8Zm1NxEmRUZ0xf8OiJHZU43+HhheHoWFgaG4Lcevg0OC2yMo2Y2R36Q/d+fFl5NnrdulZv+08kp8JBp9xwwn1Z04mlOToUTY0OeIV48/04lrQ/5f8go42xt35AxliQQk2DwbVQs+nT11rqrctLaFRUXaYRJzcbTSsg8Q4KkN/l71IdpH2Na4Mmk9GF0HB5y0F6wtKeInEI6VE0bR00W6vj3whCoYTomQxiZ4FEg0AYQYLs/k4udNf5KTsflyrMVOJHPUxGx2EMq/C+TKEugII0R4F3reyxU0MIxkcIfVcnb0gL3eLgoUl9fyWu4U+Ee8h04lNEwZ78UWvz4UK7u1haqrNX6vicJBUwt5axZSGaCdHIUnUnPaF3UjnwVOtnb4I+MHOTwGJuRIiq/R73JzFUfsbnpMRLS0ylfRQIJnoKqIyCEiup4iE8CAYNCILjyx/DP7j4Kx70FFKFQQgvO61HxOMQph8kGHErhkPrgXGgowAZTlEJRbgFe8HRVpJOuyffrlK+AcX31esOO7ead+yPXojGP/lj405aiK6MUetQT+aFs15adOUlAOk/PQUvQwWzScpAWYS6ZYeoiVvE/Sv4KijTZpy7BPeAKHg2NwcnK8Nm66vI97ZG81eIV9vkgqi+aRlnjoXbEJ/H7VeJNrcwYyvqt+VUIFa15dsXYWj0CkeyxTmpRX3Iwe8O7PdKy8zHrWiS2kjPhRNpRL+zkrsgSmMzqXT0iXljjiXc20egbfXqDwkhJDb+gluyOfLDUI3TceCA5FZ7JJvOTlhRGqm+U0nzQnByszI2gTRNXODMlUTcNdtXKdvtTuu6rpFlhgbO56fc0MnhQFMqIejQVzNfjlAfkw27emMX5QMhJdh/lCbnnSiSUGrnaeA+isQWTsJXeQA1HOAvnxGO7eqJplP13J+1PbzIr/piUiiQ9+24peWypV+FT0VLIi35bJQKWlnXnDVAdNDvAsae6NnVU6/P7U/SD1p4WDG5jsZ83VtEZCkF0PkFf2vH93K8HjmZm4+sYyqhIfhf+WvBWsx92LmsMn6rtZZM6/AWKoviTTqfksMiO5Bsww9kR99AiPlCDhUe1rZrv2QGSE2A19EjxG6TOPkCOr1NJS+HrWN30odrXcv8utKDQiZbksBdAzn3auNEdonDEigoSrCfHxLleHqpN1/s+hrJj8gLYibJ8akrPdfDEk2nX8Dn1vcK3Y7VqF3LzKfV0Hp72codZDYdAxpP/Gjr3xaShOEBtD6LIDg/7+p1K+dvzrI81nqVX1jwE5eZh7OnLmBtxHSHD+sK0Bn88EBaTHg4Mx3x6xk+TwDW+Ac95CPupmJvBnbJp1hdNw30yfUM+NWNOXMDn9J37hjWFGhLjaUZ9mWgowHCzXMdQSAgVhjJTgk+DQKCoUjWtCbPseMUqX23qqLar8B4nlfaAds5Vbezu2gkbKdztM5+OkFNmyW60+PACdoIWyokkfDSUGsOnsk/m9z+ylz8aGadQcY93Z6dBCY7QoraWrq2NS0DcsH6wqJEcSVlfk1fOVsgZFRvqqPkppWFmx9eXSKioa1548VvY0YMEtgT8S8d2T6BdqybEGPzK/hq0051NuRl2U3KtyKxseKmEJirmlRqrzeP/MC20bM6oi7+avEyxt0ZfZwesIcfdOQ42FLlSIfzG0g79jkshihwSG0nI+72HTzVe2FGThV91ffGJnZwvYwSd5FkbKUwXJKjd26m92jZqq6e83pWe3+UkBC0Pj8MrpIFb1cXrNlw2kgniJgnPFvRdukjPUgI5lTpr4dTIPjSs6ehF/jIlWmTE7WpqjFEkvP9Ez+0i+g52pDnRhPh7X0qbAW0cNXkODIUMR/wxFEQFnwKBZkIgnXdXtAD6qqjBh9KufwNFgCjs6MSHK2eDpDC7cyR8KBerZmKvWjfc9wfXk/DolXDF9R/6+ONn2t1tp0XsxpDeeN+/s2JhO8ULZgtREZ2S+QMt8n504FWvSufGulh5jkwgbHp6ICQGl8hpTxPKoT4iaQGbSQ6gL7Rvp/A12M6ai0piH4sF5EfwWHiM2vliHPNpIR+noT+Fsl0TWnDX+3VS5Ip4lgQ4RTvEy3BaqEkCw4MdPBBHC/KgCyEKk0x9z0oxmVEmX43EXYGhdZomdnLeCaJpzpoJXUp+la8sWD1JOI+kxfsHOh79UFb1KJRUWpzfiiFBkDRcfqShyiPNyC83tXOAzWWTCX2Xeqh8j5T91/e6ojP51xCtaKB/TX3tG+J9IVQY4qwJngUChEAY24GJetXxY8g/yv3t6KTK3MIGOQUqOtDBP1Zlf8mOo6QtCR/UC1MpWZdyJ25Kqt25pB5n58ctlKRJV1RGCzDnm9CUfiA1NqdgfpM0EEre6qrLx3b/S4eMsaJ+Gi2uB0gLU99ifJHmgfuYRVqD3pT6m9N/f0qaJd4tc90PKAfGAcJpX3IG4ilvQk1SREXQmPw1jPxQrc8JvBZ1bo/QzFz8Qjg/EhYLUFTGF/7e+JRCZ3fTSZygcMmHgsLgceEa7rsWhdeir2M3nXVRJucZrKCKyKIYxLM/CV3/hc9HUUM8np8pwsWNIjpcSd3fUGKBaCMlHuNkXw+RAPcnad1KSHjg9l+JiSc8pdhDApMdmdK8aE7eI82RIu+Ehh0m8zNCc9IQoaKnjTUmk5biH5qzsEpnTw27bbXFhFDRaqdWDKy1I6BI1UyD7FKPDXkoL15kCsnWYoHVNXYF9MMPEoIeox26vRpbsiNd6+9kpzCPKMo2koEo+oEfRQu937krOJVdfx6QUlqk3uVzPkjomUCaCk1pAC2YR/rTYkyL2cNXIvCritZBXRv/smMmmaOUfbzNDomECzt87qUF+BsSKiwpAyatmPieFqqaFMWOuUS9LCrMFzXv1/f5BS/SjpDpYzEJFKfIn+NJimS5jxZFpqFkxrgyoEeFkyTxeJx8czaQOWje2UCMIUEjrDLV90qF4JOBByjTKOP1FbUjVRE6lDzEMK80todZYGwksQC3s7u3ApdnyHGz0/kreJkinPaTIDiHMskOJMyIZQzj5F6UGfMUCzwaUmxVNE394aTqmnyXBDWm56NuIIQih7QRaNS1Z+jXDMdQY+hIC/7bBAJOTnWHzamCYCShVM3k4a5NHdX6sQmUUIgW4x7u7cCLcm00lRz71pOzZrTEGP5a8KfaHjuUsgNkQ+n8zYoFcho5JdY23kU+ZXjs7GUEyiVkHtAcR1WeyCCEjylfx0ehUeyUQDtvE9wdFI4fh/TDfDY31EK/s58DLZpfD+4NdxftsiSOJFYT3FzhdfI8XqSU6Tmm5niNds68yNWkbbnX4OrkiA70x/P/LAkH78UmYgkJNLEcOmlrg9jxwzH8zEV8R4v1p/17w5yeESXF5VdEfgxu7w4nMnVpS4zqvsHGmHI0AKMIj28G963GJ9//3YOEhUrKJmHwc9IGfBAShXHnr2IM+ZocJ+fUsVR309D+8IuMw4qgUCSZmqFfDX7WpEUr5mABORA70Y6+sTSDnom8zh3xXXwiXqZ+f6YIJ5D2ZT2NwYmef3ZmHEEOv/yd+IpOPJ3t01mjLiMrTTQj2ntS2nPN/CJUG2bMnvTNw8aIGEwgQYycUNCDNHEbe/ljEJ8VUoP4u6RMflbjVq0f69OA1VqxBW7U/kvUAsyILgUCho5AVpbm9lyOqOCFmjNANoQuc1/0AyrPy0UWL6C1kFc5RQvQ/cPJqRheeRR2LUVrvcze/+qc9WqtUOPGwURK00w8dC6XozaMRjNvtDB8Syr3UQ3gM598A4aSAJFOi7M3aRu2klrfjBbkIXTtkXOXEU8q9KdoMayJFO8sXwghXw/CcpaNZa381RhStY+cHD20lx9mk4/CsqAQxFEWzlU+HapFEiSzOYP8FubSzjav0nfEWCbFBPI3OMymF1psjtDBZZL8PDxPi+NLJFTsiI7FDJWd/kU2D5Ga3664EFly0v40gPpR/b8G9kBPSjOeXc/zakJC2Ts+nTCTzC3/FxGvEChYk7KRnCdzqO4Ma3OsoHn9khbUT1WiSthY8jVH99Ci71JaQpjqLqT5IdIO3T+gJ46Tf4WzmYkCL/7WKSJ+ysowk/wv/iYhMTgpBR3UOE8qDDn0j9hWUDClY2dMTQoLkFVE5qkG0LL2rrjb3hInSENylOb4NM3dy1dC8Wevrre1Zkep1TmjppTmXlOysbExmIyaQqjQdFZFOYGABgg0ZEfRkDq8EAaSir87CSX821hXG660WMLCDKfox66ucvUNrzF1j1EyKebBnRaB2tqxoR/2YbTD208286KyzlpHgXybkKIQKJaT8PBkezewLZ7pGpkn2KnwbVL5x5MZaFlnr6p77B/wIu16Ob/HK74dFCGVtfFXHz6sLTpAu9NHycnyB3JKvUG5KDbSLl0ZzcKRLxwnOYVP5CSSk4DFfb1AIamH03PwLan3u5Npgq/NJhxeovY+Ja3ANIosYR8PzunxI2szyBRgR7vhhvLJfQ+p1Cpo2kYXioz4t48fzpNDalcSFGxprrhue/KV6EBmk5/Ir2IV5Ukxqwx9vEECVD45pC6gMFWKP2oUr8xvTTKhqVVG3KiOgd+/SHP/N0WELKeojKfohFkPeu44MuQCZZv9k+bgLzZBEf97SYDrRxoUDkPlFOJMqm3V7LOuz6bET3/SMvHf88TDwxQyfZAEiyxyJHWg+VJHDe1LXVv6dE34VOjTbAheBAIaIpDP/hElZehuVb8DHP/Q96UfzYsUAdIQey87O357PVHhHKche9WKsb8CO4oOJPs7O2XWRQ/TLpOd5g5r4Aeh2g7j8REdWuVKO/xnydFSKVBwGWf6UT/WuyuGUtsbYpPwBP3gc/QC/6i/SyGhvyfcxExS679AERCNJXMKh91Ci9V88jc4SGaYYcFhCOVkV0R7OHKBBIW+pA1RpSG0844a3hezVDQS1lTufsrbEUILIC/QFc6RsZCTYPiG1y2BSbWdpn7P+RvY74L9G5TE1/7H58pQ2OhZFT+GdbSo08OGe1TGpKzT1K+cmKoj8ckp6mdTuOyQ04HocyYQjwdHUir7NLgw//TdmXoxFF+RIJpFfh+jSVDSFbEA+BBjQpFZ/zUguZmu+GipdoSmoqWQF/0KBBqBwE12fKTFt6cVOWFqQEMpAiSIFjUOwfPQ0m68kbz/V5MTWvt+3ap2hxp0WVVEkc2Tdu2j7SgEsx6awDZoyk2wlXwwptFuXVP6kp0sSbDY2NNPYXIgg0814kX6NwpfXUo76+1ki7+DTvmcSrv170ijwOGKa0m7oSqIVKus5QcWnNgU4EM75JUktIw/fw3/IyHjRBYlgaLFzrpGzgFehGyIv5r0NKnUf6VIhvW0OEpJMOO06+wcuVDLZFk129X157tdHfB2lBF+JG3FKDI7fXYjGZsI134U4TKIBKbmJhZ0DpAQyY6lkSSQ3SDtVDr5FQ0lJ87x5AzsTFizoDaDQndXRcYr2NMmO6km4xnHib6on82kdWNHWJ5jJhawT1BOjX6ksWut1HpH1lpnTIxLrxHQJvNgYzJqJlae49CHfsQ16ZOPv/6OdukxtHuqL1pEFWDWbKwmpzemANqNTq8n0kS1rvJ9KOdwoHbGuTrXyyuPZSzt8o6Q85yUfpRtKflSfZRBOQa+JG1DZ9JSTKa6ZbSIqMuoyfqBdX26oSsJEysoXPJrMiX0pR/838k+b1WPBqU+HtTdf6VrF8qW6YlHQyIVwguXudu9swIDZYZEdXwq2+pPpi0vipbZRIs07/qnkSblK1osdSX8KPup65X5rC/ra3uas6E0t//Qc/IJmRM+IwF0oLsL9lBGVysyMzQX8cJtRg6j/AzxY8rZMcfV0nk3EsZDRgzAexTd8iWZv8bT90OT71Etzd12mZ+12RSVspuEwmJ6hp0qtTvfXk/AMjrzZe/w/hihRZSR8nm5rSM9vCCECj2cFMGS4SKgjTMjZ9bjFMPa1FEic6kyCZAv/WhrUr9X5U74BIUtjqzMpqhsq65X3u2B/SGIjtEOq6iofm1DzfaO0FHhTL0oA6EmvM4jx8Vj5Gg3NCAYD5CgMIl2l/6k0q6ZQlrZz8dkO+ezND7u6MPeevVm1HyWNBMeEh/sIsHla1+K0iAhpCKmQtmi7l7b0wZ1L2lItpEfxaek8ZlKSZoYA6X3f32ZPxeT0PMyRRT0ol3/Ojp2vYwyPnKES3NRXRk1VXl4xMUe51Iok2tEHEUY2eE3yuwqIQfNpsJVtW/lezZnlZaVavSMKeu8Qdqgp0nT4khO05o8m8p6mrzOIxx2c5ZSMrE8TOfwZJMT6TJydrUiQbE/mVu06c+QMmoKoUKTp0OUEQg0AQJSilaYRzbfoZamiqyB5lrsliPJDsyREu4aJhXy5HIkWJwjAYF/fJXq2PqGtZ0TG1F5kBr7ck6FcFFfnZr3j+RQdAsJMupU/DXL8udpdObGJNrp7idzwcdZ8fiYL5IANpTSS0+l3d0YMiG4kAmBd+wc8bEuPkWxkI2k65rSHNpZ819zEPP5CPls8J+2dC8JQDLCn5ODafN8aNtPY8vfyc6nNEfdbSzwN5mgrGqYeBrbflPWZ5+bpqDhpCnh80Q2Ue4SFirWkNMtC7+/9eqn8C0qk9c00jUFF83fphAqmh9z0aNAQIFAHi2IlymCY/+NJLxHTn17aHenSOJTaX+tC6bLLFRQuJymwgGX60pJsM5wum5quMLCW1cPFZ7w35IHO6dAfpkiFD4NjUYa+WRokx2RzSfxlBDojnqOvVblROHsSLt7zpoYQfgcIjPFP5QF8hw5vZ1jfph5hQDGb2g0ZNL5gMI0NT0ISrUvfX/PTrYLOEGWnhOnhQ8a3BP2FIKqjHbRc5abnD3GgaN4dtN3O4SE+fUk/PqS9mI8CWBF9Fy3Vmo+g1drRVCMSyDQQAQcaWcXM2og3iEnQbDj2MUQ7KgnI6Oyq9jCEgzU0mN9JIW7cYbDn+hHrpAdPeuhi2z2IPPHa6SCH1MZBnmaog+0oRgWfijSYgRnidSSeGfem2z0L5IvwYG+/kggrP6m/AqvUP6HJylUcT6dCTGDNBpLKcX08MoQSS27EMV1iEA72pULgaI6oA9zFAgJxxP4jBV6XePdQeONQPWWDOeT0FQYzlwJTg0AAQcHzSMWWHtgbGSMNyi3wSO+neFz9BwdTZ2Jp7v51jnSYtJwsBq1v6MntOnvf77G+IF2+69SSOWrNyyxxq8zHqXTIy0o6ZI6+p0OcOJ4/sd9OGcE/VRQucslMjyixRiDKv0x7qAMkA5aHNWtjh++didloryztpt0nROK2dpqbgapo6kmvcVzbwh5CpTPqDbPWZMCV0fjEhJCLSlDqT7xOtmezELhsQph/k4Sju/o2F7hT2OtZYZRngdDISFUGMpMCT4NAoECUvVrSiakMmZnTc6ux6LIY658EmMiwjMy4GVee9w8ny/Afg5dSb2qTX9dSUBIGdoHP5JtdylFFLxIZ2O8yKeGkhbhLrL/jiafhLvJdm9NwkMR2Xs3k7NkF/KlcKYdFif34eRVh8jRU5s+D7PmhUJEO5CZQpt6mmJYs5wNaWPYAU5OJhF9JmPChIUKQ+CTs742x9w1dr7K6TktIUdNfeP1Yfpeb6Xv2/uUP4W/6yxQFJPDrYxCwjUlSy1PpdW03aYoJ4SKpkBVtNlmESiTau6bz+d+8MKirHOfmwNlYkzEVsq5sKRjxZHK6oC8UpnWuwst8sq66srVdo0dBueRWnYXpSf+j5JM7aXMhzvpR28n9b2YTCpryD+hHTuvkeniSfoh5D5M6fMY8sk4npmHnOIijRzxeGx/5FAGSGrTioSKhvBa2xhqu859Ssm0U19URW31m/M6Z9Q0BD5Vn9HmxKchfclJi9ccz5k2vC2j79DjZKbrQLkpmDfGkwUKbfi0KK99k6ENL81RVggVzYGy6EMgoAEC7D8Ayrb4CZlA2I+gtnwEoRzmSerQzubmGrSqvgg7Q86jHzr+Y2fKAvqR+4dCF1+kEyj5UCw2e7AzpOJI8somRpNZ4XhKBiUTKoN/De9+zlB5gM67+DIxDcm0qE8jH4fBlEGTBZO5Ksl/1HMjrgoEWi8CHPXUnf7aCglHzbYy02Kceo8ACxEL2bGLNAeRlamdazLNAsC3fIYE7f41DSet2UbNzxw1wd77LGDEDOqpOAODBYoxFL/voPJjOJyycjJdIv6UxOdRrKQ8EZ3PB+MpSoN8hRw500lA2UJZK59n4YTeD2+Ak6ay/Vb5KkvBmRNXUe/RVdLrCDh/AwoluTQGZwISKt7XBYpqncpy5WkXsXPjd9iw8UfsvJQCtS66VO/sGbL9q6PEczgbrbkGTl0TLXFNOe7vvqOx/3oSCbqyiJXlIbeIY6iI5Bm4+Pv3+G7DRmzefQHJai0aMsSfOYNotffkuBkQgAhZZXsVrRr0/7YjPhn0NAnmDQUBcy20B5ypkDPlqdZ5nMweX1Nq519JcPjAmQ9Vrk5R5E9RSgv3sz4dKfWD7lWizMsbdAjWQvJSNyXzjAU5kjJx8p3BlIiKNSRnSVPyaOU4370ei7V0rDooVO5TyiB5tyv5ZJC/QDpluQygA5yC6KhuPnLcXEU4qT4i3X5iPBVJxci+rrdUEo+/d1xBl3H96GAw4rMkEQH7L6G03x0Y1cEYSWcP4kJ5L9zZOwT//mOGQb0lCL9+luqQ2jy7C9qPHYtudgWIPnYIweX+mDCuGyzjzmLfFTn6Dk+lOuYVddJd0MfHHuXJh7EvaSBef9gZxz5ciR8+/BL3Jh5HQIkfxg21w80IPv8iC2UyN5gjXYUXOW6cPIyY2KPYbfQ6xvbQPoKnOeeAnRk5WZfy+1Q17kd9YWzqAE+jdAQpcfYsQnREMrJK7dDfLQMHLhai67gR6GJyA2f3B0Ha/w7yMUrC8UNXUdZjHCb4yHD1wHFc9xyOQRGrsPjqA/jynWFwIQFx/8EEDFu6AK4HP8OyXzph09S0yvaGwT41EilZBcikNOEulCom48JBHLUYjPEDPWBRGIcTR8MRc/AIigeMQm/z2p0xhaNmcz5Joi+BgB4hUEZZ87QhTtOsWseTzA425By5PiUdy9XkXthOWQs5NcN8cqhUradNn5qU5TTDlHWJFpqKxZmFCgkv1GSe2UV+GF/ROKMo1n5tbCL6UrbH/f26s7xBVI5yMn84k0DCZ2vwH19rSl65VyUxnlI6A0Smz4mFymjLynwSTmXlGfj3zeUIHDkN5sveQtQ4MxxNGIy75O/jlZhhsMpNosXrDLyf9kNG+GWk3JGGLW/GY8PjZfg5uB0GJH2EZbmTYLwrHKOmmmD9r3aQ5eZU1Fn8BrrTPJWTtig/+hT27TXHtSJ7TDm7Gm8E98Ic4w/xRvxoyDcfQdclwxH7dwQK9p69xctoIxxNGYl7csKQ2J141fLZVs5Jc70q/GnoOHElnzzu7OA92LrZERZ9p6JXwGYEV+J8fcUYnF78F/xfmoS/vg5D3+mWeG95JGZLj+Pi2Ckw/3Yz8tpnIaxzL2Ss+gDF44qw5eYETD3/C050KqU+iih7Zxl9P2R0yFsMTu7bC8sruXCYfgEr3glUtLdyeRzm5G/H730WYWz4P4hMP4DjcYPxoMlyLIl9EeOOf4QrYyaiMCwFnbitstqFChaUDYWE+cNQZkrwaRAI8KKm6R//CDKplueojkWURZHzQ5ynxVv1Hjv1fUbCBi/svpT4SvVeU79nXrmPGXQoU2leIYpLpXg2PE7B/9d0eFY5OR02NQ+atK/AU094qZNfErQU90viEFjki7smT8K0zmUIvJAL77mTMHmKD+TRdHR2GJkecm3RxdkITn0mYsad09CjPJ60VXlIjTiFc0k5KLp+Fdl+MzBp5tN4eoLdrTqukso5IWtZ56GYMPl+LPt2BXqHRCAh6SLO5FjCUVYCi+6TsGAQ51NIq87LpXx0njsVc6f2A3ne6MX81oUpz73yOa0oRwq0IQ/jlaWvYfFkUwRX4SxDeEqZYtwPeSQiLDEJFwMyKCrjJgILumDO5Bl45smJMM2/iegTAUigE3aLBk/HiKzDOBWfAyNHN7h36ALnSkzKbTph6B2Tce+767DaL7qqPSs7Ejgsu2LiA4MpuqscGdfyFXM7c1ZXyMODiR9vzJo8FZN6VuSyqG9sii+bAfwTQoUBTJJgsW0hcBeFoFF6SPxEDpuqFMGJpGhBZ7+LlsoeqUhiRcLF6uuJCCLHzuc6ecBPi7NEVMfTlt/LE47iyxXLsOLLaxjtHI4vPlyNtQlemDXFA9Gfr8YHG6LhOdoDjgOfwCdjb2DNT4nICfwNn6xej7AOo8likoBUMlZIjMqQVuqLTpEb8eE7r+OLM0VVdb7YROHClWRq6wEfn05wtTSB19gh6GxkAlN6lkzcVUwaRu2q8TJ7uhfi1ryPd7dfRE6lAKxsz1BeJTxOc1OYWviojM0Td3am6CYiSadRGNbBBMYmBSiw7IOxntfx3QfL8OraI4i9kYZyCyOYlKYj4tAhOlDPCY7SHGRRLpT0c4dv+UGY2sDdpws6uVhVb8/cXQUmI7gMc1PM7bJvIuExcSzGt4vBNx98gl+vZpPI0XpIQpJdaxpP65kZMRKDRCA1lfL7a0is0uQcALm5FHapQvyVHBMYRs6axbg2pBeUZxOspMiMr8nccJjSIffQMnmOSvMNemtFpzoWFhYimHw6JgVcrWiDnEVjBvWm8FL92Ztw4qM8CrnV91DN6geKyVFAh7WVOzjBhqCUF5CGAvZwtq6ZlKwUedmlsKIzUIzJZbOAdtBmNiYoyjeCnVUZ+UWYwtFOs4ggeVEOcuQ2cLytj+q8GFH4sMTZHbICcg7WczoxaSo8pkyC70uLa+G0+tiqCsmLkJ0jg61jBa755ANhQmfMWEgLkFtsBhvjYuQb2cC84CbyLd3gbCmjeSiCJeV1UeuUWK29ql4Ub3huZXYdYSUpoZBSaje3GBaUBl9tOypVOaEbfwcNgeobiyGMQfAoENAbBLT54iuPPldX55PuPph9NhBzQ2JwalhfGNGBF1/zaZ/kbzHQzVWjszt0CYrSptvbjBYtM9rlkSPmL3SMuIueRXawoyYLavq+V2InXVZ3K/m0slLRGNDiofJJZRqtaGG59dHKqiJzKD0SCrKyu3Wv3ne19kGmEhVejGkxM6XTZYvLVTqut/GWKcDOjHz0ubrvk5Ij1bEpr9GIoTJkqq/MyErXFZjaV8yHozfIVVlBVnWCXb29W/3QO8LdgvPLkP+EqcxUpa9qpW77YEhHn+vPFuM2GMUFgYDhIcCLhDZ/PEJ15cfRWRuv+XVGBO1gX46IRVgBhXFSyusl7Vy4gto66trR9TUrciSdQI6ZkymB1mQniixoQV7U9a18YtTda9ZryWdxKChLgY889AgORJdWw6qCTxniTp5EpLQx8ylF9JGjCFe0kYXAwwFIIQdbHmtpWDCuXjtNzoHV+9YGB3XPJwop1HX/QVxKKkJJ2FWEFlUIR9q02xRltZ77euaogkdpA+eo9nnhdtXhWhcmyrEZwqvQVBjCLAkeDQYBThGtKfHun3dXtdVZRAt3MIWPbomKx5bKg8bupdDN2spr2m9DyqnyuaWbN2lOKBKSUg3rG3E4oSIFMjm1tiTJgnfjx8v3Y4ifOcqObsP39j0wRB6OA0FS9JowGI5pcUjMzEcm+aU4RJ/F3qhMlEvs0HlYL1gEH8FF9MAdg2yQEp6CtJgbMB48gTRUlX4AeelIyc9FUpopfHsU4pct/2HEwMHoUHYE68n34nVqo0gagY3bTmOsfzS2pt9EYic3DL+zH5xTg3A4sBB+Y4bAjsMdyZxi28MNmccvo6DbKIzoqNylU76R1DwUkV+Pdf/hcJIpn+s87Ht9Gc72G47CDXsw6c1eCPi2EK/+r1e9Kvymng9elEspTbem34/65sgmifEh08htczQAXhkXq+aSy6XejEGcxQDc2c+9AgdpuPp5IRD4e19cVKxVRk3WahoKGQ6nhoKo4FMgoCME2BnzazqBcwiFbqbn5MOSTA0dLDSzmeuIBbXN1JbpU23hNnuRkhqdXIcV6baQR0VBNu0/vLsqBkMp7HPViuu4q2gHhRq+gFGh+2Da6V443DyDrdsL8dADu7E7fhDmyD/Cm/HDIN12GcOfaIf9n5Tgh49mEZpyJPzwJl7IGYoxcafw73MTEBMVgZvvLsM/OaGI93hNcY4MwvYhwm4qFiAQUSEpmJS2A+8V3I12hy6jzzRLfPj+DczO/wU7+zyHaX9twNWBU2CzahUSP16Fe20ptDF2G5a+kYJxw5Jx5HgaZhadQHAhhRRLHNH93pcx5fK3+MLEE+6dR8Ix6mcESntikEntIZH6+RjUPUezC34lfJ7H6PDqc/TkVynY9OG1qrmckfsbDox5BO3/+wSF33yMuy0lkOSTlkjdvOgnEDrlSpg/dAqnaEwgoFsErGiHcqCnryKMdBlpLloq6kO3o2oLrRnBbdSzWPbuu3hrsi9MMkKQ5z8bU6ZMgW9pHCRW3XDnQ8PgRIKjhOY192wShr7/KkVxFML7rimYOtUX5TF5sPYfjdkTB8OtPK8StEJcTHLG/CXz0cPNBZ1TI2B210qspH4W9/GAS9+uYH2GLPkmCh0oSogcDP0nzsWUvq6Q3whCeFIyLl8g7YM9qeCt/DFxXifciExE6qULyLK1p8WwQsNTcikBDg+/hEe6e8K1vS+63zkTs2bNwuzZI+FRXIqeD7yAey1I85LmQKGV2UhRm6ZT3+e57jlS4PPg0Bpz9CbGp4VWn0tbX4yaNRFDXIyQTXIXkywwRO28VNxt3f+FpqJ1z68YXTMjoI1DFZdls0J9ddrTCYU3h/Vr5pFU704TPqvXaLlP7ASptFu3GBfGtGuXGNERKkaQ0xyXuw+Hx+FvsPojYyR2vhf9U/6FhPxTKJME8ja9gc3X3TB518+43tMVMWs+woeSm2j/wARk7uasqyR4UFuK56QkHMHwwZNm17FN1g4jIuIRNLQdZT8tQ1CYDN1nWCvKSbp0gM21ZJRTOAn3Y1RObbiMwvCOOykkshCFFh4wlgRBYtoJE4Z6IybfFPnF5vB0NqX6ZQi5JoXPs5aI/rEIHnem4drlQOSSHCKx8oBp4E7sPu1NiZ86YLZ9BkJM3DHRnPlsMbSrOtbqOa1njvok7aEpNK4xRz/i4Pwh8Lh2ay57JO6heaZyNM8830ZG5Ui5kgXbwbfPi5JRI54TuR4ApmRIh68ipFSHYIqmBAJsz9eUOKMihz86Oip9yjWt2fzl+AezxRdqDYadlpYGV1fXqpJJSUn49ddfMW/ePHh4eFRdb5E3sgKkZ5XD0cWm6rA4dZjK8zOQSUYMF5uaIaVacC27gZ9W/YkebyzEAF48lUS+EVnZMtg5c/ikkuQoysqG1N4JtmrWuZs3b8LNzU1ZmF5LkJWcC5N2rrC99i3eOT8Oyx73V2lPpWgTvf34448xZfIU9O7Tu6qHf4aNROfZs9Dz9aVV11JSUhTzP2fOHHTq1Knqeq1vVOboFj5qStdTLjQ0FMeOHcM999wDFxdyrlah9PR0ODk5KYQ/lct1vmVB2ZTyYxgCCaHCEGZJ8NgqESgtLUU2nexZ/Qe7VQ612QaVRNkR+Ujx7du348cff0RMTIzCce9KcDC6d+/RbHzoQ0flN2/ghr0XOtZxpoQmfCYkJsCrvZfaoiUJ15Hm0RFeqoKL2pK6vWhSeZaMl5cX7rvvPixYsADRjz0J37lz4PbUE9i2bRu2bt2KsLAwlJSUIOBcAAYMGKBbJupobf+B/Zg2jVKvk+Nw79698cgjjygEWxYwkpOT4ebqRgm36hRb6mhdv28JoUK/50dwJxAQCGiIAJ/5sHLlSrxL/gWqZGlpqYgIqc/MpFpHvNdvBDgagoUFVRpBC3X3Xj3x/ZEjqpdhY2ODAgrJbs755xwknLCqZmK7NWvWYNGiRQpTSTUmW9EHIVS0oskUQxEICAQAVtf/8ssv2LJlC65evapYfEJCQkhT0V3A0wAEDlGK6qVLl+LChQsNqN00Vdgcx+Tt7Y358+crNBXX5j+k0FR4Pvt01fwHk4aKhY+LFy82r6Zi/35MnjxZoakYPHgwHn30UYUpxN7evmkA0aNWhaOmHk2GYEUgIBBoPAJsTuLdIP+xjwULGIbgt9L4kbedFj777DOFecHf379q0Ncq37GJYeHChYo/9l/47bffqvnZVFVowjcdO3bExo0b24wgoQqlECpU0RDvBQICgVaFADttPv/8861qTGIwwOLFtZ3vUR0dFjCeffbZ6heb4VO3bt3Af22R1Pj6tkUYxJgFAgIBgYBAQCAgEGgsAkKoaCyCor5AQCAgEBAICAQEAgoEhFAhHgSBgEBAICAQEAgIBHSCgBAqdAKjaEQgIBAQCAgEBAICASFUiGdAICAQEAgIBAQCAgGdICCECp3AKBoRCAgEBAICAYGAQEAIFeIZEAgIBAQCAgGBgEBAJwgIoUInMIpGBAICAYGAQEAgIBAQQoV4BgQCAgGBgEBAICAQ0AkCQqjQCYyiEYGAQEAgIBAQCAgEhFAhngGBgEBAICAQEAgIBHSCgBAqdAKjaEQgIBAQCAgEBAICASFUiGdAINCGECgK+QtfvPse1uy+hlxIkZtTWPvopbE4eeo6ZKol8q7g4MkE1St1vpfm5qCOHuqsK24KBAQChoeAECoMb84ExwKBhiFQdhHvrTyOPv97AsPOvo9Xf/0Zzz+2HKczsxF16Hf8ejAEOdRyacwp/LHzBGKzz+P334JQmhOFy1F8h+jmQfzw2xVkRF5D8Ik/8eeFJEiTwnH53AH8wfXlqQgLvwm5PB2RoVew+/8ex9KAtOqCSUVLbeO/PAknjgTVL1hVE+BkiDx+EvHyeiCqVqeWslTm+PEo9TcTz+B4ZKn6e230amnEfqz/4D18vP0c0uRSXD9xAhHVpOo65kZ6HSdOKLGmuod/w4HrZTpCsp4NgI560UUzQqjQBYqiDYGAISBg7IGB7glY98YH+KfTY3h1sBmkUimKg37Gj0HmsP73PSz9cxteev1foOQQvv4pAeV5F/DJqxsQZmGtMsIyHFmxCJ9FS3Fp1XLs2LUC/9uWCsuzH2DR939gzedHUVx8Cl98dQwymQyykvpWR5WmW9vbsgj8vvkgMpQQlCTgzK5dOHad9TclSDy1G3+cjCW8LtwS4CJTcebnH7Fn/y78F55N5fI1FPrkyAi9hgRZLiIDI5EjTUM4tVVYVFJdCKT2Yg7vwr9/bcXPpwpRFn8Gu3aREFksu71+RFprm5HaxxO3GQvfvQz/h57ApJvr8eJ34Qj85RecLi1Xwaio9rkpDcSOX84r2i9P3o/3P/oLqSitmuMiErSjrgXj3CXS/iVewJ4/jyO6oBwojsOpP3ZWPBN5kTjy22/YH8bzLkfm5b34Zc9FpN74s3IDIK2dfz25Y6InfAg2BAICgaZGoDQdlpNXYvs4ewR/sRBL/rwXPl6d4WdchO1hR3EqOwdFsUGQ9ZiP2ff7YHj0Tizd/g/CutyB6e7G1bgzsuuGO+6fDrezBxEjcUKfqXMwrUMSdv6cDYnEhcpKIZPboJNne3T2d0X12tWaakMfsvDnktcRMG4OLF57BZGTzHDw+nDMl7+D52NGwyovgQS4U/B96w2Up4fhcsYUZG56GfHPDkZ8UHsMTSChL38GTLaHYPwcUxL67Ejoy66o8/b76I9y5O/6Ep8PHoyMFw5gxHf9EHLSCtI4O+Tn/4Q9E59Fx7+WI2e2BfbEjsK96aFI7Lobr7wejdF3meD1JXFY7XmyWv3QgLswu2/bmKLi/SeRN+czjC84ga+kvTCsK6korgBGGbsIo8BKjKIwtZa5ebVsFswqoZLISiC1dITt/jfxcuKIijmOnYDy7w6g59vTsfPzaxg01xJvvhaB+6WHcHbibJh/8z0KOmTgqk9fpL2zDOVfD8WO96Mwe7IMmwu9FRuAkmpaE/2cF6Gp0M95EVwJBHSPgIkxYn99B4s/XIcdoWbo3tsDlomn8ff5KCTBAhLjEqSWdkeXsK/w1uLnsPJ4AZyHP4/v7ozDqm9CavAjgUR5RZ6Jyz+uxBsfXYbzxKFwStmJFct3IKjYCNbmKTi1L5xEDEEoi8WFom54eM5s3O1bhotnc+D34BzMntMNsqhMZF49hZO59vB3N4HErT9m3TMb9/U0RWRcFlJY6EuoEPqye9xDQt9LeHm6k0odFtuM0XFyR5RuugTPKe64tDYVjhNdFcArhcCRbkBsUD587p+Du6cPhHvGFeT0nofZs+egW0nsbfUdJnm3mYmTWBmhLLcQ5e0HYuoYGQ7/ckkxdgkJ2rcwiql1bgqLSOugpHad0b5DR1hFFVbNsTwqG1Z9ZuLpDgkIiU/AudMZsLVNw4WCrpg3514seWE6LPJTEHH4DG4QH/mWozBvWB7+ORGDLFNneNIGoLur/usB9J9D5SSJV4GAQKBxCJj0xHObtiA3JRPlzm6wNyV9wtAeKLS2xSP5RTCzNUFhnhHsre9FRoEpnO3NK/ubg9+VPfssxrYv+MOsiivr16Ps++cQcP8LeJkWMGdqAyMGIL3MFqv5fdlc/FBsibb8QyOLP4APX02GpW13zHC9hvffegumiZ3w6LwSfLPybbwpSUaHxyYhJ/d5rOzzL15aG4JZmZewZflbsEtoj/s7JeIL2MO1UugbohD6ypDbZ5hC6OM6L5PQ9/sLPSHpNQ42sZ+h03tTEbEgFAu6muNnMrOARMAKIdAILhM64MSHb+EdaQAyR76EHkdX4623jRHf5SmqL69ev5spSlMrprq1/zef9TAGPvcqXk7wgWlSMDJtKp5xuf9YeH2lxOhBeActUzs3aVHpcECFEFeBlTG8x3tgg3KOn5iBzF9kkJDmb7R3BDJN85BvPRUPeW3FmjdfQlmxP8YUpqC8nQOMS24i8toppJ7Lh5uHDDezTdCONwCRz+ApP6U+RD9nRFJOpJ+sCa4EAgIBfUEgLy8PZmZmMDdXChoqnCWG4JqFP3o6CyOHCiq1vJWjIJ2EOicX2JCeuDw/Axm0FLnY3I5daU4WSm0dqZwMBRSlc0voK6sh9NXSVR2XZXm5KLKyg6JbeQHSM8vh6GKj1kx16NAhLF26FBcuXKijxZa/tXPAYPjOnYM+b7+pMTN79+7F0CGkXXN2qqwjQ35aJuROrrBTnZIaGNU6N1WC+C0W1M6xvAhZ2TLYOTHm1GdGPkyc7WEhLUBOkRlsTQqRa2QPh/IMJOVbwtOFzFi5WbQBcKzO161u9OadMH/ozVQIRgQC+ovAgw8+iG3btqlnsH0PIVCoR0bNVTIJuVQIFHxTYuOsVqDge2b2LFDwO2NY29vC1MgS9rxomdioaJH4vvZkbFspUHBVI2u41CJQaN+yYdVYvnw51q5bq8K0MWxcawgUfLcGRrXOjUpLyrdq55jm0lEhUHAp6pMFCn5rYg17W1MYWZJAwfK7BZk9SKBQ3LLTf4GC+RRChWK6xD+BgEBAICAQaEsIlJaWIiAgAJs2bWo8waHXAABAAElEQVRLw27ysQqhoskhFh0IBAQCAgHtECgLC8JVVce/uqrLk3HqZHi1EuWUa+RoTEWOhPKokzhS+b5aoVo+KBKWFUUgOLywlhKt4/K///4LGxsbJCUlITMjUzEorXCnkM+UUycRqhqRUS1XRR04leWRmaNuzwNDnQchVNQx7+KWQEAgIBBodgSkIVi79RRMcyIRdOk4dh0IRsz5Pdh5LoGiaG7ltigixgoij+KPf/7Cj7+eIKfYZFz8ezeOxuZBfvEP/HSBS5CJRVqIopKKHAmndv6FcyklFE0SiPOUB0ORDyElHKFpUpSnRSE09UZFwrLAHJzZ8i0uqy6YitZaz7/NmzdTqG0+LCws8OuOX8lruS7cCd6qfB4kDORF4+jOf7Bn8684VFyKlIB/sOtENPJUclUwUrfqyJAaFo5UOeUSiQhFyI7FWLDiJEJCLre6eWjLTtmt59shRiIQEAi0HgSu7kaYw1w8e3g1xh0ajAWl2/Bk16cx/sp7yJpljQNRwxR5D14IHwuzg/EYPyMPV1O9cej11/HfsFmwfeN1JE6hn3bLCkhkl/dgR1kS8P0pjFnkgb+XZWNOxkacuudl+PzwCq6PNsUp99X4XrYWn8qewiROWCZtj8m2UfgysBjTWw+yVSNh08fu3bthaWmJnJwcrKcopmeHZ9eKe8Fnk3GxKldFKO6RHcOlidNRFJoM7/3L8NLFfphnvBwv3ZhIvhGV0RkZf1J+i0tV+S3mlp5D2RefwfaLr5EwsIzyTuTh8NtvIPjeJRrNQ/+BCq+LqjHo6xshVOjrzAi+2gwC5XLy/k4MRUFKBKSFOZTiWpl+UX8gKMpMQGYYpY4+UrfKtiU4lhibwMLBHbbkMGrh3EEtC/KyAhiZqmYFVVtMLy7KEpJR4EgJw4xs0WPa/ZgaHozwyTMxNPEYTl3Og98zlNuCMi/u3hCAkh7PY/bdqTh24izOhV4HZQVBmZ0DuhTnVgkVFYMygk2viZg33R4X9kdD4tIHU+dMR6+Iffg+Rw6JO5Wi7KoyI9fKhGXuaB9hhKwUyjBiGGsZPIYMhp1PF43mMD8vH+vWrVP4U/j4+GDSpEmQJVyuBfcTiIpS5qqQ4sq/63BZ3hXz59yFtCMncPZCCK4nluC4gxWc5SUoqBQqyqNV6uyjoGyjiqBeqVQG6w6eaF/kB7v8vprPg0Yja/lCQqho+TkQHLRRBEpzUpFw6mekBe6HqYUlbCiMzczcpurHR69gKSmAPC8Z8puhesUWB8SXl5NQFpaDuIxkcp53gPvQu9BuwGwSIip2jBw1n3zgf3Ad+S5FVPjoFf/qmDHy6Qzry/GQ+lFuiaoMY1zSCM5j2+FkZd6Djo89CPnaT/DmCjkC8kbgm5E+iMgzQ26hOTxt1Vi2VRorT7+In959CzYxLljwFPDVhvfwljQIBfcqE5aFYG6KBB4jCENSchgCDV+vGsVRN8ccQvrMM8/g8OHDGDlyJB577DGUh2bVgjslzO5GuSrWVuaq8H0Qz+Rtwuo3l8PocjaGvjcKftvSYZ5bBGMPWxIqKkjSfQy8PlHmt3gU07K/wkcrlsM4pADTrN2RevIgkksuYrem81D3kPTmrshToTdTIRhpSwgkn92B+EOb4NLZHx49RsDCjlNb6y/NfvodzL5zBB6/Z4reMsnCQ05yFJIpM2UJqbf97nobth16KfiVFWegJP0KrLzG6S3/VYzJb+DHFTvR651FGGhcTapQFKmW90Caj9xiC9jZ8P5QjuKsbEjtnSpDUatarPGmAFufWgKT91diurOzIu9BSRbhY1fxHuREmFkQg58/PYs7VzyNhCOGkaeixiA1+njfffdhzJgxWLhwIcFXN+6olqtChjwSIiztbBSJ3eRFWciS2cG5Zr6RanWKkZVeBlsXW6pDB4RlpWPnqytgruE8+KuREzUaZDMXEpqKZgZcdNe2ESgn00bUnytRcD0IPSc/DCtH1jsL0gUCEtqJO3j6Kf7SYwIRsuVldJn5Mlz7TIIxxfuzQFGcGgAzxx4wMiONkL6SUQc88tzdiOfgDdUETJX8KvIeKHmnnBW0rlWSESwclUmclNfUvVpi4ouLYOJCQkTlQmXu6IyqtGamtnCycMFMOmG2E91PUNdEa7xWD+4VuSqUAzeG7S3gKa+EI5yVt1RfFfktlBcsKMGY0pZkAjtHN0zWYh6Urej7qxAq9H2GBH+tCoHoPR+hKCmUbOVPwMSk6me8VY1RHwbj0qUfLO1dELrnM5hYWMGx6ygFWxJjCyQfepbOxthCpoXbtQD6wLuCBzcvdGwyZozg0bN73a1btEcnj7qLtMq7TYp7TcRa5zwYiEKl5mSIzwIBw0Mg49oh5ISdQveJDwqBohmmz9rZC/7j7kbkzg9Jo5+h6NGcHBTdx32m3wJFM2AjuhAINBUCQlPRVMiKdgUCKgjIy0oR88+X6DpqFoxNK2P9VO7X9ZZ9BU5cuIqg0GgUFpWQY2LzR2AkJKfVxaLe3rNt1wUunboi7uBa+M19W8GnsaUr5GWFyAr6Cs6Dluot79owJivJQ1FONEoL0yGnvBT0kGhTvc6yuYnBkJbkIj1yd53lDOmmxMgEJuYOCqzKy/Uv2sqQsKzJqxAqaiIiPgsEmgCBtCv7YEXnLfAipymx8LDiq6344bf/YGZqggG9/GBlYQ6jytA0TdtpTLmSUilSM7KQnpWLwGtR+Mf5HKaPH9qYJpu9bvu+4xG48yuUTcyAqW2F5dvI1ArGZrYoTDhMvhYTmp0nXXRYVnATmXH7kZsUgLLCTFjYuMLU3BbGJhSxoUPTTlleHMplJSjNvKoLtvWgjXKSueQkKBWiMCMCqVczEH+mAA4dx8HWcyhBJxT4jZkkIVQ0Bj1RVyCgIQJpl/einV9/DUvzRrMcz6/4GsfOBeO3b97G4N7+LaKyzysohEPfWbCxssQ3W//E2aAwgxMqTM2t4NDeG2lXD8Bz+LyqOXDo83+K97zAGNJCUlaQhtRrW+kI+0A4tPNH+65jYGXXniJOm2YxdEm9QMLKGXh2m1iFXWt5Y+t0EW7e3WFj54SboduRHLwF7j3vh12HsS3yfWsNuDbNU9gakBFjEAjoCAGO+MhPjISDV1eNW/x973H8d+ICDv30EYb06dZiP3C21lYYPaQv8guLYE/e7k/eN1XjMehTQQd3b+TGXVbLUsaFD1EQv1/tPX27mBWzH1GHX4GJkRTdRjyhWOitHCjhVxMJFPo2/qbgx9jYHE5e/eA7+EF4+Y/DzbDfEHdyOaTFFeeBNEWfrblNIVS05tkVY9MLBEqyEsl+a6GVL8Uv/xylBXwa3JwdW3wMj9w9iQ5eskRxSSnumza2xflpCANWTh4oSotXW9V54FKU5sSqvacvF1mbknjxa6RF7IJ3/7vh7jeWknspwxP1hUvD58PauTP8Bj0IaytbRB16FUWZUYY/qGYegRAqmhlw0V3bQ0BanE/2e83DR9n0cfRsEB6YNUEvwLp78ig6eKkIvp294KASm68XzGnIhLG5JWQlFQds1awiMTKGY++nFc6bZXnqBY+adZrzMwsUCQGfKgQf30HzYWHr1pzdt72+jI3h5jsaHn6jEHfqfRRmRrY9DBoxYuFT0QjwRFWBgCYIkFuYVuaLgqJiyghZgg4erpo0ryhTSOcJnEwsglSuO69/1c7dPdphwIjh+JdOwGwKcrY0wVB37aJitOGDfSbYDFUXlcuKkHL0JXhM+IbSfberq2iz3ku9ugVl+Ynw7ncPJCamzdp3W+7Mvl1FLo/4Mx+iy4TVMLPU76y3+jJXQqjQl5kQfAgEKhEoITODmZl2i8erJzOQIrWCnQV5/jcB+c99FGW9BuD3xKZpPzE7D//zL8PdfnZNwL1mTXLWTfdxn9PCrT9mhbzUS8iOPwHfIQ8JgUKzadRpKRYsSgoykXjuM3Qeu9KgHHp1CoQWjQmhQguw9LuoHEmHt+L3K9mQWHXEyHvmoH/WaRzDEIzrom6BkiH25FlIRoxE5yojWD6CDwaiz8SK7IP1jpfOCMiR2sDeUo8zE9Y7CP0sIKHDo7ShaxlleGFaT1ibNc1XunxYd620LdrwzmVPR6cgOD2ehApta+q2vKltxSmnOde+h133hyExahohShOu5dJSJF38Fl7d7oCJmZUmVXReZtkHG7Dv0Dkkp6Rj2j0vYdXbT6NfX3+d96PPDbp1Ho6oi9uRHXsQjl0m6TOresGbdr9cesGyYEI9AqUI/fU/JA2fhPGep7H8nf0ovPgHfrpQhLL4M9i16wRii0k1XhyHU3/sxLHrmTi/4zdcKslBZGAkcrhRWTr2b96B8rRoXAs6iZ1/ByCpNAXhlwNwYOdBXMuVITUsHKmkRs6ICEXIjsVYsOI00uvWKqtnV1w1KASaPKW1nsmlpnSaafq591p0jjJj98KCTl21cWm5k1WLKNlaACVeS0pJw96Dp+Hj7dWimLRI5xRZ4+k3Dqmh9Nsol7YIC4bUqRAqDGm26uNVlooLm9dj7YazkHX1BusnJHl/4ZXX90IuP4LXl2zArsWv4y+U4tA3PyFZlo+gj17DumhTVJ1JRHXkBz7A/9aGw/jMJ3jt9514Z+GPSDO5gJVU/+hnn+NASTFOfvE1jpSUQUq7KVl9fIn7AgEDQ4APH3MZurzFuGbnzIyovXDt3LKJxp54cCasKEcJ05gRA+gQLesWw6QlO7ZyaA9zKwfk3DjekmwYRN9CqDCIadKQSZOOmLj8c6zduhw+5/5ANDvt3QxGTu95mD17DroVXcaFgq6YN+deLHlhJhyyQnHiTCbsunpUPwzRyBbdJ92HGcM9YZwLOPefgrnTZqM3rldl6pOSY6B1B0+09/ZHO/EUaThBopghIcBRIXyqacblz5qd7cL0azCiKAQrO89m71u1Q3//TnBzcVKYvh57YLrqrTb33smzJ7KvH2lz49Z2wGI50BYxfS4vu4FDK1/Bkjd+wM2uQ+FF6ZzLPUfB69JqvPX2GkT43oNJXtFY8+ZLeObjwyhyHoyFX8/A9Q++wbUa6oZbWX5pxxSwFe+9tRqXPcbD2yEdf65Yjh0hBZBYmyP15D6E1qirzxAJ3gQC2iBg0W4Iqe7kFI6arU21RpfNSz4Pe2dvSmrV8nahKROHKTK83j1rXKPHZcgN2Dr7oCArlkKP1YcmG/LYdMl703h16ZJD0ZaGCFjgjg0HcUe10hOwkT8/fAfSM8vh6GJDGolxGJiRDxNneyh93O/6WVmpM5b89KXiwwbF/zX4IX8bng66Fy++OgVOTrYwwRhsSC+D7Yf8Xoq7uhfB0lhZX7zqPwJyFKbGI6tQjnKJMcydPeFqS4YyaQ49IyZwcatfvS0pzcbNPDO4OreM82BzY+w8cImiS1lxBjhCpDmoICMc7TpqntY9+dJR5MSGEWukndQxzegiw7U+HZF4YIuOW65ojo+mbz90Mixd3JukfV01amRqDnNrJxRlR8Hatbeumm117QihotVNqZoBGVnDpSrE2hg2JFBoTFYTsGiRCZxJoKiQHSxIOFGKIyawdbTVuClRUA8QkGfg0JIF2OcwEN4WUuTFRKFo9uf4aNgBrP7CBR9/M79eJuXhm/Dp1q5Y9tEMqM0sIU/C/iVfQfrBB5imec6vevttyQKckCz12Ctw6v9/sHAb1OSslObfhLmNZgJMZvglJAccgVfv4ZStW/cSvgtZYN6x94SLp0eTjLswJw0hf6zHwKeXN0n7umzUgoSK4rxEIVTUAaoQKuoAp63ckpF/RH5BPuzt1QgbRh7oWZEDpq3A0frHaeyK3os+wjN+pig/vwrPbboEDFMOuxQp+9Zi+74YlPtNxr1PTkcH4wQEfLsOR6Ll8Jj1DB6oXOsk8nQEbfkV6WOfwB3elYJm7G58+/53OBnshJmtKCqIo1/cJ3yNkjTCqomJnTRlpYUwNVN1n66904K0RDh38IWLT5/aCzXyzgTvno1sofbqTnQr8doFMiuUUurxlgvhrZ3DW3dM6HRbaVHmrQvi3W0ICJ+K2yBpexcuXbqE4cOHt72Bt9URy9IQ/NnLWP3y/+Htd4/BZfqEKiTKr6zFpz+XYsIbb2GGdAc+/OI0or9Yiu1lM/HEi2OR/d0XOM6hyeU5CPrwZfyc0w+DlAIFt+I9G0+v/xh3dmh9+xU+Lt2SfJSKUs5AWpBahZmu35TLyioOCNPmkLBbTlC6Zke0p4KAkbGJCCtVwUPdWyFUqENFXBMItGYEjJ3g/9grePyV1/Dk8+NQ+MP6ytHKkXs2EKWj56O3mxv8Zg+HZehpBASVosddg+DScQoW/fwZxpNSovjsenxzxBhD7x8GNfqt1owepfD2RMqRRbS4NJ2Hcsu7Z7bqKWzw4MS81A+dECrqx0iUEAi0MgTIQdPRHa7uHeE9ciA8StIqx2cEc1tLlGbdVOQeKU9IRiGd7mlvUYaCDFpA5Sk4/fVGXC4th0n/5/D+U1Y4+MnfbS75maltJ3hO2kjZNnXvv9DKHjQxnDaIQOvTUbbBSRRDFghohYA0FRfffQpvkxOlvLAApve+SdVPKJqwnPIgBi9chRVLvCBJyMag11/FuJx4HP3gf1jtUoRkxwfxlmkuTCxs4Hr3Ekz9dyHWHR6FtydWeQJrxYqhFjYysyVNRSnSzq6A63A+E0LsYQ11LgXfukVACBW6xVO0JhDQbwSMXDHzp5OYeRuX/SjyoyIg8fEtA5GVkAGjdl6wV0RvvI7VA24ipdAKrm42FEoMfPhRRQMzN++5vS2THljwxw+39dDaLvC5IBZu/VEQuwc2XW5HtLWNV4xHIKAJAkKo0AQlUUYg0JYQMLKEY8fqZzxIbNzgoVkwQltCCnaUUI6JtRYtefhYmwJdDFavERA+FXo9PYI5gYBAwBAQyApeh5zwnwyBVcFjJQInTwciPiEVpwKuIDz8usBFRwgIoUJHQIpmBAICgbaLgGPfRZCUN100iC6RlRRk4NLZKzgemYWSBjRcmp2F1ELdZ+5sACv1VinIV5NSm85EeptyqXyzcSeeWjALIwb3wktvfokdOw/V254oUD8CwvxRP0YNKpFXXIr0wuIG1W3uSok5+SiVyRCbSaeHGQAZS+goYnsrmGgTx28A42oMixbGRohJz4Wrjdocl41pulnqpuYUohMfq2ugxI6adt0eoQROBZDmXYeZUw+9HEl53DHMe/04bAb6wD75D7wsH4otH09E8tptiJj7IJ7pUN8kyBCyYT1WkRC1Y1ItKd0Tj2D+egm2vzeuxTF4gpyO9x0+g+eevAePzJuKrl074cDRAMTFJeHHdW/RKc4FyLV3xNyZY/H4c6swblR/uLlxOi5BDUVACBUNRa6WevtD47H5XDgt0HmwtTA3CK/wvOsRyMgvwTO/nqxlVPp1WUr5AYpKyzDaxxPPjOoBbye72xjktMqPbTuM+wf4YmqPTrfdb20XlvS3xbdXQ1GmYRbLqJjr8HR3qzrWWtd4JJw7DiMTU3gO1CypmrOFBA8ObQ0/5hLcPL0C7UZ/AFP7LrqGtdHt5R47j/Ah83F+sS9MpGnY+NafOHf5NP7bF4CoQl88u7Ajtq7bg78SZegwZgreucsPNjcu4cPvTuCKxBMPPDUTHSu5KL95DWt2ZmLyY6PQw5yjX2SI+nMbXvjhFPa5zcF2Lbg9G5ODza98pvM048EhUcjJzcfn67bjoy+2Qkqbp7EjB2DujLEwMzdGxJot+Pme/8NyHzcM6t8Np89dwRwSMAQ1HAEhVDQcu2o15axS+zcAFxMyMamPHx5u7wJjAwkzCw+yxKc7zfHy9JHVxqTPH/JLS3E2MgGPbD2MZVMG4Q7/Go6FhP36+8fiVGxF5sNM0ho5WSnPLNHnkTWMtzs62YD/NKV+M5bhreULMXqQt6ZVtCq3+HIGLC3NsGq6fh8SpdWgNCjMWTc9Jq4jp836dvwaNNYERexGDUS3V9ZhVFhnjOjfHZP/70FMccxFhrs9zAf7IuvQv9jlMAHrFgAfP78DGykRWvbS3SheshCrU//C/LUBWEuynyQnCEuWHoHJswsrBQpm1hi+cxbgb19LDPlKO+YtTIzh7upIx73rdkkyMa1oz8zUFFI6jsDKzBx2ttawJCH29IbvsOXkNYSnfIt1DzyGMqkUxqTxE9Q4BHQ7g43jxaBrrzkWjND0PCycPAxm4sFs8rm0MTPDxJ5d0NXdBSv+uwB3Mof0dK++07WgH5Q7urZX8LL1fATOxaZgy4KJwmzS5LPTtjswtqh4DrOurIe9/0Mw0vAMj+ZATeIzHtt3jkJqWCj2Hz2L954+gQtrl8Db2hwJnk6wtemHfuv+wVMripGYVow5qSE4LemOb/q5opPREzg9VYbAjw7h5Lc/wsx3Lo4O0k0+1X4dbTB00WM6P/vj+o0UlNAG5MVn7se8ORPh6GwHdtB875PNmPz5EryUWUqaiqcxQZqE569E4o3FjzTHNPw/e1cBF1XWxf8DQwzdnSoWFiooKqBit66uubrq+hlrrt3da65d69q5a3dit2IrSPfQMEMM8N33EBQlpt4wg+/6G3lx7znn/t/Me+ede6JC82DVMjlc3tDENPznH4QBTeqyCoUc8JSEhAO5SfjWdsGKK89LHTbOpw529GtBKxS3AqPwITap1P7sSRYBWRHQsW4C/oOFspKR4/hs+M2bgw7HU2BZvQ5+GfErJtXMxqsQ0WceWTi5+iieev6CY+uHopslFxxNHnQy0xGTk4e8qEeY+/dL0lcDbiOnYJ66Hyac50PMFTc5zkN8UjvXT8f7R4cxcmgPWqGgRgqEGbhKloF+n7wWa2OzIfhnK8ZOW4MpYwfAiK26LD64JfRklYoSgJHk8LnXwahlbw09beWusCfJnFSpr0clWwQTH5awpLRSxdbRzDdJVzLVx+rrz1XGMbXUSUl48srdp1Cv0gov3wWieZ8J6Dp8joQU2O7iIqBlVgfmzZbR3Skfn/JvGvAa0BLGR1ah/cQNGDh6KVZmumGkhy7M9YU4vc0PLtUMEXRkDwb9sQ93M5Jx/akVfneLxJRRa9Bj0kl8siTLWRx16OhbYeBEH6RtP4BjicqrVnC+sRqfu3QXbX8ajxziW/HngtE4df4WMohT/d6tc9CqhXv5X6IKIAG7/CGHi/g6OhGOlhZyoMSSkAYBynfF1sQQ72MSYW9Utl+BLemzpXdzmtXLqHjsuvsWM9uSgll6FdfnogDX5o3qwNBAj3ZeM9DTQc92XgWn2L8MIEBFhWTGv0Ly2/2waLaUAQ6SkeRUaY79h5uCH5aAdH1jOBrlvwhx5szC1SQ1OFq1xa3uiRAYmsEKyQgV8GBvMhNNY/hI1TOBjS55ZHSYjiM027a4dKLtdwKo1eqFx1u/O1zuBw4cvYThE/KvQS+yFEI5bUZExpC/uWzEhxyvDmupkAOYmaJcUI5GbCs/BDQJ/tR1kLTVtjbFwEbV8ZGfvxySkV1gCpaUkvz6c9Q4yMuTfC7iSMAljnDtfBrRUUnZ5KbavW0zcYaxfWRAQMu0FingVgUiYawMVOQ5VANm9paFCgVFOU9bnygUVIioOvQtzWBJ9Os8bUOiUFBKhxo5ZpGvUFCdVbDt3ncW/YfNQRrJW6Gnw0PjhjUxa8k28jsAHj97q4IzUl6RWaVCea8NK5mCEHCzM4OnkxUohWLAP5fx94N3CuJcPBvqppeWLkRuLjOKxcAerYnSkgdPt1r0DbZ4Kdij8kTA0HUouDwLiNLC5UmWpSUmAt07eaNzu2agokDSBELYWJvj8rX75HcAfAgIIZX1lGF5SszJKHk3VqlQ8gvEtHjXTx3F5WP7kZaSjEMbVyH43WumWSotfSpa5Nhv7dGxpgMt49UPERAx9GAvDQTqxlfFyQ5X7j0rrZvU51o1qUeP7dq6idQ02IHSIcB/vBLpoZekG8yOkhoBKow0KCQaS+aMQO/urXH5+iPisJlJ8rRo0UuBAUGssic1uN8MZH0qvgHkR9sNfPkCp/fshAaJ3/57xUJ4d+r+o0Hw3Xwt9HXoY3FpAvx+xA9b+zT/rg/TB7q08sTBk9fQpmkDubK6/fQVNu45BQcbS/x78TYySLjduEHdoEESVbGNeQQsvVcjM+4p84xYDkUQ2Ln3NJ2DYuLv/chqDgevXgfC2tIUB45dQoc2TZCSkl6kP7sjPQKspUJ67CrEyFY/9QVPRwfZWZmwc64MG8dKFWJe8phEn/ouhQrF1jtvcIZE+SjKi/+3n9vj4q3H+Pv4RammsnHfSfg9ellE3udvArFk40GMGtAZ/ue349C6GYiI4mPxJklyH0olDjvoMwIcNXVoW7pDGH0PWckBLC4KQCCDJL5bsPJvrJg/ilYoKJa1XCvDliyB1CPh6BtWTkR9kk2TbfJBgFUq5IOjylJxqu4KAyMTosVz0bxbfhlnlZ0Mg4IP8qhKokuSkJqZXeRBzRTLKo62OLltIWas3Imeoxfg6LmbiEtIIuFvmcjKzi7zs2zLYbToOwFWjX7Gb9NX4eZDf+w7eQVDerYlWTRrQ19XBxamxlgycTDuPX2DGH4CU1Nh6RaDgKZRVcT6zUCeKLOYs5IfUpSyK7lk4o/ggEr1Lf+2fP1+VHNxQBvfxkWIh4RHw86GjdorAoocdtjlDzmAqOokmrbvjH93boZv996qPhXG5Kf8LSa2zPdFuEZ8LbbefoXFnT1Rxfz7uiPyEsK9dlU8OrER+05cxZ87jmLE7HVIFwho57KyeOh8zpnCT0jE30fP0x8bS3O09bQhy1zb8Ib2AVWDQ6ufYUvMwBGxCbA0K5qRtCwepZ2nQimp1PVsKx4BdW1T2LTfAw5Xq/gOEhzVt62EgBcHoaGlQ1JIqF4UmiApDjwTM3CIL5G8Gz8uERu2H8fVk+u/Ix1Oyp7Xq1P1u+PsAdkQYJUK2fCTeXQucT9OjYtCUkQIsjMyZKYnDQGXyqRiobExBJEhCCAfRTfqAaRtYAQzJxdo6ZRQ+VDRQpXCryVJ/V3HxpTuQUWMUBlVq1oYlTJC+lN2VuaYNqIP/ZGEioNXP6QQnxBrEh74Uztv/NK9FQ6fuYGEdD0MnvK/QlKUJ/zp6HjYk3Tn8mza2hpITy+f77M858EkLTWuNlEQc4nFYiIsvJaTeiH5OSMk5Wnk7IpKrXsiMYg4WTNQff3RuyisP/YIe2d1kVQ0sfprEIWiZuteYvWVtNOsJdvRrqUH6tSq8t3Q8Gg+unX0+e44e0A2BFilQjb8ZBqdnhiPd9dOQyRIQ7WqVWFgqC8TPWkHV3JzhfbYsahkWD7Jn6jQyejoIDy4cwXWJH1wpSYt6eUYaeejiHEFibISBJl0ds7Gzlb41UN51mXnjBkAN1cX1K9ZpbBSrraWJiYv3QZjIwO08nRDOElotGLrYfiQhFjmJvJViurVqIzVO44r4lKoNA8Oh+SAqNwVaYEnoO/ys9RzMalaD9SHiRai/RhZ/71G5bb9mSDPGM2PH0NxlFj5XtzaWyyPKKJUODpYFXuOPSg9AqxSIT12Mo1MS+Dj+Yl98G3RHF5eXqTkb/m6t7Rr106m+chjcGpqKg4eOoRX54+hToefyZtb+WIizpxMSEgalZ2TWtOmPosvPiHl2GuVe3bO337u8J34tVycMH/8QGzaewqj566HrQWxYrT3wqj+8n8D7dLSE6Pm/IWQiBg42lp+Jwt74AsCOnbN6Z3c7HRSUEv5LXVfJFfurclzN2Jw/46wsyvebyKWLI1UcrRR7kmooHTKf9dWQVDLEpla8nh7+QTatPKFj49PuSsUZcmrqPP6+voYOngINHOyEPbioaLYyoUPtYRDfTq4OmHnA+XN0OdRpzp2r5xCSj9rY8Efv2L0L90Y+f5pa2uhNzEt9xm7iCzDsOF64nzJ0gKPIf7ZanG6sn3KQODufX/cf/wac6cMLbZnUmIqcnNEMCXp/dkmXwRYpUK+eIpFLTE8COpkLbVp06Zi9f+ROqmTdNs9unVDOFEqKOVL1Vp9ezNM9XWjxZ577iGWX32mdPO44PcIEdFxWLXjGG1dYQrjv+aOhhMptOfZcyz+3HkUEWS5hW0lI2BQfRC0DJwZvSYlc69AZ4iD8MRZf2HquP7QNyje8hMUEgELc+JHRHJWsE2+CLDLH/LFUyxqieEhqO1as3CtW6xBP1Ane3t78lvnQJiUAF3jfIdIVZz+/A4eoMqsc5CABBGXZOfMI6XXJbuJUaGeB85cx/ELtxEQHIFMUlExV8Zi00KhkFRpzMPpK3dgVJcsfXwjE1UfhCo2VqOKIzzqVsP4X3vAyKDsQm3fXiNqSW//6mk4ROQ/es6P5MjYT6JXMqBNVYv9hue3Y0vaVydVJ3W0tOFRrzp+7uCDbq2agLKKVJSmV7k7RBmJQGZKRZmSwudx/NQN8OOTMeZ/JTt/BodGk1Td8nVOVvhElZQhq1SUw4URZQhgaJufCroc2KsES109PWQJ01VaqaCA9qpsjdSIRARmaWP1qTBs8LWGg754oXMv3gaiw9CZaFCrKkb06UgcKuuS/BI8slwhmWLy7QU/dsEPkxZtRd2alXFi6/wiyi1lHMoWiRBFQkwf+r/DuRsPUbPdUGxbPAGdWhSN8/+WbnH7lGLRr4sv/aHOZ5IMnplZ2cV1FetYNom24Sel4NSVe/hz+1Gs/+cELu5eSufdEIuACnTiqGmBkxqFrIQAaJpUUQGJlUdEEfl+zFi4GYtm/Q9cEgZeUgsOi4KtnCOeSuL1ox0vGfUfDQl2vkqFAOWfUJGau04aBnW0Jw9w4H1CJgKTs9DBueRon0/kpkcpFFQUx/C+neQKxZCe7UkSrPal0jQzNkTtas4Y2qs9jp33I06X69HiUj3o8mSLENLS1AT1kaWZEtkmD7PHhCE90G/8UrQbMgO3D60pohzJQr+8x1JZN/OIMqGhb1veoqgc/007/4URiaLr3d23VNlDSY6Kkhw4Sx3IniwTAdanokyI2A4sAvJBgFr6UCdahYOBBt4mZOF8cGqJhHeShFW+TdzkrlCUyLCUEz3be8PG3BTnidVCmRq1THNg7XREktDA+8+V1zlWKsyIYsHR4CHp3X/IESRIReJHG5SWKsCyNXuwatGYMpfXwiPj4MBGJTHyFWGVCkZgZYmyCJSMAI+rhokNTNHeSR8CUQ4GXQjHszhhkQGnLt9Dv66lv20VGcDwjoWZMVLSBQxzkZw8pVh08fXEodPXJR+sAiP07DwR//qwCkha/iIuWrUbDYivTbPPVXhLkyiCKBVODtaldWHPSYkAq1RICRw7jEVAHgjokGiX1T5WiBPkp0JMzc6h63q8/xSKghLl8uAjKw1lXo3ybVofj19/lHWKSjmeq2cFC/eR+bKRJHFsKx6ByKg47CDVd/9cQKwUYrSomHhWqRADJ2m6sD4V0qCmZGMEkYEITxUhPwCTmNgNrFDF2oBImYFo/0d4xdeCs3sDVNZX/0bydIQ/eYT3QjPUcHeFjZaEfgyZCQhP1oSdheSRAd8I8kPvmvK4aOOYj+Hi+3ykk6JhesQhk3oLZ1vZCOjp8OiomLJ7qm4PUWok+P4HYeX5R5mmfdWdpfSST5+/Bd07+aBaNceyiZAorJiYODizia/KxkqKHuxdSwrQlGuIEGfHdMBsQQO4m1FKAweajUZg52962NBrKPZoNIS3sxDPJ4ehwdrjWO71OR2z6BP+7jsIe40ao7FeJOb/kYmf9h/A6OAVGB32M/4aUhVlfTny/Nfil79ccXZPb+goFygqK80yL0sExSbiAEnffCMsHbXNtEApHeXVqIyYvgOmQEDq0jzyf4+zV+/j+OZ55SVOsXypMFMq1XtFblx9G+jZe5CU/rHg6ikuQ2kwCWMOI06NmZlZeP8+BNZWpqScgHK9RLx6HYhzl+/izb39Yn0FomPjoUOq9Orq8cTqz3aSDIHyu1tJJifbuzQEOHqoN3Yb9rYv+LGTWhprumGT3QLc39welM1C5LcEfU7fgsCrc74CkHgJh0ObYOWhZWignovQzcMx7+5dHDxzBGci4uDtOx+1bqzAqjMfkePcDmNmDYEHLwRnli7FflLisuovUzGrIPttbgyurd2JyI4TMKAa+0Mt7VKJc85AI39V0lhbHeNvRGNTK2voa3xrZRKHkux9HEhp6LDIaIhycujoCp6M0R+yS/TjUtBz8KInn50SBg0De4UAMWbaWpy5cAs6PC1Ub9Qbz0kdjbq1XRTCW1wmk2ZvwMih3WFuYSLWkKCQKFhZqG7+G7EmWY6dWKWiHMGXG+s8Ad7vnYdpN8nlVDNC/aGjoPUgFC49m9IKBcWH6z0Dx7y/4mjcEr0cB2BQs45w82wCr45TsI7kUOBHOcLI2AtNOBew+Jwehm9cDyzpjcl72+Cv8KFYrD4bxxbHY96gBTi6mOTayEvElQmDsM5gMo6wCsVXAMu+WddcmyiKdjShq6FpeBqbgdH1TEA5eiqqUaG9v5EcGTsPnyOpvTUxvF9HRbFm+ZSAQHLgZWga2MGgcpsSesjv8KDe7XHr3jMkJ6fB1sZS6RSKqzce49XbT/hv7xKxJx0UGkVbXMQewHaUCAHF3Z0kEovtLBkCGjCt44XmzZujuY8nXI3VyXo8ebP92iKc8Ql3bn1AYRAjtyqGHnmIp/8tx8C6XDyZ3RVtVoXCzsoAPHMn2Fo3RpcaQVj123AsuhkKgSACl+9nwfvXprCt/BO2396DvjocpF9djtFn1NBluA9Y3V+yqyZJb18HPbiaaiEgKYtO40xl51RUG9ijNZ0QS1NTC80a1FIUW5ZPCQiY1R0MbVPFWAs6t29Ksq/mQIMkkurVrWUJEpXTYfIbmDxnA2ZNGgQe8UESt4WGRZP7m7m43dl+EiLAKhUSAqaU3TkaMKvrC6rSaLu2PnA14aGxlxM+nrsEPi1wLvj7Z2DYjheF4udenYAG3bch0ao2Wg+ahk3jPZH2+kPh+ZzjxPLx3gtrjv+LDV0qQV1NGwa8LCTGkSiF3Aj8N28VrmblQctzOi5O08euKYcQ+bUSU0iJ3ZAXAlSyrNpm2ogWiNCDZOe8FJImL9Kl0qGKkFGtdjWnCpNgqtQJK/tJku9E08gZmfy35POOUWm1SAr0Zo3dQGUy/bVvB0Z5SUp875ELtK/H8F+7STQ0lPgJ2dspzi9FIuEqQGd2+aMCXMTvp6AG08GLMNnvf+jQ7hhqGKcgIM4Zs3Z3R0EORzWfEfh9+1B0bn8NNU0zERqcix4rfaGWcBmpy5ZiW8OGsH67E3/8coqscCQiRfM2XEd6Y8+4ruhrLcAnsxE4zk0GV9cQjoTX0EO9Me5Uaxztxv5Yv78e8j1irauBf7vY08pFAWXKqXP7mzRkM6TYVWvRHqjngZ/PxxSwlOtfc201zPYwhpUue0sSF1hNo0qIe7YLFibVSMXNbAj4kWSo/C1YHb1r4cKVu6hsxkVaVJC44ondj6utA21jye4bWcRxdO7SHVi3dDw4xFFXkhYeEYsGdapJMoTtKwEC7C9YArCUsysPvY49wXelc7RqYPCBW+gXF4zQDANSLdIERSpOcKthyKHb6E/Ohwn1YedgivwEzKtxqxYfXHs7jPIdhPAMIzhacBAdlgYje3P4+UQiKF0PDiRklfryXG+Uj8rYq08xVjkBqpBSUdk57fS+XNEVz1LQom4NmOnJlka7JLAa2pjAzNaOMUvF/U/R2PM2HlMasotoJV2Db49zuFp0DovMlAT471sNLldT4gfstzSL2/fQyMHojjURcG5/cadlPpYlSIO5awM4t/zuLlYi7TWbDsGBWBs6d8h3Xi2xYzEnIkhOC0c28VUxyMjnEKtUyAdHpaWiRfwjSlt9pc5XKSK9Nswc850DYWADRyp0hDQr+89rluRYpc/H8s+w/ysDAkJionCxMISuJjM/aTuj/CUQpuZqY6SLdH48U+QrNN241w9hbO2ASp6dGJtnvU45pEAXMxFIoswMPDm2AU7e3cHhlv39TUpMxeqNh3Dm8J9SzTeaFMtzcrCSaiw7qGwEJLMblU2P7cEiwCLAIsAioEAE8sjSh4YWs5limFIoKJi4pJQ91fLyxFu7m7tsB3ya1Yd7g5r0OEn+o6qY8vmJcLRnU3RLgpskfctWCyWhxvZlEWARYBFgEWARYAiBEJJjYv/Ri3h8badUHMKJk6apiSE0GLLoSSVUBRvEWioq2AUtnE7GBzx/m07v5sWHISTlswOXKAS3bgUUdpN4Q/gB/u+Vr7CUxPNgB7AIsAioHAJT521Cv55t4OQkXVn4T0QpsbRk/XaYvPCsUsEkuuVGOwfvN+/FDU1NINMfG/r2wrQ7+QoGsp7jyKFHQOpHXD96FJfeJSDh3SuEZBNhI9/gdRypF/LwLP67FYjUXD4CXvvjwdMgJDw7j0NnniCGrHk+3LMVz0hkKdtUEYFcCGKCERH0CeHBIYhLpS48aaJk8GM/f0fyj5T4PycrCXHxrGJZIkDsCUYQePL0La7feoIF04dJTT8kNBo2lmZSj2cHlo0Au/xRNkaq10P0BocDdNHbOQN3lu1DbsPa0CoyCxHe7NmPR851ETdnPlKbpeOc4xIMurkGd+qa4OXH+uijPg9/hPkid/MluM7wxLadiejaNge770xEP/0ArHmeAbcGzEQaFBGV3ZEvArnxuDppIC4YEW97bRFSPwVA2HUNVjS+jOXrzLByY98y+eW+34VVe6ti7opO+Oy+WzgmL/QkNszej0i1XGRoNsUvqyagvl7haXaDRUBqBCaSRFcTRvUhGX8LAuMlJxUSHg0724L6ApKPZ0eUjQBrqSgbI9XrIYpEJAkFtXq1CcuvxyLY3x/+5y58NY8cJKdE48O1ewhLEUCtmxe4l9bhX2Ed+Hx6j5DwB/BL1oFpbhZ06nTGiFbd0KdxKs7e+oTEdCGszNWQGC36ih67qVIIqJuj9tgVmLTyL8yb5oW0e0+/Ej8L0RfWYs34scTD/izCMskpUTgebpyJ5X9Mx54bISgwUnGIJevF7o24GpTxebwIgfsOIrr7Riz9ex+GmF3FoQuJX9FmN1kEpEPgxOmboDJh/vF7H+kIfB4VRnJUUKGobGMOAVapYA7b8qPMdUYl7Vh8cp2KU5d3Y0WPxqjfqV2hPHnIQlhwDPJ4alDPjMVbYTu0SLiAEM9eaNS+GVzUNaCVIoSmdf4bASf5Ec49SIOFUQ4SE4QIi1aDdSWytMI21UQgJw7+qydi+cRRmL3gJsw6tiycR97LTVh1IAstZ8xCJ9ERLFt3F4HrpuJgdmcMHe+DpG3r4JdB/HPykvFi2UQcSK6Hhs4FFisubH9dgrFtzMFJD8S7kDwS6ljURlbIiN1gERATASqEdPyMdVgx73doasl236ESXznas+GkYkIvVTd2+UMq2JR8ELcKBtQH9r3OglsdTWgMWYcdBSLrdMWGjWRH1B9thZrQnyFAcvhzbND1xaAellDXm4RddRORmGMAUz0Sl+6bP3DNXh9EpvFgYxSEDfNrYlA12X7cBeKwf8sBAXUTVBs8Gf0c8pDuvx8btm4BllLOa7lIuf8cWV4LUdvCApyunuDNv4uHOVmouaghzBy4GHugHfJersKp+1uwUdsF3fY2huFXU+DZ2CLl4ios+PsxNLotwZimzIY6fsWa3RQTAU56PJ68jESaqR0auRh/szRaNpGsJHJ/0DSCJan9w3gj9T0GjlwA7yb10LP7F+VXWr6R0XySCJBVKqTFT5xxrKVCHJRUro8abAaPRF+TAkN1MRPg6sJQXwNqPEMY6xij9fRZ6KaXf5NQ4xnnKxRfD9M2hY0ZeUCIjNB51BBUY785X6OjYtvq0DK2grmVA5ybNoB1Ztxn+dWgpc9DVmIsvcSRFx4FgYk1DLWzkR5Pvku50bi7YQeekZovXLffsXiYDq78eRr8wvQCuUg9PQtL/9NGl837MK1PXbDuFMr11cgLvonev23CptsvcXLLOjSbcB5vRdm4tn43toR9dtotVeQcvNm+BWNuF+eom4Pg/3bAt/88tO47A202+iO5VFqln8zLycWw8cvwKSQSW1dPLr2zmGdj4qjEVzZi9ma7SYMAa6mQBjVVGKNmTormiCmobR00FrMrtG3hyOaNERct5ewnisGTBcMwm6xM5ArSodFrJpHzFi0rr11/uI9egvmTSEru8CQ0nD4FzZNDcWPp/7DcTIgo4/6YpZECrrYezH+ahPbnRmPztWaY3YryqBfg0ZkHSEmJwbHJj3AM6rAfuB7/89ZVThx+QKlSbj7Ce4++eDShCriiOOyYdQIPnt3FxQsPESCogpGjHbB38xmcisiBvXc7zOnhAr2wp1i27RZecmzQb1hnOHzGLS/2Ndb+m4C2g5uhphZ5IckOwqYjCei9aQ6G895geK9T2DuwNkbrl23RoDLCxpKkVOpk6TUnNxdPnr/H0jV7IBLl4NaZzRJVIS3psgqJP1hKSiqpUMpGf5SEkTyOs0qFPFBkabAIqAoCRNnsvO82On8nbz0S+ZFfjmrIngZIDI+HmqUdDGmXiOlYXj+WFDDTgbmFHl3zZdmKfAKdd5/5ipYeWm71g+xG6u+EYw/ICQGDZg1QffJmNHvnhCZuNdB2VH+0IwUH460MoeVeBYlXz+E/o5bYPBBYOeYIdnj1RdLUk8iYNBrLY06h76aH2GQCcJJfYNLU6+COHJ2vUFDyadhg9OIhMDFWQ/qrT3ivboSOX8rTlDqDo49icGTrQLq2DIfDgaWFCYYO6IRRQ3uAqpQqjxZMwkktSTippAXI5MH7R6LBKhU/0tVm58oiIA4CajwYOxQ1c3H0LGDNrmWIg55S9+FUboGD/zZDzLu3uHTjPhYOv4XHmybBWVcL4aRonL5ePdTbfBbD5mcgguSs6RbzBnc5NbCxnjkc1YbibvscPF9xFbe3/gPNKt1xo+HXHjU6cLRJxYk/V2G5vyb6LR6MztplWykowAY2scbGQ/9ATYM5X62gsChYW7CJr5j+grIr40wjXAx9NTV1ZGVlFXOGPVSAQHZ2FtTEKC5U0J/9yyLAIlAWAtnwmzcHHY6nwLJ6Hfwy4ldMqpmNVyEF4eFZOLn6KJ56/oJj64eimyUXHE0edDLTEZOTh7yoR5j790vCRANuI6dgnrofJpznE/fezy0nGYdnbsAmw7Y4sXsMRrsqlxZKJ75ilz4KrhZjf1lLBWPQlkxY18wSQSFBJXf4wc8IhUIkJyVB14Rd+/zBvwrs9OWKgAa8BrTE1pmr0P6uDcwz4xEINyz10EXmJSFOb/PDkGqGCDqyB4MuA0kZych6aoVJbncxZdQa2AgSoNd/NMBXh46+FQZO9MH+Pw7gWJPR+JkseXDSX2Lf4ySkJp/EoIcnSaUwR4xc0x9dxLRWyHWqxRALJYmv7G3ZHBXFQCPXQ6xSIVc4xSNmXrk67t+9hpiYGLLGx37Jv0Xt+o0bMHdyAZfLnCn0W57sPovAj4AAp0pz7D/cFPywBKTrG8PRKP83xpkzC1eT1OBo1Ra3uidCYGgGKxK7ESrgwd5kJprG8JGqZwIbXfLI6DAdR2iw2uLSibaFsOUZNMOpm80K95VtIyw8Bm51qymbWBVOHlapKIdLqqnNQ6XGPti1ezdGjRgBQ8Ov1yXLQSAlYvn8+XPcf/AADXoNViKplFOUGIGI5ArI/wlXM+bi4L030NcRTxETJsZDU1cf6lR9GAZaZloKcbpTJzzEi/yIiE/Bry7s7YiBS1EMSQ2Y2VviaztgnrY+USjyu+oTZ0Yq7V0eyUBi/zmvmb6lBX2sGGIqcyic5Kjo1tFHZeRVVUHZX3E5XTm72g0hyszAqjVr4NW0KWrUqAF9fX3a+7mcRCo3trkkhIyy2jx4+BCBQcGo3bE3ePpG5SaPKjD+520SYtKzMaWhOS3un15m8AsXICtXKJb4k+bOxtBRv6FGrRpi9Ze009//7oOWphZ6DO4n1lBTB2142YingIhFkO3EIvANAlFEqXB0YBNffQOL3HdZpULukIpP0KlhM5g6VcFb/8e49/gJrWSIP1p+PWPJA/3e3bvo2r27/IhKRIkDnoEhwcIFHv3aQEOzIO2zRER+qM4WPHUMrP7FwqWnoY4OzuIXWpqnoYZmtjrwqmzACG43DTTB42mgG0P0GRGaJVqhEYiNS4SzA5tkh+mLzCoVTCNcBn19MytUb9mpjF7Mnr509ADe//MPmg2ZwCwjlrrMCCRkiJCYmYP2TuIrEDIzZQmwCKg4AlT9kNwcEcxMWQso05eSDSllGmGWPouAnBDIycvD8CtRIEkGpW6vA4KxcMM+xCelYO9/V8iHuPmrcKPk33fiCvhkPtS83gSGqPBsWNGZQiAoJAIW5sSLRE28vBlMyfEj0GWVih/hKrNzrDAIzPM0RzUT6TMMGhDHyXlrdyMyOg47D5/F45cfVBqbBy/eYdeRc4gjKZ6peRnosgXMVPqCMiQ8lU3T2opNfMUQvEXIskpFETjYHRYB5UTgcmgaUjNz4Woqm7+JvbU5qrs40ZPU0+Nh4E9tlHPCYko16Ke20NPTQVZ2NlyrVoKdVb7jqpjDVb5bblY61LV4EKYmqexcMojsHDU1qKkxtxofQnJU2JHvPtuYR4C5q8i87CwHOSGQmyODPV1OMrBkviCgqalBMq5mFh4ISM7ErpdJaNlBPtERA7r4Yt466q1eD/VrVinkI88NDeI4mp3N/PeqYS1S8EpHB5kZWfilWyt5TkHpaeVlCxF5dxWsPP5A3NuneHBgFYkek/97YjT5/j0JTkHHukw9lPPg4N0BUJe/7AUXMSSMKBV2FgW77F8GEWCVCgbBVRXScVFhyBGJkJaSBD0D1pGpvK+bLk+bLP2qIYafAEszEziSEvVbWltDnRRakkfr380Xs1btRGffxoyFMJsZG+Hp64/yELdUGlTxqY7NPbCTLIH07dKi1L4V7SRHgwfbplPA0dBG3YFTkJNRXDly2Wd99dZTnLu2A/O2zJedWDEU1EiSOw7DKfnDI+Pg06ReMdzZQ/JGgFUq5I2oitETpKfi+omjqFq7Ho5tXY9fJ89RsRlUPHHViCnYq1FdHDpzE3l1vTHezRSGcspRlUecPYNJZkFT8tC3sTRFUkoajAzkX6OhW+smWLXjKLJF2dDgilmqUopLSclvZ2NOvPqNEUSZuH+Q5Y+00FvgWdSCurZxIWrq2sz4k3BJiDeHODgyRb9wAgxuRBClwtGezVHBIMSFpJmzNxWyYDeUEQGqYNcTv6sY16kFqtSqS0oWr8bV44ewbvp4RIUGK6PIP5RMPdt7YZVfAAzUpFtCEJHwuW8b5XcwYdFmbDt0Fj3aekGYmYW+45fgxdvAb7vKvF/V2Y5UhDTBlgNnZaZFzYVShr5tz98E0vJnZmWje+tm2HrwLMYv3ET7V3zbt6z9HFlCasoiLufzORmJSAm+RbKhslZFcaGNjo2Hs6ONuN3ZfjIgwFoqZABP0UNjIyNw99JpvH/6GJmk6FY2WXfPkdAfIjc3Bxnp6QgLCoCZhRU6DRyKzr+OIOZ2Dv46cwOb5kzGhK6+0CLr1BY29tDQol6RJTO7a5DUz9THwMQUDZu3Rn2vltDm8RQNl0rzG0CuwZlrj7Bj0WK0Wj8TDtaSrQd79hxH4vJzMebXbviJKBD6JCpiLwm9pNqelVOIU1z++8S1e8+Jf8UeHN80t/CYvIDbvnQiuv5vNk1uRL+OUlssnr/9BO+fx2FQz3YY2L01GterQSsZ89fvwdThvdG8njNiBdowM+TSStP+U9cwmDhwStKsrK3g5uaGESRtfseOHaGlJX2EjSR8pelLKRPWnn+w4ZHigpebh2gS7cQqFeICJls/VqmQDT+FjKac9hYN/wXvnj1CzYaNUMvdk1QJNIQmufFxiVOfJI1y5NLm6cKlbj2YkGqpXzcjMwvM2PQPckjanVOmtwAAQABJREFU7KC3rxATHkoUl4yvu5S5Tb1RZhOnucxMIfhRETj0159YOXEUfps2Dx37Dy5zPNsBoBwzz31Kw6F10zB67gbU7zwSLuQty6NudejoEH8LMWLtw6LiSJhlAv4glonfpqwk9WX0UKtqZcwfP7CI8tDSsx5tuXj7KRSuVZzkCr977ao4uW0hhk1fhUUb9qNlEzeyPGEGyomT8oUQt8WQTIiUNYIKHT1w6irS0gRo5OZKFCUefDzqIO/DMSy86Y61/3Oi/Spm/LkLASQvwdcth/yG+EEfcSJl5teHC7f5fD4uX76MhyRVfHJyMhwcHLCGpNBXNgUjJegK9O2aEj8KVkkvvHhlbFBWCh2iVOuSaCe2MY8Aq1Qwj7HMHM7u3YHk+Hjsvf8WWtqyhRSKI4w6eYut4lqH/ojTv7Q+g6fMRcBrf0wgb5jNu/5EftjMpIUuTQZVO7flRSKp6WEGrjoXWxaNx5qZI3Dq2j28ePcJQmFWsUsB386x4JGdl0sVhiJlrJPTICLOuCJhKP5e8QBvyHHyqguHVj/TSkoxqwvfkpRqn1Isnp/Zig9B4fjv0h2SdCsZAsGXyBZxiAozMmklJIdYXqjvJtVSiWKhy9NC6oNzWHzqCR5HhGOqYWt0ralB/DhykJ5eVBnOyc6AIIs4I6elFctSXV29iNUvJSUFqampJIIlW2msFtmpERBEvYCBc6ti58AeLB6BoJAoWJqbFH+SPSp3BFilQu6Qyp9gOrm5ValdRyEKhfylB62c6JJiaUKy7MIqFSUjTFl5qDf4P72LOpTxSDRI744t6E/Jo4ueoZY19En+hjEDu6FPp+YwNzEiPgdncOlBJJZPGVZoKbjz7DUukwdwzcoORQnIeY/ysaCWKqRpj199wKHT19CHhMIO7NEGvp51aTLdR8zHwxxrLBvUAGOJpWLZz46YtmwbvUQyrDcJUfyqZaYl4tWFPXCfuu6ro182d+zYgdq1a2PkyJHo0aMHXdzvy1nl2NLQtYGlx2jlEEaFpAgm4aQ21l/XZFUh4VVQVFapUOKLRi1D7Fo6B28e30cWeVvbPHcKBk+dB23i76Aq7fldP9w+f5LkEcjAPysWwq1Zc7Ts/rOqiK9QOVc/TYC7lTa8bWXPR/Hw37+grV3UL+BXkuhq3IJNGDZjNRq71UA0WVa4/fgVFkwYVGRJRKGTFoNZnWrOyHx/gbbcFHTPIL8HyoKx4K99eODdEJpJFzB8eho0NTSIUiH5m3w8sQRqK8AKWCC/pH+TP56DYaU2JPSy6DWVlM6P2D8kNAq2bOIrhV16NvpDYVBLzogy9d4+fwpviGNmwJuXOH94n0opFNSMeTwdnN6zEwJidr507ABRLsQrzS05Wqo9IpOY9oWiXLkoFBQS3yoU1DEt4jy7acFY9Ozgg2VbDtN+Cv+snAyPOtWp00rbKEWBWgoqaFFxCXD0GYDr957i8F8zkUmWKA4TJ+OfSSTTxvlj6HkW9BX3rzIrFBnxH5GZFEySQ33BQNx5sf2A0IgY2NsV9R9jcWEOAVapYA5buVDuNngEdPT0oKmpha6DfpMLTUUScanXAKYW+ZELGmQOXh27KpK9SvCiFAotkk1wViOmMhZ+gYGK+qCWDzjE0aJujUp0cq0vZ5V/6wlJqFW/8wjEJySimXsdWJubEofUJETF8kFZNAqiWsSZifDNKaxbsBBrT75GCkRISS4leZQoCLfvhEC6AF9xpCm5j7ZxZVi4DSu5A3umVATCI2LhaMsqFaWCJMeTrOorRzCZIOVDnBt3Lp1HR3X6du/NBAtGaVKhqk3adaatFS7EL4TN2FkUbkqh6H0mHHs72EKfREUU16jMmvefvUNoVCz9Vl5cH0mO/XfxDsKjYzF48nLiQBlBFNaitwEN4rRoamQA97rVUNXJrtD/QhIeTPT99+Jt9Pp9Hk2aR0Kd23o1pLfPXL8PLledJAu7jgmDfxKPdfYTLFzkh9ar/wBv3SRMyWgH4eFXGL5jBiyeXcGTvJpo16omeJ/u4PTzXNT3jsKxo9poUCsb7+LM4VbFUDw+MvZKen8KRi6dAQYTiMkootIPj4zmw4nNUaGw61T0bqIwtiwjcRGgwz6JK392VhacqruKO0yp+rXu0ZdWKlr37K9UcimDMAFJWZjoblqsQnHB7xEmL92GiNg4VK/kCKoYmBYJIS6I7JBW/miyfJCTK0JulhpekogSTY0vtwEqUkREcp/EJSRj2oodEBG/nolDe2LCkB5FliCk5S3LuEr21qQolCUSkpIgEGbCh1hcqARYKSSrpohEfOz997L4SoW6NRpYhWPzjKWo5jEYU9zjMXu/CBkvDuCfF/ZoFL4QU9M6gXvwDVp008CGfQbII4Wv/pxyB1VmL4abLBMRc6wg+ilJvU0KhYkRQiwmyR+yW1RMPJwcijo//5BAKGjSX+4mCmL4o7FJiYtG8IMbSOPHihUKWBw+3j4+SEtNw52/i/dcL25MkWPEWqBrRGpIeHjD2EYyL/9cEpEQ9vQeot+/hCizaJheER6l7FBRDUZGxtBIipZ6DmrkTc3MqQqcPZuTt1I55awuRWZFnIpIJ5U1S6g6uv/kFUxevh0rSKRGvy4tJTLrlyU7PzEZG/aeRLOGtdCqSf1Suz8ipdFHzVlHh7PuWzWt1L5Mn6zp4kCHkfo08sbJS7fhQcJVJy/djjSBkGb94m0AKH8La3HCB7P44LVdhIPNDeG/bjQmneiFynZOcFEX4uC7G7hDQl+FQS+QU7MvuvauDM/AfzGVZOx8V8kXHa2KtyjJe/465nWgY15X3mQlojd17kacvXgXfKJkerYaho0rJ6K+m3L74Hw9QVG2CHx+IknRbf31YXabQQRYpYJBcAXJiXhx6iDatPKFa81eUJOyCl//vn1AeafXqFFDKmmph3rAxwCcOnMMdbv0hYGF+D+wT/euITM6DL/0+ZkkUDKU2hTu3qA+vLy8pJKfGiRIF+Di5Ut4ff446nbuKzUdZRl4Lyodu18nY2ur71MHU9dr1prd2L74D3Rs0UjuIpsZG2Le2IFi0aXyTFzYtQQ12/0Gf2LVqFO9kljjmOi0bOshmJsa4R+SETRj4Tg6Q2dNF0c61NTvgT+d+Ip6+ImlVJDlkqDDczDhfnXoBmuiRj9SsO3mMZx+ZIxImMBcPRMxWTXg8e4vzJqQjZQ6jWHqOQaL6pzDxI1vcGwcs1ZDTlqkUjhmqpN71pv3geSFCIghfis1qjoycWkZoxlOnDRNyPdd45slPsYYsoTBKhUMfgki/B+hoYwPU0o8IyPZc/y7e7gjXZCO588foGabbmLNWiTKQsSrp5g6ZQoMDGRLWtW5M1kXlqFRGAwaOBCLFi9GKj8G+t9kA5WBdLkMzcoF1jQv3nkslShQCeThyIRCIc1kTclNub6rC10jpLyUisDQSGz45yRuHKLKe3NIVFF+Erj/9emIapXs8fZjCFZM/Z/40+O64vdde5ASnYA8UwsYksS0okY1IdDVx6A0ITT1uRCkqsFQtxfi0zVgalgQytkNx8TnIlXP1MDjUo1jYtCQ/p2wbvMhermppbc7eCSLqSq1oJBoWFmZqpLIKi8rG/3B4CXMIhVA7WxtGeQgGWkbGxtkpiWLPShbKCBOfKSGh4wKhdgMy+hIefabWVgiI1X8OZRBUuGns4mPwuMYIXxILgod8rZcXMsmJlsuCaNUpkb5XWRLWGdGnvL/PvcvDO7VliTpkuebMhcGVvkKBSUr18AYBiRsU9dQHxpqPGKZI4oEV+8rhUKeMyqZlp5TZ+TpiG9NLJmS7GeqVLaHtWV+9Nbg/h1lJ6hgCsEkR4WNJZv4SpGws0oFw2hLUuOAYVE+L11I6uYnaX9mZ0FeUlW6TfGLRUJGeQQmqi5sR87dQGBIJOaLuWQj3kxFCLl2FJdDssXrXlav7FQkCyk3V+lbHsmpnvhyMzjqxGdIiZwzO7TxpCfVvaOP9JMrp5Eh4dHkxS5fKSonEX44tqxS8cNdcnbC5YnAiDrGaOOoV6IIVI0Myjkyl5T7plJoU2Gk5dlS0tJpOajaIZ/IEsRD/3cKFYdaCqKcMdfOHlVsQi9phcmLuoTFK04hBmSJ785JHL8dBGEun65T8+ApyUcR8RhnTvghMJ0oChnBuHP8X9wMIXksUj/i+tGjuPSORGWQ/i/OHMHJZ1GIPjYBA+cTh0ayrCVtS3q1DVxt5atRMXZ4L3Rq56WSBbnCSI4Ke1apkPYrKdU41qdCKtiYHJSO6IAIJOd8fuvhqEPfujJs9DnIjHyFB29ioVW5IRo6G6B44zmTsolHWxAZiPBUEV3IikqwoW5ghSrWlE9GBqKJn8krvhac3Rugsr6yzkC8eUrS630mDxoJmahhUrA2X/zoo+f9MGf1LuiRiorevcZh/1pS9rxT+b1pUUsxlBw6pHjX7cf+OHv9IZ6d3lK88Awcnbnqb5IbwkXu/iWcnEyIeMbQvzQTEyOaoG/uHIwJaom8bZfhOrsj/l3zGg278zBz2gf0Fl3F/VZdobVxJ9Lt4/Gqcl3EzZmLrLZCbItuh24P9sGvUjYJa82SKTmWUY3BdBruXFEmA0hKT5JaAlk+Z6T0BMpxZERkHFp4lR7hVI7iVUjWrFKhbJdVcA7jfOchsVl9WFJ2JI4O3EavQJs7QzHwiAiNm1aG8NkUBDRbibPzW0A290kmJi/E2TEdMFvQAO5mlNLAgWajEdj5mx429BqKPRoN4e0sxPPJYWiw9jiWe8nuhMrELORJM508mDfxHXCKOP+V1fqT8NGlG/eRappC+kHe1Tff9FzWOKbOU06aHvVq4uHzNzAgBcp+JX4NimpP3wTg8NkbeHJyk/xZWjrB1t4BOgEf4PJbN3QlFoiTJ5OgW6czhtuHok9oOHLumpDCYlw8Dq+KPt1IyGnjEDzeswIfrgmQliJARrNeaL71OG6SZFhdPaxh61wt/zcrobR5uVlIev03jGsPl3Akc90johLp/CXmZvqIjE6CmXm+X0JMbL4/k6WFYpJ/yTrDiKg4ONlbyUqGHS8BAmXf5SQgxnaVDwIcQw+M3LkL3bU/OxCEbka7PcZYeGsbOuqRYxl3sXjgv7gqbI7uPCV0MuDood7YbdjbvsDMn4voNd2wyW4B7m9uTytCIr8l6HP6FgRenaE65dGku766xMlxsfVHkuCqZZkEnOysYG9jRTJdhqJJg9qFUQ5lDmSww8AerfEmIIiuFdK3Y3MGOX0hnUscWkfOWotJv/WCnRVT6cvV4dzCGtsXzcZMThTsh3ZCwqEccEguCi/nD0jQSEWabnsMsNuLtTP/QHZGNXgLopFnaQT1zFi8OXcWLzLM4JCdhARNY8TcvoC3I4aghoQGuPgnq6FjlZ8d9AsC5bt14SalRGqjV6cGuHTrLbRJSGafru64cjt/+at/D/mHOjMx4xiSt8TJ4fuwbSZ4sTTzEWCVCiX8JuSlvcKhOdPwgDhrcYzdMdDhAQJrtEULSqGgmnYTzDzSJH9bGf/PE+D93nmYdpN8vdSMUH/oKGg9CIVLz6aFlhWu9wwc81ZG4eUr07qb/ujnxIGemviL7f26tsC8tf+AqiqqDO3n9t4YTRJgVa/iCAtTY4WItPnAaWQRCw+VyZORpuGGhevdaNKHm8UjHkYw0yPawOdUKlN2bUBiUg4MTPTIMmMrNIhPA9fUENqiQegr1IT+DAFS1AzBS41Ciq4VzHk56O0hBE9ChYISwNRtgtJVH23f3BWa3PzHQzvvmqDyVVCtVTPVSXyVIcgg2VZTSYVSNvqDvngK+o9VKhQEtERsNC1Qy7s53LlEidBxgGnseZJQ5LOPBU0oA0F3HiGrXjNU01VCSwVIXH8dLzSvp0VWP3iwN1ZHMKknga+fqxmfcOeRCHW8qkJfInBUp/OdT1GITRVCmyvZDPt18aWVii6tlENxpJZAjMmnSyvFLMXExidi0Yb9+HfzPIWkBufomeK7xw4JKTUu9JlUhx5RKOjG1QWJOCXNkKghpGlZI9+OwoW+sWTXOTc7HakfDsPQdQhFSamajdWXZUkryy9LHaqy7EGBGRwaDUsSTsqRMumgUl0QFRImX/1UIYF/BFE5lFLRqh3atSMf8pZg3qQpXF6fx+mEfMUiL/IoJo3aiqfKCgaHpNSu65svf1sfuJrw0NjLCR/PXQKfljkX/P0zMGzHC2WdgVzkauJshYUdPCSmVZmYa5dMHkZSUucneJKYAAMDlk0eKn5dDRn5GxvqYdfySfB0qykjJeUezn+0BFrlnIZbHITSiX/Px4+h4nRVqj5UtJK1BZv4StEXhbVUKBpxKfhxbPph5aibGNy+HU5UN0VKYAxsZ+/Ez0pppShugmowHbwIk/3+hw7tjqGGcQoC4pwxa3f3CmmlSBJmYfmVp1jauTHJDVIcHmUfmzysV9mdFNhjSM92cq0/UproGqTOS3sfyZWx0mgq4znzxnPBUSM5KZS8PXjyGlNIDZDHN/5WckmLihdCLBU27NJHUVAUsMcqFQoAWSIWOr1wyP/bB4oWqg3fjbuD+AgKE8LAyR6mypVw8asp8tDr2BN8OwNo1cDgA7fQLy4YoRkGxCPbhCySVMy2894b9G3gItPkqOyhytSUTR5lwkZSWXKEfKSFXoBhtQGSDmX7S4BAKJX4ysZCghFsV3kgwCoV8kBRUTS0zeAs27NKUZKWyEfLnFSCLPGs6p+gioFNbFlP9SfCzoAxBOIeLIRJvd8Zo88SzkcgnCS+qlenKguHghFQrtchBU+eZcciIE8Ezr4Owabbr6QiSSkjzwOikEAcO+ntwCjwU9JpWi8+RSMuMU0qutIOysjOxpMPkcjIykYmicKgttMzspAtyt9OE8qeoClFkImnHyMhIjVFKHoUD4o+xYfapvhWxGbpvRKaRuzDjulrG0ZyVDiSEG22KRYBVqlgEG8OKU4kFAoZ5CAZaUoWNSKTuE2NrG1nZWWByhmgLC1DwjkoUu5nYXEY3lS6kthJ6Rm4/zoUb4JjyAM2C/dfheL1pxgIyAP23ssQ+AfFKHIqCItOxqO3YQgmiY8i+CmftxMRRUIrqeOBJDmSrC0gIh4P34QhJjEdAZEJNN2ohDTCM5HejuSnyspCqcZnp4YgJeCYSvhRKBVwUgoTFc2HowOrVEgJn9TDxH/CSM3ixx1o6uSCW7dvwc3NDTo65ZviiVIOrt24AZNK4j/0tHi60DU2hZ+fH5o3b17uF/Ldu3dITEhENRu7cpflawEyyBu1JgmZndWu4deHJdo2Jmm5u3rVhIk+D1okWVY3sm2sr022NdDD2xUGuiQ8V4Gtip0pyeipCRvT/DDJzk1rwJrkbKAK5FHblia6MktTp5IlLI31YGtmQNMzN9Sltykl1ojgUcBbZkZKQoD/YDHMG89TEmkqvhixcYlwdrCu+BNVshmySgWDF8S8Sg2kxkZg2fLlsLa1g7qUzndJSUnIISZiU1PpwqOo6oeRkZEwsa8Mu1qS5cGv0aYrbp4+hEdPnpJS0FRScOnCGUJDQ2FNSq9rfE6oIynslJWFz+fDtW13cLnK4zFPLVUMP3wTU1u5oaZVYWIDSadH97c2+ZLnwOqrbQvy4FV0o5QH6mFf0EraLjgvzV8uUcQK6HLVvmxTTqEFx6Whq6xjrFpuIlYK9pariOuTlJhKF+UzM/2Sb0MRfFkeIDmV2MYYAmrkxlylaWvY1G6INH4MvVYuDbOLe3YiJSEeA8dPkWY4GcNBXfeW0DMxk3i8rqEJPPqNQHJkKLIzpV/K2TRlCuZt3Q0DM3OJZaAG6JGlmKo2DlDXUB6FgpIriSxPdK7lLLNCQdFiW8VEIDP+FUTpEdB1aFsxJ6iEswoKiYAFVa9EiUrIKyFMjIjEKhWMwFqUqI6BMaiPtE3X2AxZohxYVq4hLQmZxlEWFhM7J5loEDMNzMhykJllxTFHhhLnSXsjXfSsV0k2bFRg9KKN+9HYrQZaNZHM0qUCU2NcRP6jlbBqsY5xPiyDLwhQ2TStraSz7H6hwm5JgwDrqCkNagyNuXflPEOUVYfsoxtXEBMepvQCUwrFmCN+EOV+nT5dPmILhRlYuvmgfIjJicoj//cIjYyVE7Ufi4xNm51Q12LN8Iq86iEkR4WttXRWUUXKWRF5sUpFOV/Vd08f4ep/h5FDnNOe+V3Dx5fPy1kixbK/f+UCHly9SDOl/mYK02FpZ69YIaTglpaZhc19fKDBQF0BQUYm/txxVAqp2CHKhIAw8g6oD+tHofirEhoeA3s7NvGV4pEnK07lwZTlmY9AZMgnPLxxCXlEobh6/BBc6tTH45tXfhh4zuzZDh19ffid/Y+ec2RwABq36aj0879NCoVRTpk2JFqBbSwCxSFAOUcnPN9Eanuwy0XF4cP0sTCS+MrB1pJpNiz9YhBglYpiQFHUoWOb18G5uivePXuEJOLIydPVgXvz1opiX658cknUxN1L52jnVX5UBC0LFUnBlSCPRnlMYPOtV3hC8lH8KC0kIgbqVVrhzNW7GDbtT7i0HPSjTF2meXI4arBp9w/UNHgy0SnvwYePX8G/Z24iPiEZ6zYfRuCn8PIWSSz+EZEk8ZU9m6NCLLDk3IlVKuQMqCTkkuLjUN+7JQRpaeg6eCSate+KKrXqFpKglkT+WbUIL+744YP/M+xcNhcZAkHheVXY8H9wB7uWzkFmRgYOb/iz0CoRHRYMGydn2FdxgYWNPR5dv4xaHk2Vfkqtq9tjrHdtpZdTXgI6kre9qpUcaHJaWpro26WFvEhXWDrpIeeRyX9ZIZY9Ll57gI3bjyKWH4/x09eAx1NsvhRpvyTRsfFwcrSRdjg7TgYEWKVCBvBkHapvaIyYsBDUa+IDLe3vy1xTURfXyLKI/8O7RKl4jn93bIJ2OSfRknTOXJK86fCW9RCmp+MUCY1NJqGxVOOQf4amZrh77hR6j/4D7i1ao2odN0nJK6x/dIoAF9+FoYq5IZ0ASmGMlYDRgK6+JBGWFqlSysEv3VopgUTKK0KeKBNJr/dB06RilG0f0r8jDAz0ICAp1V1rVCZVP1XA+ZE4T8fE8tnEV+X0M2GVinICnmLbdegIZBOnvDY/9y9Rii6Dh0NHTw8ampro9uv/SuynrCequ7nDhOSmoJY2NLW04NOpBy2qtYMTajdqhvo+vrBzrqKs4tNyUbKPPeqHqhaGSi0nU8L1J0qFgNTmsDA1gYuTcmUzZWrO0tLlcLXIssceYqVQl5aEUo1r1rguNEluGE3ycjCoT3ulkq0kYSgrBY/Hg55++WYxLkm+in6cW9EnqMzzq1SjbDN686698PeKhWQaHPj+1EeZp1OsbFQCMM+2HXF2/25UrlELBsZfsk7Wa+Jd7BhlO0hll9zZvyX0tZUr8da3OAlILpNsBsq0GFvkv502qu+K5Kycb9nKZZ+nziGpzlX7HSf142FoW3pAw8BZLpgoBRFinWrT0h0Hjl5Ev15tlEKksoQIComCpfmX+0xZ/dnz8kWAVSrki6fcqZlaEGcjkgohOzsT4ighchdADgR9f+pLKxW+PfvKgZpiSRx4/AEejlZk2eNLymrFSiAet83+Sdj7Lh3qDD2YK7X/GYHVPdDpNDO5KtSRgzXepnAzV03HxtysVKQGnodelZ/Fu2By7pUWFYzk0PdypppPrn09S1y9TvJshD1DBAMpZNS1dGBR0wNqmvLx1wgOYxNfMfJFEJMoq1SICZS03XJyRIj58JpO003WAKQi06ZLNyQnJuCDX34+B4mJkHIdOiQrp1X12lLVzUhPTkD0u1fIkTJNN5fMm1rCsTUxlHoOasT8alapGowsbSWevrQDYlMFuEAqcvZt4CItCYWNOxYgwNh2HjDV/d43Rx5CCNvUB49Bf54bpNT5qU9hKqtUqGnqw5okuaKsWopuaRGf8Ob4Npg6ViV+L/JfdvG018Hsfo2QFRvNyNSEKfHgv32MWn0nyIV+aFgUSXzF5qiQC5hSEGGVCilAE3eISJSFFycPQldDDTWrVyc/eOnMu1Z9eoEqKlbJRvLaHZSslE9AwKdAPHn5BG7df4Gmtvhvg/yQALy9fApu9erBSEr+lAzz5sxBg2qVqE2pGlVQ7NG5Y7BzawyHeo2koiHpIAuyJvvPgJbl8qCQVFYqRFebVDdlqjGpUFAya3LVkJur+AeyPPBKfr0TepW6Qp0n3e9TVhkSg9/ConJNODRoJSupEseP9CjxlMwnqJweD/evQp5IBI6UBQe/FiKUylFhz+ao+BoTRW4zdxdS5CyUlFfkq2cw0eXhf8N+K/cHU8uWLbH/4EFiwbyHyp4txUKMelB9uHEevwzoj6pVq4o1pqROFH9Zm2djT6xeuxaWVWtBS4e5xFO5xHt83PFbWPeTFx3xIKvc7PiKi4AoPRqC6McwdB1afpMkD2UqL4aqNlp2YuGhlAt5qJVhJJumWy3lty6q6vUqS27V/SaWNTMlOJ8aE4H65A2/PEyi306fkqGBmxtSovMTTX17vrj9rPT88sGyKhTF0ZbmmAmJPrC0tkZKbKQ0w8Uec/pNMFpWtWcVCrER+3E7cnWtYNVy448LgBLOPDKaD0cHNvFVeV0a1lLBJPLkTV+dK/81TmlF5lKmRSKTuI16c1BnYI1WXP7F9eNSeEowh+JolHaMWirqSkqZs41FoCwEEl6sh1HNoSRrJnNWs7JkYM9/j0B0TAKc7K2/P8EeUQgCrKVCITCLx2TXrl24du2aeJ1Jr6ysLAwfPlzs/oro+OjhI6xatQovXryQiN327duxlixtlGd7HZ2Aif/dKU8RmOedm4b44E+ICApCeGgU0kT5LHOSoxGfLg77LKTGxKPkvK45SIuJRlpB5GluOhJCIpD8mY84HFShT1bSR2Qnh7IKhZJdrFwSVh3HT2AtFeV4XVilohzB/5b1kydPoEUSRAm+ScUdHh5e2DUhPgFXr15FDvnxUG/VVN+CB3hYWFhhv/LYiIqKwpKlSzBo0CDUrfsl3XhycjLSSCrygvbq5UtQn4JGzefBgwcYP348fai85nH1fThmt3cvEKtC/s3j/4tVv47Drk1/4dCamZjZYzAOfcxA7N8TsepCatlzFn3Af1MX4W5mCV0zH2HfiAW4kZEHTqo/TowZhOXH3yO7gt1pNI1IenmvFSWAwB4uLwQCgyJgZmZMEu0pd06Z8sJHEXwr2E9dEZAxxyM0NBR8Ph8LFy4sZEK99WuSbJpUe//+PaZOm4oMUkdj7ry5uHnzJiwsLGjLQExMDAkX5YJ64y+vpqurCyMjIxgafsk8GRISgr1790KPhJRSjZrPk6dPsYZYJT5+/Egfe/v2Lbp3705vU/8FBgbScys8wPAGpZylZ2VjrE8dGKtIbQNZIOFYeqPvstWYtGYLRrkn4umLL3aHnOCL2D99DJbOXocboUKaTW7oVRyeNQ5L56zH3bACk0Muku/8jf3nA4qKEvMSQbrVUTfmNP4asRQBHVdi0R8tYVaB7jTxT/4klYVJpIIKO0cWvWgVZ+/uw1dwqWRXcSakgjOpQD91FUT/K5FjY2NRo0YN2Nvbw8QkPxvchQsXYGxsTCsOVNdx48ZhwoQJqF27Nq5cuUIvlUyZMoV+YOuQHALWxIkxOzsbT8lDuzzaw4cP4e3tDQ2SU6KgUQrSsGHD6N1Pnz7h7NmztCWDmpefnx99/CWxWrRu3bpgCJo3b44jR46QEEMG0kMWcvmysfDCY1x6+8Ua9OVMxdzKi7mJfVPGYfmYIVj30A4tffIVvjzRKxycsRtpPWdiVFc1XJzyJ54LX+HAtB1I6j4VwxrH4OjmuzQomTeWYcVuPmo0qVwEJNHzN+CLnuOvXxchtPs6TOrgjC/fhiJdVXInI+Yh8nIyKkSxMJW8AGUIvXnXvySdeIcyerGnmUSAVSqYRLcU2h8+fKAfttOnT8fo0aNx6dIlmJqa0srCxIkT6ZHz589H//75dUGoJQ7qIVuzZk0EBASAsgqkpqbi8ePH8PX1hb6+Pj2mX79+oGgy3ebNm4cNGzagZ8+ehdaR69evo127doWs79y5Q29TSzpUW7ZsGX7//Xd6Ozg4uFDmnJycQmsMfZL8V6tWLWzbtq1gl7G/lJXC2cwA3ev+OM6ZHDMPdJk4FUMmz8Svnnz8t/1+Pr5pT/Bawwtd3axg6NYF9dU+4PWnB3iNxmjvZgOzDouxZok38lIf4tjSi8hu1Qf1DL8OAhQh6GUgsnXrkjo1bog9cwJhitELGft+fEtYy8Idpu4zvj2sMvuCyCBcu/cWL+OypJA5GwnRZCmzxJE5SIyKRkhSgTWLFBfITkdYCB8JXw6VOFrWE6fO3kJEVBx+6fPlHiQrTXa85AiwSoXkmMllxLRp0zB06FDY2trSSwYDBgzA5MmTQVkeCpJkUUsaBQ/kHTt20ErH5s2bsWLFCvptfuPGjejQoQN++umnQpmo5QdK6WCyUcs0lB8EpQz5+/vTlofbt2+TFNHqtLWkgDdlMaGsJwXt5MmToPwuqDlQVoo6derg2LFjaNu2bUGXwr9OTk64ezf/rbjwoJw3IpLSkEV8U35xryZnykpOTp0HA0sbmDvUQP36DsghS25009ADT0iyG1KKQHY4YjMMYWasC+3MJCRSx6IuYt9uf0C7NnpsGw3DQytwOa7AI5Ocz43Hu49aaDJtFJr0G4ZmcYex954Yfho0c+X/L/7xclpI1Vz2yEHQ4Y1oNfs8Lt5/gOXj56Lb4VBwMt5g3uLL+CjOQz87An9O343TxF+m2Jb5DtMHTEGz9a+Q73KTg7c71sCtz1YcKWlMsYQkPEjyyvyz/xx+G7cUW9dOBZfBJHASSvZDdicxhmwrDwT69u0L6iGbkpKCRYsW0SIUKBPFyUM5a1KOjD4+Pjh06BAGDhxIdysuBwbTywa2NrZwdnbGunXraMsD5fNByU4pRSU1ap6UJaZAEXF3d6cVqoSEBDRp0uS7YdS8RCTDHlON8qEYdvAG9vzSClo/2E0oN/IStg1/DS1Sb0Mo1EfrGWTp6fJxQLcVurlNw46R42CTGwF+q+kYYlMZVg1OYefIMTAniZ64fX+HrQYPPMfuGNb5PGavuoi2yz6bm7P88SHZEe4OZMFDqz5+6uOMsdsOIrTx/+BAIoFVuaWHXIA6ScVd3O9NNeYlwLmLkWg0ZS6WV9dEXsgNDP47AG+4b3H0ajgS3Gthme0nLNj7EJ84pmgzoAd+c+Uh+MppLD0fjFyXJpj2q/nnqeYi7vZlbElxxewO9oXTz6PSheubwzwullYqNGMfYPGtJJg7N4AX72uLVuGQwo3AOCHeH75IQvDFeySRaHdSOVeIV2+DcO7KXeTm5OHMoZXwaOhaSJPdKB8ExLuC5SNbheZKLWdYWlpiwYIFRXwQvp60lZUVuekL6TK+1IObuqGdOnUKXl5ecHR0/Lpr4TblxPm1daDwhBw3cnJz8ObNGyxevJj2AaFIF6cYUIrD1q1bac6U0lHga7F06VKsXr2aXv4obhw1gLLSuLoyd4PIJBaKZV09YaanTcv3o/zHsRiIpbfyFdIic3bdj6X0gT1YHhuBJE1zWBrlY1N3xj4si4mEUM+a1BYh2kHn5vlDh+xC/tX9TEm7NQnJJQoK3dRg/MsO7P3l866K/9Fx+N6aplpT0kHb1jb4e8o8dHB1gWcDN8ycUhfW0ZmwN+bApxYXpzY9gk7/X/GX8AK6rruBzmMyMXCPEAtX9EX8+i2Yea0HKpFJp948iH7HOJj6p10RCDKeh0DQoDYcP/IRmpOFxO23wK1tA21BFVQqQ6n8RJSK+yeukYya4hvPtXmacLS3wv6t8+BJlCKQiqpsK38EWKWiHK4BFfVAOSpGR0ejadOmGDt2LKjlj2/bzJkzaavE4MGDaX8EKoqiUqVKhZaNb/tT+/v376cVleLOyevYQZLum/L1oJZqqPBPaimkYJnmax6NGzfGli1b6HwaVPTHyJEjsXPnTnpctWqlLzlQSx+UJYSJdiMgEj6VrWGi82MpFOJhqQYtC3sUrZygBh1LO+iIR6BC9aISwMU/XgEz92kqPi91VCFWpic9kuH/0B9nL/6HTmc/4cMGa+hr68PR0gRmzR1xZfs2/C8jAREZHoi8/xFCz37wsrKE2pK56JEdjOk732P5Mg4qjZyNlkX8aYiD+Gs+7Op4wunDfQR8uILdfFeMtH6CMNfKKKvaUOuaJpg1dhnJ+8GGgqr4F00CtVDVZ6pE8u/evZv2J6AcFynFgbJGFNc6duwIyn+BKiZGLTfMIUW5ilM+CsZSOSwo581WrVoVHGLkL6XcjB0zFgcOHCjRYlLAmHIapfxBqDZixAjaj8SNpAsvrVEKRdeuXaGtLf+H/rUPETj6NECFzdilIceekzcCKR8OQMvIWd5kFU6PQ/wdxvZcjk3p+qhNLJ3TZ3VBo6SIQjk4wieYtSEIzWb9gRNTm8KBvPVr62oiKymVLJLlIur/7V0JWJNH+v9xE8gBhPuSIAJiFUW8FrQe9arVtVVb+1irtm6PXe16dO35b4vFttZdta2uR22t9dh631itt+KJIh4gAiL3TSAJJJAA//nCXQkkkIQEZp4Hk8z3zsw7vxm/7/3eeY/fD2DlLRmxpxHgg40zwP1tF3YWKBrao0oMIoMgeIA3OerKx9b/3oHfm8OQkaxA3+Ba76JGYvqtKyNANRWdsLrLI5Zj6y9bceDAAaX7KPMAVVU+//xzpCSnKI05VdHU15eKShsCSNXX6eJz7Zo1Sv4Zo1AmCmZLWor6cRmNBJfLVQa/qo9VUX9N1Sdz7KPqWERVG3XrA5x5WDMtXF1yStfNEeD6z+oSAmiNVS8smM7B3He/wiUBFxXES6JiwquAWRXshTH48mgv/MUuDz9/tQ7HqsshLTLBmcDxGHtsJyYvsUNZrg3eXtUPpeQYltMjHN++cANTV9/A7K9r7aFMZCmIlbpilgvp274E/7GeiW1+OfhI6ISRAmJjQ0u3QYAKFbpcamID0ZLRJJMPZP78+WqP3NOveSwAVQ0ZbUZrRcmLJseOKvh/hsTJYP7ULZraeDBHPKoKk0GU3OVVXVZZXyFX4MDdVLw6sJdKGmO+wCDCeLLYWhrnf2kFMbQzM1XhVdAJC1NTXYni22vBD13WCaPrYkgz+M/8O65OFeNxvox4/ziBb0XS6JChftjxKfLNHeA1Ixiv5VfCzp0H0/wiiHh8OG8PQna2FBw3B3CYrbX1n7XMvbEM95qwWWM7CDv21kWjXfMdptZd27CX2DrQ0q0QMM47kJEskS3fGfcfxCM0NNQgOL7/4AFs+c1Py1tjzNKGo7zpMEcw3t7erZHq5RoT6js3OwuewydqPN6HR65han/VworGHRpYg+cFLKw/FQMryzYs4ur4Lrh7HTxBICw5jdFPtTklUVoSCRBlCo6XegJxRUUlVobXBn3TJh/t7Ut4bxNYLiHtbW6w7WqI/YTAuzamTT2TVg5OqPXhYMHdvc76wZmP2sNHUufVlkVEfU/0kyIAUKFCh7vAo18obu/bhl+2bUOf3kEwNVPfslmbbDEBnh6R0NePHiUhZPpctbs2Iw+FnmFj8NPPWzE8PExpXKp2Yy0TMnYnF0ksDPdnQsBqx4MwcvIQ8hbfddWw74c4YHagApWMJkeNMnHDEbw3whODBvRQg1pzkohVt8GytsKy1weq1djOigggFuoJRGp12EEi+34LusSxRwdhoM0pAhojQIUKjSFTv4GFpTV5iM9B1t1buBx3v1bXqH7zBsq87AwoSEZSDx/13voaGtZ/Ibpxlh0fA19+A1YszdI0uwX0BYtnj/iEOFQ9zqjvUePP+zFXERAcQtxKic61HcWU+K97DyU5JAT+GrW+kpoLkawSE3p3vqZFI8bbQexio/5/Z3NiiOfEMoMXWzeCFiMgsCxNddZ/O+BRq0l1pQTCB5vBH7BELXpKRBGgCDRHQP27UPN29JeaCDCChU9omJrULZPFrv0GwoI8jHtHdXCplltqp9bO1RPMX0fKl58sw7q/LYGji1tHutGoLWN/8d25OGx9bbRG7Shx90WgOO57sHt0fkwK9fRN3XedOmvmdF3aRr5z9PFt80UpKAIdRsCUvI3/Nm8cbLrwsYemIEXHPsCAye8gPukJ5v1rFZat3KxpF12anh/6Eayd1Tuy0RUQJmZEe8Qk09NTQj1dzaMr9ltdJYepuW60e10FLypUaGElHWysUCqt0EJPtIv2IiCWVcCerEN9YQwz88Xl9Fy8HpC6z769fHA3IRlMErcnmdmw49AYAgw0VVKS9CruB4PYL0xuEXMrW8grNcibQuymaNE9AorKclhYGY5Bse5nrPkI9PhDc8yeahHq7YxD8RkY5texI4KnOqYVaiEgIfYmeSRIT1/i9saU5IJS2NtawZljvDEga0jAIV0ULtsWwwcH49KNOGVm2NdfGquLYZR96us5xxgid7QUxa6BXdDcjnajtfaWHDdUiAtgYd22d441zxE5j+7BLj8DJmbGd0uXCvNhZmVNDNkNXwMgLSuCPbcx34nWFrwLdWR8O9AAwZ/Q2wsbLt9DaiGJfOloZ4Acdm2WTsUlY2yAFwk3XBvi18+Jhw/GtB6105ARsSFeE1Idar7mTBunFCp8vT3g6VqfJEq7iFhZWaCiQq7dTlX0JiVaKmurjoV3dhoWaRBaivop2vIDIBZmgu3kV1+l8tMpaAjKCrOReuuM0gVcJaGBXrC0YqH31DcMPndHtVwGeXkJMXpvp8G8geKvbbaoUKEFRNnkBvrJuFAsPxmD18JD4M3naqFX2oU6CJx+8BgZBcX4Zo7u3rjV4aM1GkadrcnbtDURKux5XMSnpCGoZ4/Wum7XtWnjwzH/g1WYOu7p7LDt6rCFRgJPVxw8Fd3CFe1X3X2YCk+31oUjJocHEzfjz0UuJkmw0v8Ar8/8P1/q1N8ct8HIuLEGbn7Ptv2wJa7qPqOmdSq/3WHw0vwkEufHn9hUNB6zdod5azpHKlRoipgK+tH+HmCyd0aeuoVe5AbXx9MFDiQDpjZSJZeRNz5ppQK5IomK0Q2/mtFQF4jLoGB1fA5yRTUyhSLcSskisQ1MsOXVkbAjGQsNtVjYcKGQlavNHrNnxg8Pxa4jZxG5eJ7a7dQhLBSWYvvh0xB4eaBYKMbV2HgMGxCkTlONaKZPIPkl/r0FpWTNeRzN3Jg1GogQHzp1GYvfbP2hqpBJYNaCO7UyaubAzvGqam2eLIcAcpRhgTJhGnmQ+bRGSq/pCQFh9j3wA1/W02jGOwwVKrS4dmMDvTGQ2Ffsv/MYV1MzUSRpOVGYpkMmZ+ahQiTE/it3NW1qMPQVxDAwKiYB1nb5HebJjHh1+PA5WBAWiOfIsQfj5WHIxZLnhuqqalRKxbBkNY9mqIrv2S+OxWtLv8ark0ehj5+PKjKV9XEJKejj3wPmTc7Y84uEePuTtRhKhIjIpXNhaWGBlZt2Y9aU0ZjxPHkj1mLh2/MwtH8fvBexDr+sWqYV4bol9n49eAqpWXmYMnpYS5cb6soKs2Dr8rTa2nnEap3x1jB4O74wgqWT32TkPzkJgT3RVhn4Hm/HFI2qSVlRKuTySnDdhxoV353BrAlRy5J3SFoMGYGIiAhlmvQNGzYYMput8ubi4oLY27Fw93Bvla6rXozfsYQkj3OCc8Bgtaf4/baDWLV5DyIWzwHz5s8YWapbBCNmIT07D9OfH4k5L43D2PAB+M+W/bAguUGWvjG9oZsnmbl4iwgahzd+ARZLu1lhi0tFeO61ZSQstBuWvfUyBvcL1NoDPI0IEj/uicJPu0/g8Oblyr4bJtXCl4end4A/6EW4hExRXq0oug9Z0T3w/ElSLQMtNUTzmXR6EVx6DATPtbeBctn12aqpUiDpxk649HkVPK/hXX/CHZwh1VR0EEDanCKgDgIuA15AxukNGgkV7815Ec58O2zcdQzvf70RAg83WLOsyEtr25qZcpJLgyn7T1zAvqjzyu9+Pp5Y+9k/lN/r//Ehtg/uzg5ITM1C/6Cn3+Tr6drz6UDsQk7v+BafrdmGVxbWGkK68O1hTgSbtmfQ8ohVRONTKpYgr6gEo4f2x/Gfv0JIkF/LxHW1FRIhxMSQMSBoTAOdMG4DnMJWNPw2xC8mpmbwCHkX6Ve/hS3XHeY2bXuCGOI8jJ2n3OSLsOS6gesZbuxT0Qv/VKjQC8x0kO6OgEPvkUg/8yOKUu+AL+ivNhwzXxgF5q+guAT3Ep+gXCZTy+jzrY/XwMzMjCQYM4erkyNGD+sPcZkUVsjH1m83I17psUrCaI+ZgRJi98Bh6yZpFCNYrPtiIX74fAFiyZFMPhEG5PL2e4WYkQctw+vgfgFkburZ0aTHnILzoMkws27U9LiMWqc1rYnai9kOQlvHIDj6v4DUe4fRM+RlmFpoV5vUDpa6VZPizFiIitLhN/pbo9gvhrA4VKgwhFVQwQNzMlVYWIjy8nLiYihFQUEBHOwdwKRON5bCZBZleGfSrhcWFcKWqPB5vO73xsV4HvSc+gEebv+QuAn2gBXbXqMldHKwUwoG6jYaP/wSXJzs8caMCQgQ1PrVHzt3DVsOniUP+QWYRx72TNn823E48Njo6a3bYynGRqAtjYK6c9OErjDlNiSiYvQf+aaymTQ7GtWVJbD1maRJN51K6+g/DQppEVJj98In+EUS04EGLNPHghRn3EZ+WgwEIyII5urZQumDL0Mfg9pUGPAKMUKFtbU1Kklwp/rCPKCZOmMp20iG1rlz55JEYhbKN9TFixdj9erVxsK+1vnMjN6BvCt7EDR+Dqxs9R/T5L87jxBviSvg23NJHIkKsG1tsOrDv8HFsetFCSxOf4DHV08gaO4asN0DlRqe3DNvw+XZ78gbv240M1rfMHUdMveC/Ac7IEw7D+8+E2Bj762robp9vzWKSmQnnUNZSS56hH0CK45Ht8dEEwCoUKEJWp1AO3/+fDAPZoVCgYkTJyIqKqoTuGj/kGKxGIyRJiMMsdlsXLhwASEhIe3vsAu0zLj4K3Kjf4PvsOdh76V/AzzmKCXs5UX49B+zMHvqc11OrcsYOGbdOYvclPsInPU1uF59G3YN83DWhpt3Q4d6/iLKuors2C1g873h4jtMrYibembReIcj2tSS/ATkpVyBrWNvuPV/B2aWjUdmxjsx/XJOjz/0i7fGozFv+fv27VO2mzdPuzELNGamHQ04HA6GDBmC8+fPg8vlYsAA44102Y7pt9jEa8Tr4LgHIPnwSuQmXIdL4CDYexLPCGIvoI/CHKUwUTsFXq5G/YD9M1byinIUkeOOnIe3SVIwH/R/9ydY8lyUZGVPjsPUkguWu3Fb73M9hsHWqS8KHu5B0vUdYNt7gefiD46DgGhfaFCmP++JNn+TTMaysnyICpIhzEmAOQmL7hG6AGxn9e2e2hyjmxFQTYWBLzjzZmVJDNIYTYWxHX3UQ1t/BLJw4UJ8//339dXd/rOa+L3n3zmGvJijkBakk/C/jrAkxoQtRX7UNlgvfnkUn746BAP9nLXdtV77I/89UFOtgExSisoyMXh+IXAbMh12PRtdd5lomjmn34LbmE16E9z0AUJVZRlK089BlHWNBMlKJUnI2GT/cInNFWPA2l7/Gn1w3vljMHtGLi8ne6aYaCPY4LgGw857FGz4gZ3PnJFzQIUKI1jAsLAwZGRkID093Qi4fZpF5giE0VLcvHkToaGhTxPQGhJxU4Ky3EdQlAnJQ1I3ycSawjxyxrv45uMFJBBWn6bVRvndhKSitiIBxmycfVWmpTb2Y4+2FoY58qmQZJLcFPmoljNB92j4odYwMzE1J8aXdsRewpMIY93PcLw1bDp6jR5/dBRBPbRfuXIlcnJy9DCSboZgjkCWLl2KgQMH6maALtCruTUbPB/92ZqYkdTadr6hcOzbPXzvjdmOQp3tzRydWXN7KP/Uoac0FAFdIUCFCl0h21q/1Vm4sO0A7ogA6x7hmD51APgt0lch9fI1eAwLw+AqNX375WKUKsgDiqVj9Wd1Aa7t2o1rhQoSQpiHvtNmY4yH6u20YsUKNc/vFRCVknC4PONNW97iUhpJpTT+CDbvi0NN8Et4468BQKtrUbs/Tf4SBp+nc3WpmDFpcyEa8vAR8GdMSIjh4cXygRjRq+WYEzWPo3EBgzHS10JFf7SaIkARMCQE1L4VGBLTRs9LZTx2nyzEkPEj4XsuEsvOlqEs8Rz27v0DD0REbSl7guj9B3AhrRg39+xFbKUIafFpKG2oLwfESTi3dy9OPSwBqgsRd2wPDsfmIHffYrwecQWFutagV6Xh8JFk9Bw/ERMnjERfPrG4jz6M/ZdTISX8JD+4i+u301CVFYNjhy4iU0EeGm3yn0foD2HhvC9wpZgIK7ToFwH5LXwZeRH93noTQ6+twLLdu+rWogTJZ/Zh9+l4lDIcNaxj7f68XVGKpDtJtddaWPuUshrUFMQhavdRxBQoSMwFKeSQ4PHZg4g6sh27LqXiYSJR25O2SeSz6d6uvrUfO2IYdT4tFAGKgDEgYPYFKcbAaJfiUfEYR/+7F3FZSTh/S4Lg155B4s4rcPK4hzXbRLA4/gPO+PZC+sErqKrIwpM75xBt0Q/yDRE4p6y/DGnqddxxcce9Nb+gUnwS/07xR497F5DDyUVsXl9MGSsAW5fKiups/PHjTtzKyUbCIwU8CrYj4oYbgpM3YW2WHJcifoVskDWOrL4I58AsrNuSBLMTP9bNSxX/F1EYxEbs7xkInjwWAlsq8+pq32/cuBGTJk2Ct3eTeAdkv5Rc2Ytfjt9GcZ+ZWDCiEmeiMtBPkIVDdxwguLUe6y2HQrH6gxb25wi8EGQHU+kp/Gvmpj+tfQrkx37G3Wdc8eBCARSXDyNFeB6b4jzRK+0ELpHkY/GHczBmTDZWRMbDJ/sCzjvX7u0afyDedBSm9KGeDbraC7RfioA2EaB3bW2iqUFfpoKJ+HztRuz61Bexe+MhzknEmWvpEEmeIKbMHzOnzsD7/5wMO2ECLl0tBldQjtiG+kmwluTi0dmryBCVQxY+HSOLTuLCk1KYO7rBQxAAFz2srInrMLz75Qp8/fE0mN+VoNesqfjr1EBUJ5fApt9kvO2Vifj0TFy/UgQOp6DJvFTxL0S5rRfcPX3Q20n1UYoGMFNSTRCoLARrfCT+t+EzvCTagvcPmSvXopeZFLkPzyM6sxTl4sdN1rHJ/vR3Q61DrMnTa29nhRGvhEESdQmpJWS/gkRXJful5ytTMW3SQLiShrXpTIgWgyRvKhU17m2ik6OFIkARMCIE9PDoMSI09MhqzZPfseL997Fsey78+suRmlcDG5iisqAC4zxTsPaTJXhn1VlI+YOwYN0LSFt1AYHu9fW/41FqLmpYpjCryEd81HFEyxzhIC9BsaUF8i7/joQqPUzGhIxvaUWiZVojaLQbEiP/D598nwiv52oj0Jn4jsFwgQXMLcSQ2IY0mZdq/gsU1mBlXcHRpMYoonqYCR2CQYCEf0/d/RkWf7MBexIs0buvW+1a3ExGNqxhYlaBgsesJuvYZH9+vR4Pmuy5ZmtP3Byvn7gGibMdqoTFUNSYwmW0F1K/+RSf7biBYhMvOOQeQMQXexAnq0TGk7yGvZ1U2KRTukoUAYqAwSNAXUoNZImqiJ99GYkvb1EuBovkYpAUSWDO55FbedNS1VivID7qUktwzMshIoaSLHEORLaucGJVQSyUgmXPgb7f9WskRSiCHRzZTYI4VUshLKkC14FN3mTV4d8EChGjsbAHt0k3TVGg3zuOQHBwMNavX4/w8D97fxBD2dxi1PCdwSO2kbVrwYGZRApLjjnRVJiS3C3mjfuwNVaarb0MRTkSsNwcifBcW6rEIkhtuFBuF5kQhXIOHMkYxK+22d4mig5aKAIUASNBgAoVRh7n7iMAAAQDSURBVLJQlE2KgDYRUC1UaHMU2hdFgCLQ3RCgxx/dbcXpfCkCrSEge4Q7CaXErbeD1gyMa7O0poWRGJfhVvpWpOJyNPEaYlpKH+FuYiu0LfROqygCFIHORYAKFZ2LPx2dImBACFQhccN2nC+OqnMlLW90E67nss5lNPrAEVzPJbFT5Dm4dfQwzqcSu5mkO0gQkiOu5Lu4tmNRE9fmahTHnsBvx24hL6PeZbi5m2oliUex/wBjyHkT+/bGobI0GbHpUtz4dRNiqVlFPfr0kyJg8AhQocLgl4gySBHQEwIKEj8l2RYTPU2VuWZKDn6MpX9UwPzUZ3hvT0EtE7LziPz7D0isicE3n/8PZz76CLsrqnDp449wMPskvli0FIsjjkIE4slBUkgr5YHS3fjXipuwyTmCX65KlH3L4nZhW5wVbKO+xAeHdmLJR1FAxRms25GJGnEM/r3sRzy07Y3xnGRsvyPTEwB0GIoARaCjCFChoqMI0vYUASNCIDExEd999x2EQqEy+219BlzlFBTZyJbZwdWVcev1gnVyeaOb8KPculmagv3Mc5g56S9wq07H9YQ05F6LRjHXDia+L+PZ3CgkD52FUT09G12bbcIxc6gYxy89htCC/5SbqjQ1DiVB0/HXV5Zg6SQHFN+PxmURDwGuFnB1MoUwlwZCM6ItRlnt5ghQoaKbbwA6/e6FAJPxdtGiRUqhghEuzp492wiAuQC+1vl4XGNDXEmv45G/Y4ObsOf4Xo10tUElSHh2R4wP60lSbltCVG4B9smVuPj8t3j+8lfYJTVtdG0uvYmo6xI421URTyDzp9xU8yp7w/fhD/h08T8QebEM/GELsXnsE6xYfw8ZuaZw8205hHcjQ/QbRYAiYCgIUO8PQ1kJygdFQE8I+Pv7IykpSZk59tSpUxgyZEjdyNXI/ikSOwZ9iCU+ZUq3Xo60BTfhZnxWQyYsgYLnAHazVxRFc9dmWRGyJSy4O9q07KZqK0dRmQX4vCb+o4oHWBdxGWMj3kZAs76bMUB/UAQoAgaEABUqDGgxKCsUAX0gsHz5ckRGRsLBwUGZ/bZZBk+SKC4jmw0vT5Y+WGl9DFkW0oTO6OFGAmbQQhGgCBgFAlT+N4plokxSBLSHwOzZsyGXyzFlypSnM8eaOhmGQMFM19qDChTaW3baE0VALwhQoUIvMNNBKAKGg4BAIFBqKWbNmmU4TFFOKAIUgS6BABUqusQy0klQBDRDgMlSOmLECM0aUWqKAEWAItAGAtSmog2A6GWKAEWAIkARoAhQBNRDgGoq1MOJUlEEKAIUAYoARYAi0AYCVKhoAyB6mSJAEaAIUAQoAhQB9RCgQoV6OFEqigBFgCJAEaAIUATaQOD/AYxZe/QqYYZgAAAAAElFTkSuQmCC)"
      ],
      "metadata": {
        "id": "PJUvGeJdUEeO"
      }
    },
    {
      "cell_type": "markdown",
      "source": [
        "![image.png](data:image/png;base64,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)"
      ],
      "metadata": {
        "id": "nXnJNf33UpKY"
      }
    },
    {
      "cell_type": "markdown",
      "source": [
        "![image.png](data:image/png;base64,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)"
      ],
      "metadata": {
        "id": "qOI3an-4UpNC"
      }
    },
    {
      "cell_type": "markdown",
      "source": [
        "![image.png](data:image/png;base64,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)"
      ],
      "metadata": {
        "id": "e59OGdy6UzMs"
      }
    },
    {
      "cell_type": "markdown",
      "source": [
        "![image.png](data:image/png;base64,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)"
      ],
      "metadata": {
        "id": "7jF-BIW9U8Ql"
      }
    },
    {
      "cell_type": "markdown",
      "source": [
        "![image.png](data:image/png;base64,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)"
      ],
      "metadata": {
        "id": "p19A3TGzT67y"
      }
    },
    {
      "cell_type": "markdown",
      "source": [
        "# Install"
      ],
      "metadata": {
        "id": "jw2ndUcBIJUJ"
      }
    },
    {
      "cell_type": "code",
      "source": [
        "!pip install darts\n",
        "!pip install pyyaml==5.4.1"
      ],
      "metadata": {
        "colab": {
          "base_uri": "https://localhost:8080/",
          "height": 1000
        },
        "id": "YU1pxjY1IN3E",
        "outputId": "a7411d4b-7546-4929-f640-3d8c36360b38"
      },
      "execution_count": null,
      "outputs": [
        {
          "output_type": "stream",
          "name": "stdout",
          "text": [
            "Looking in indexes: https://pypi.org/simple, https://us-python.pkg.dev/colab-wheels/public/simple/\n",
            "Requirement already satisfied: darts in /usr/local/lib/python3.7/dist-packages (0.21.0)\n",
            "Requirement already satisfied: xarray>=0.17.0 in /usr/local/lib/python3.7/dist-packages (from darts) (0.20.2)\n",
            "Requirement already satisfied: matplotlib>=3.3.0 in /usr/local/lib/python3.7/dist-packages (from darts) (3.5.3)\n",
            "Requirement already satisfied: pytorch-lightning>=1.5.0 in /usr/local/lib/python3.7/dist-packages (from darts) (1.7.1)\n",
            "Requirement already satisfied: requests>=2.22.0 in /usr/local/lib/python3.7/dist-packages (from darts) (2.23.0)\n",
            "Requirement already satisfied: ipython>=5.0.0 in /usr/local/lib/python3.7/dist-packages (from darts) (7.9.0)\n",
            "Requirement already satisfied: tbats>=1.1.0 in /usr/local/lib/python3.7/dist-packages (from darts) (1.1.0)\n",
            "Requirement already satisfied: tqdm>=4.60.0 in /usr/local/lib/python3.7/dist-packages (from darts) (4.64.0)\n",
            "Requirement already satisfied: numpy>=1.19.0 in /usr/local/lib/python3.7/dist-packages (from darts) (1.21.6)\n",
            "Requirement already satisfied: joblib>=0.16.0 in /usr/local/lib/python3.7/dist-packages (from darts) (1.1.0)\n",
            "Requirement already satisfied: prophet>=1.1 in /usr/local/lib/python3.7/dist-packages (from darts) (1.1)\n",
            "Requirement already satisfied: lightgbm>=2.2.3 in /usr/local/lib/python3.7/dist-packages (from darts) (2.2.3)\n",
            "Requirement already satisfied: catboost>=1.0.6 in /usr/local/lib/python3.7/dist-packages (from darts) (1.0.6)\n",
            "Requirement already satisfied: scikit-learn>=1.0.1 in /usr/local/lib/python3.7/dist-packages (from darts) (1.0.2)\n",
            "Requirement already satisfied: statsforecast==0.6.0 in /usr/local/lib/python3.7/dist-packages (from darts) (0.6.0)\n",
            "Requirement already satisfied: nfoursid>=1.0.0 in /usr/local/lib/python3.7/dist-packages (from darts) (1.0.1)\n",
            "Requirement already satisfied: statsmodels>=0.13.0 in /usr/local/lib/python3.7/dist-packages (from darts) (0.13.2)\n",
            "Requirement already satisfied: torch>=1.8.0 in /usr/local/lib/python3.7/dist-packages (from darts) (1.12.1+cu113)\n",
            "Requirement already satisfied: holidays>=0.11.1 in /usr/local/lib/python3.7/dist-packages (from darts) (0.14.2)\n",
            "Requirement already satisfied: pandas>=1.0.5 in /usr/local/lib/python3.7/dist-packages (from darts) (1.3.5)\n",
            "Requirement already satisfied: pmdarima>=1.8.0 in /usr/local/lib/python3.7/dist-packages (from darts) (1.8.5)\n",
            "Requirement already satisfied: scipy>=1.3.2 in /usr/local/lib/python3.7/dist-packages (from darts) (1.7.3)\n",
            "Requirement already satisfied: numba in /usr/local/lib/python3.7/dist-packages (from statsforecast==0.6.0->darts) (0.56.0)\n",
            "Requirement already satisfied: graphviz in /usr/local/lib/python3.7/dist-packages (from catboost>=1.0.6->darts) (0.10.1)\n",
            "Requirement already satisfied: six in /usr/local/lib/python3.7/dist-packages (from catboost>=1.0.6->darts) (1.15.0)\n",
            "Requirement already satisfied: plotly in /usr/local/lib/python3.7/dist-packages (from catboost>=1.0.6->darts) (5.5.0)\n",
            "Requirement already satisfied: hijri-converter in /usr/local/lib/python3.7/dist-packages (from holidays>=0.11.1->darts) (2.2.4)\n",
            "Requirement already satisfied: korean-lunar-calendar in /usr/local/lib/python3.7/dist-packages (from holidays>=0.11.1->darts) (0.2.1)\n",
            "Requirement already satisfied: python-dateutil in /usr/local/lib/python3.7/dist-packages (from holidays>=0.11.1->darts) (2.8.2)\n",
            "Requirement already satisfied: convertdate>=2.3.0 in /usr/local/lib/python3.7/dist-packages (from holidays>=0.11.1->darts) (2.4.0)\n",
            "Requirement already satisfied: pymeeus<=1,>=0.3.13 in /usr/local/lib/python3.7/dist-packages (from convertdate>=2.3.0->holidays>=0.11.1->darts) (0.5.11)\n",
            "Requirement already satisfied: jedi>=0.10 in /usr/local/lib/python3.7/dist-packages (from ipython>=5.0.0->darts) (0.18.1)\n",
            "Requirement already satisfied: pickleshare in /usr/local/lib/python3.7/dist-packages (from ipython>=5.0.0->darts) (0.7.5)\n",
            "Requirement already satisfied: pygments in /usr/local/lib/python3.7/dist-packages (from ipython>=5.0.0->darts) (2.6.1)\n",
            "Requirement already satisfied: pexpect in /usr/local/lib/python3.7/dist-packages (from ipython>=5.0.0->darts) (4.8.0)\n",
            "Requirement already satisfied: traitlets>=4.2 in /usr/local/lib/python3.7/dist-packages (from ipython>=5.0.0->darts) (5.1.1)\n",
            "Requirement already satisfied: setuptools>=18.5 in /usr/local/lib/python3.7/dist-packages (from ipython>=5.0.0->darts) (57.4.0)\n",
            "Requirement already satisfied: prompt-toolkit<2.1.0,>=2.0.0 in /usr/local/lib/python3.7/dist-packages (from ipython>=5.0.0->darts) (2.0.10)\n",
            "Requirement already satisfied: backcall in /usr/local/lib/python3.7/dist-packages (from ipython>=5.0.0->darts) (0.2.0)\n",
            "Requirement already satisfied: decorator in /usr/local/lib/python3.7/dist-packages (from ipython>=5.0.0->darts) (4.4.2)\n",
            "Requirement already satisfied: parso<0.9.0,>=0.8.0 in /usr/local/lib/python3.7/dist-packages (from jedi>=0.10->ipython>=5.0.0->darts) (0.8.3)\n",
            "Requirement already satisfied: fonttools>=4.22.0 in /usr/local/lib/python3.7/dist-packages (from matplotlib>=3.3.0->darts) (4.36.0)\n",
            "Requirement already satisfied: pyparsing>=2.2.1 in /usr/local/lib/python3.7/dist-packages (from matplotlib>=3.3.0->darts) (3.0.9)\n",
            "Requirement already satisfied: packaging>=20.0 in /usr/local/lib/python3.7/dist-packages (from matplotlib>=3.3.0->darts) (21.3)\n",
            "Requirement already satisfied: cycler>=0.10 in /usr/local/lib/python3.7/dist-packages (from matplotlib>=3.3.0->darts) (0.11.0)\n",
            "Requirement already satisfied: kiwisolver>=1.0.1 in /usr/local/lib/python3.7/dist-packages (from matplotlib>=3.3.0->darts) (1.4.4)\n",
            "Requirement already satisfied: pillow>=6.2.0 in /usr/local/lib/python3.7/dist-packages (from matplotlib>=3.3.0->darts) (7.1.2)\n",
            "Requirement already satisfied: typing-extensions in /usr/local/lib/python3.7/dist-packages (from kiwisolver>=1.0.1->matplotlib>=3.3.0->darts) (4.1.1)\n",
            "Requirement already satisfied: pytz>=2017.3 in /usr/local/lib/python3.7/dist-packages (from pandas>=1.0.5->darts) (2022.2)\n",
            "Requirement already satisfied: urllib3 in /usr/local/lib/python3.7/dist-packages (from pmdarima>=1.8.0->darts) (1.24.3)\n",
            "Requirement already satisfied: Cython!=0.29.18,>=0.29 in /usr/local/lib/python3.7/dist-packages (from pmdarima>=1.8.0->darts) (0.29.32)\n",
            "Requirement already satisfied: wcwidth in /usr/local/lib/python3.7/dist-packages (from prompt-toolkit<2.1.0,>=2.0.0->ipython>=5.0.0->darts) (0.2.5)\n",
            "Requirement already satisfied: wheel>=0.37.0 in /usr/local/lib/python3.7/dist-packages (from prophet>=1.1->darts) (0.37.1)\n",
            "Requirement already satisfied: LunarCalendar>=0.0.9 in /usr/local/lib/python3.7/dist-packages (from prophet>=1.1->darts) (0.0.9)\n",
            "Requirement already satisfied: cmdstanpy>=1.0.1 in /usr/local/lib/python3.7/dist-packages (from prophet>=1.1->darts) (1.0.4)\n",
            "Requirement already satisfied: setuptools-git>=1.2 in /usr/local/lib/python3.7/dist-packages (from prophet>=1.1->darts) (1.2)\n",
            "Requirement already satisfied: ujson in /usr/local/lib/python3.7/dist-packages (from cmdstanpy>=1.0.1->prophet>=1.1->darts) (5.4.0)\n",
            "Requirement already satisfied: ephem>=3.7.5.3 in /usr/local/lib/python3.7/dist-packages (from LunarCalendar>=0.0.9->prophet>=1.1->darts) (4.1.3)\n",
            "Requirement already satisfied: fsspec[http]!=2021.06.0,>=2021.05.0 in /usr/local/lib/python3.7/dist-packages (from pytorch-lightning>=1.5.0->darts) (2022.7.1)\n",
            "Requirement already satisfied: tensorboard>=2.9.1 in /usr/local/lib/python3.7/dist-packages (from pytorch-lightning>=1.5.0->darts) (2.9.1)\n",
            "Requirement already satisfied: torchmetrics>=0.7.0 in /usr/local/lib/python3.7/dist-packages (from pytorch-lightning>=1.5.0->darts) (0.9.3)\n",
            "Requirement already satisfied: pyDeprecate>=0.3.1 in /usr/local/lib/python3.7/dist-packages (from pytorch-lightning>=1.5.0->darts) (0.3.2)\n",
            "Requirement already satisfied: PyYAML>=5.4 in /usr/local/lib/python3.7/dist-packages (from pytorch-lightning>=1.5.0->darts) (6.0)\n",
            "Requirement already satisfied: aiohttp in /usr/local/lib/python3.7/dist-packages (from fsspec[http]!=2021.06.0,>=2021.05.0->pytorch-lightning>=1.5.0->darts) (3.8.1)\n",
            "Requirement already satisfied: certifi>=2017.4.17 in /usr/local/lib/python3.7/dist-packages (from requests>=2.22.0->darts) (2022.6.15)\n",
            "Requirement already satisfied: idna<3,>=2.5 in /usr/local/lib/python3.7/dist-packages (from requests>=2.22.0->darts) (2.10)\n",
            "Requirement already satisfied: chardet<4,>=3.0.2 in /usr/local/lib/python3.7/dist-packages (from requests>=2.22.0->darts) (3.0.4)\n",
            "Requirement already satisfied: threadpoolctl>=2.0.0 in /usr/local/lib/python3.7/dist-packages (from scikit-learn>=1.0.1->darts) (3.1.0)\n",
            "Requirement already satisfied: patsy>=0.5.2 in /usr/local/lib/python3.7/dist-packages (from statsmodels>=0.13.0->darts) (0.5.2)\n",
            "Requirement already satisfied: protobuf<3.20,>=3.9.2 in /usr/local/lib/python3.7/dist-packages (from tensorboard>=2.9.1->pytorch-lightning>=1.5.0->darts) (3.17.3)\n",
            "Requirement already satisfied: absl-py>=0.4 in /usr/local/lib/python3.7/dist-packages (from tensorboard>=2.9.1->pytorch-lightning>=1.5.0->darts) (1.2.0)\n",
            "Requirement already satisfied: tensorboard-plugin-wit>=1.6.0 in /usr/local/lib/python3.7/dist-packages (from tensorboard>=2.9.1->pytorch-lightning>=1.5.0->darts) (1.8.1)\n",
            "Requirement already satisfied: google-auth<3,>=1.6.3 in /usr/local/lib/python3.7/dist-packages (from tensorboard>=2.9.1->pytorch-lightning>=1.5.0->darts) (1.35.0)\n",
            "Requirement already satisfied: tensorboard-data-server<0.7.0,>=0.6.0 in /usr/local/lib/python3.7/dist-packages (from tensorboard>=2.9.1->pytorch-lightning>=1.5.0->darts) (0.6.1)\n",
            "Requirement already satisfied: werkzeug>=1.0.1 in /usr/local/lib/python3.7/dist-packages (from tensorboard>=2.9.1->pytorch-lightning>=1.5.0->darts) (1.0.1)\n",
            "Requirement already satisfied: google-auth-oauthlib<0.5,>=0.4.1 in /usr/local/lib/python3.7/dist-packages (from tensorboard>=2.9.1->pytorch-lightning>=1.5.0->darts) (0.4.6)\n",
            "Requirement already satisfied: grpcio>=1.24.3 in /usr/local/lib/python3.7/dist-packages (from tensorboard>=2.9.1->pytorch-lightning>=1.5.0->darts) (1.47.0)\n",
            "Requirement already satisfied: markdown>=2.6.8 in /usr/local/lib/python3.7/dist-packages (from tensorboard>=2.9.1->pytorch-lightning>=1.5.0->darts) (3.4.1)\n",
            "Requirement already satisfied: rsa<5,>=3.1.4 in /usr/local/lib/python3.7/dist-packages (from google-auth<3,>=1.6.3->tensorboard>=2.9.1->pytorch-lightning>=1.5.0->darts) (4.9)\n",
            "Requirement already satisfied: cachetools<5.0,>=2.0.0 in /usr/local/lib/python3.7/dist-packages (from google-auth<3,>=1.6.3->tensorboard>=2.9.1->pytorch-lightning>=1.5.0->darts) (4.2.4)\n",
            "Requirement already satisfied: pyasn1-modules>=0.2.1 in /usr/local/lib/python3.7/dist-packages (from google-auth<3,>=1.6.3->tensorboard>=2.9.1->pytorch-lightning>=1.5.0->darts) (0.2.8)\n",
            "Requirement already satisfied: requests-oauthlib>=0.7.0 in /usr/local/lib/python3.7/dist-packages (from google-auth-oauthlib<0.5,>=0.4.1->tensorboard>=2.9.1->pytorch-lightning>=1.5.0->darts) (1.3.1)\n",
            "Requirement already satisfied: importlib-metadata>=4.4 in /usr/local/lib/python3.7/dist-packages (from markdown>=2.6.8->tensorboard>=2.9.1->pytorch-lightning>=1.5.0->darts) (4.12.0)\n",
            "Requirement already satisfied: zipp>=0.5 in /usr/local/lib/python3.7/dist-packages (from importlib-metadata>=4.4->markdown>=2.6.8->tensorboard>=2.9.1->pytorch-lightning>=1.5.0->darts) (3.8.1)\n",
            "Requirement already satisfied: pyasn1<0.5.0,>=0.4.6 in /usr/local/lib/python3.7/dist-packages (from pyasn1-modules>=0.2.1->google-auth<3,>=1.6.3->tensorboard>=2.9.1->pytorch-lightning>=1.5.0->darts) (0.4.8)\n",
            "Requirement already satisfied: oauthlib>=3.0.0 in /usr/local/lib/python3.7/dist-packages (from requests-oauthlib>=0.7.0->google-auth-oauthlib<0.5,>=0.4.1->tensorboard>=2.9.1->pytorch-lightning>=1.5.0->darts) (3.2.0)\n",
            "Requirement already satisfied: aiosignal>=1.1.2 in /usr/local/lib/python3.7/dist-packages (from aiohttp->fsspec[http]!=2021.06.0,>=2021.05.0->pytorch-lightning>=1.5.0->darts) (1.2.0)\n",
            "Requirement already satisfied: attrs>=17.3.0 in /usr/local/lib/python3.7/dist-packages (from aiohttp->fsspec[http]!=2021.06.0,>=2021.05.0->pytorch-lightning>=1.5.0->darts) (22.1.0)\n",
            "Requirement already satisfied: charset-normalizer<3.0,>=2.0 in /usr/local/lib/python3.7/dist-packages (from aiohttp->fsspec[http]!=2021.06.0,>=2021.05.0->pytorch-lightning>=1.5.0->darts) (2.1.0)\n",
            "Requirement already satisfied: asynctest==0.13.0 in /usr/local/lib/python3.7/dist-packages (from aiohttp->fsspec[http]!=2021.06.0,>=2021.05.0->pytorch-lightning>=1.5.0->darts) (0.13.0)\n",
            "Requirement already satisfied: multidict<7.0,>=4.5 in /usr/local/lib/python3.7/dist-packages (from aiohttp->fsspec[http]!=2021.06.0,>=2021.05.0->pytorch-lightning>=1.5.0->darts) (6.0.2)\n",
            "Requirement already satisfied: frozenlist>=1.1.1 in /usr/local/lib/python3.7/dist-packages (from aiohttp->fsspec[http]!=2021.06.0,>=2021.05.0->pytorch-lightning>=1.5.0->darts) (1.3.1)\n",
            "Requirement already satisfied: async-timeout<5.0,>=4.0.0a3 in /usr/local/lib/python3.7/dist-packages (from aiohttp->fsspec[http]!=2021.06.0,>=2021.05.0->pytorch-lightning>=1.5.0->darts) (4.0.2)\n",
            "Requirement already satisfied: yarl<2.0,>=1.0 in /usr/local/lib/python3.7/dist-packages (from aiohttp->fsspec[http]!=2021.06.0,>=2021.05.0->pytorch-lightning>=1.5.0->darts) (1.8.1)\n",
            "Requirement already satisfied: llvmlite<0.40,>=0.39.0dev0 in /usr/local/lib/python3.7/dist-packages (from numba->statsforecast==0.6.0->darts) (0.39.0)\n",
            "Requirement already satisfied: ptyprocess>=0.5 in /usr/local/lib/python3.7/dist-packages (from pexpect->ipython>=5.0.0->darts) (0.7.0)\n",
            "Requirement already satisfied: tenacity>=6.2.0 in /usr/local/lib/python3.7/dist-packages (from plotly->catboost>=1.0.6->darts) (8.0.1)\n",
            "Looking in indexes: https://pypi.org/simple, https://us-python.pkg.dev/colab-wheels/public/simple/\n",
            "Collecting pyyaml==5.4.1\n",
            "  Downloading PyYAML-5.4.1-cp37-cp37m-manylinux1_x86_64.whl (636 kB)\n",
            "\u001b[K     |████████████████████████████████| 636 kB 6.9 MB/s \n",
            "\u001b[?25hInstalling collected packages: pyyaml\n",
            "  Attempting uninstall: pyyaml\n",
            "    Found existing installation: PyYAML 6.0\n",
            "    Uninstalling PyYAML-6.0:\n",
            "      Successfully uninstalled PyYAML-6.0\n",
            "Successfully installed pyyaml-5.4.1\n"
          ]
        },
        {
          "output_type": "display_data",
          "data": {
            "application/vnd.colab-display-data+json": {
              "pip_warning": {
                "packages": [
                  "yaml"
                ]
              }
            }
          },
          "metadata": {}
        }
      ]
    },
    {
      "cell_type": "markdown",
      "source": [
        "# Setup"
      ],
      "metadata": {
        "id": "_E9cbc53IJWm"
      }
    },
    {
      "cell_type": "code",
      "source": [
        "import pandas as pd\n",
        "import numpy as np\n",
        "import matplotlib.pyplot as plt\n",
        "\n",
        "from darts import TimeSeries\n",
        "from darts.dataprocessing.transformers import Scaler\n",
        "from darts.metrics import mape, mae\n",
        "from darts.utils.likelihood_models import LaplaceLikelihood\n",
        "from darts.datasets import AirPassengersDataset\n",
        "\n",
        "from darts.models import NBEATSModel\n",
        "from darts.models import ExponentialSmoothing\n",
        "from darts.models import AutoARIMA\n",
        "from darts.models import TBATS"
      ],
      "metadata": {
        "id": "fCUzpNc3I9ZY"
      },
      "execution_count": null,
      "outputs": []
    },
    {
      "cell_type": "markdown",
      "source": [
        "# Data"
      ],
      "metadata": {
        "id": "Zx5s7YEqOz5N"
      }
    },
    {
      "cell_type": "code",
      "source": [
        "pax_df = AirPassengersDataset().load()\n",
        "pax_df.plot()"
      ],
      "metadata": {
        "colab": {
          "base_uri": "https://localhost:8080/",
          "height": 288
        },
        "id": "EgPZBGZ3KspA",
        "outputId": "d3564260-90d0-4dcc-88e7-c2e8aaaa2b1a"
      },
      "execution_count": null,
      "outputs": [
        {
          "output_type": "display_data",
          "data": {
            "text/plain": [
              "<Figure size 432x288 with 1 Axes>"
            ],
            "image/png": "[encoded data removed]"
          },
          "metadata": {
            "needs_background": "light"
          }
        }
      ]
    },
    {
      "cell_type": "markdown",
      "source": [
        "## Preprocess"
      ],
      "metadata": {
        "id": "KUHappMWIJbg"
      }
    },
    {
      "cell_type": "code",
      "source": [
        "scaler_pax = Scaler()\n",
        "pax_df_scaled = scaler_pax.fit_transform(pax_df)\n",
        "train_pax_df, test_pax_df = pax_df_scaled[:-36], pax_df_scaled[-36:] "
      ],
      "metadata": {
        "id": "3yZP07ujLGqj"
      },
      "execution_count": null,
      "outputs": []
    },
    {
      "cell_type": "markdown",
      "source": [
        "# Generic"
      ],
      "metadata": {
        "id": "65XV20qUIJZD"
      }
    },
    {
      "cell_type": "markdown",
      "source": [
        "## Model"
      ],
      "metadata": {
        "id": "5Ei3Ns5aLgQ3"
      }
    },
    {
      "cell_type": "code",
      "source": [
        "model = NBEATSModel(input_chunk_length=24, \n",
        "                    output_chunk_length=12, \n",
        "                    n_epochs = 100, \n",
        "                    random_state = 2001)"
      ],
      "metadata": {
        "id": "pTrHVb-iLmKy"
      },
      "execution_count": null,
      "outputs": []
    },
    {
      "cell_type": "code",
      "source": [
        "model.fit(train_pax_df, verbose=True)"
      ],
      "metadata": {
        "colab": {
          "base_uri": "https://localhost:8080/",
          "height": 369,
          "referenced_widgets": [
            "b7520e787b45483cbeaf0038081dd89b",
            "b84c5b1d22424823963c8c5854254fa2",
            "55116575a3a749deb6bd008a79dec3db",
            "08db262771014aa58a3eee53971282fa",
            "193461da6e534510811002b12a3d874c",
            "dc762f28761b4ebda2016638ef6958e8",
            "46c9e3ac6a314649a18d9c0455fab7e4",
            "379575a97eca47ac90df984aa06924e1",
            "57c655ac3fcb4b24b1e6a3156eaf8720",
            "bb3c806d3cee445180ac5c614367d603",
            "4b22a05ce6b8489bb37606e011c07507"
          ]
        },
        "id": "fkOZ6w6RLs4N",
        "outputId": "6dfb23c8-e969-4704-c51c-0b7d9a485b80"
      },
      "execution_count": null,
      "outputs": [
        {
          "output_type": "stream",
          "name": "stderr",
          "text": [
            "INFO:pytorch_lightning.utilities.rank_zero:GPU available: False, used: False\n",
            "INFO:pytorch_lightning.utilities.rank_zero:TPU available: False, using: 0 TPU cores\n",
            "INFO:pytorch_lightning.utilities.rank_zero:IPU available: False, using: 0 IPUs\n",
            "INFO:pytorch_lightning.utilities.rank_zero:HPU available: False, using: 0 HPUs\n",
            "INFO:pytorch_lightning.callbacks.model_summary:\n",
            "  | Name          | Type             | Params\n",
            "---------------------------------------------------\n",
            "0 | criterion     | MSELoss          | 0     \n",
            "1 | train_metrics | MetricCollection | 0     \n",
            "2 | val_metrics   | MetricCollection | 0     \n",
            "3 | stacks        | ModuleList       | 6.2 M \n",
            "---------------------------------------------------\n",
            "6.2 M     Trainable params\n",
            "1.4 K     Non-trainable params\n",
            "6.2 M     Total params\n",
            "49.575    Total estimated model params size (MB)\n"
          ]
        },
        {
          "output_type": "display_data",
          "data": {
            "text/plain": [
              "Training: 0it [00:00, ?it/s]"
            ],
            "application/vnd.jupyter.widget-view+json": {
              "version_major": 2,
              "version_minor": 0,
              "model_id": "b7520e787b45483cbeaf0038081dd89b"
            }
          },
          "metadata": {}
        },
        {
          "output_type": "stream",
          "name": "stderr",
          "text": [
            "INFO:pytorch_lightning.utilities.rank_zero:`Trainer.fit` stopped: `max_epochs=100` reached.\n"
          ]
        },
        {
          "output_type": "execute_result",
          "data": {
            "text/plain": [
              "<darts.models.forecasting.nbeats.NBEATSModel at 0x7fe0693ca910>"
            ]
          },
          "metadata": {},
          "execution_count": 22
        }
      ]
    },
    {
      "cell_type": "markdown",
      "source": [
        "## Predict"
      ],
      "metadata": {
        "id": "LjNlBTSeIJeL"
      }
    },
    {
      "cell_type": "code",
      "source": [
        "pred = model.predict(n=36, series=train_pax_df)"
      ],
      "metadata": {
        "colab": {
          "base_uri": "https://localhost:8080/",
          "height": 49,
          "referenced_widgets": [
            "5b77322319054d728827ae860d740b60",
            "c7837917dba341d9a61f09857bafc18f",
            "a3cf58814ffd43fb859c5bf9fd793b4d",
            "692716f45044412cb2f072a8c66d2d3e",
            "17226680df624ff9af2fb7d443bfc9ba",
            "8f16b1eb9e5745bb89d7fdc211032336",
            "bd2aeb4597224e3e81d676400aa08b58",
            "7f7ece9df5564e43807ef00865360ab2",
            "77d637c0def34c26a39a6eeb0db77845",
            "65beb1d095354cc687b4a427c24375db",
            "3f823e9c6b994a46801f693dc74526b8"
          ]
        },
        "id": "e7_zJlwjL-1L",
        "outputId": "a4133bd3-fa6d-4f73-aac4-2cd60b311f1e"
      },
      "execution_count": null,
      "outputs": [
        {
          "output_type": "display_data",
          "data": {
            "text/plain": [
              "Predicting: 3it [00:00, ?it/s]"
            ],
            "application/vnd.jupyter.widget-view+json": {
              "version_major": 2,
              "version_minor": 0,
              "model_id": "5b77322319054d728827ae860d740b60"
            }
          },
          "metadata": {}
        }
      ]
    },
    {
      "cell_type": "markdown",
      "source": [
        "## Evaluate"
      ],
      "metadata": {
        "id": "oFUZtfJHNWhP"
      }
    },
    {
      "cell_type": "code",
      "source": [
        "mape(pax_df_scaled , pred)"
      ],
      "metadata": {
        "colab": {
          "base_uri": "https://localhost:8080/"
        },
        "id": "pTuS4-N_MPOC",
        "outputId": "8525955b-9559-4af1-8406-9e5d2a106bfd"
      },
      "execution_count": null,
      "outputs": [
        {
          "output_type": "execute_result",
          "data": {
            "text/plain": [
              "9.2531652004166"
            ]
          },
          "metadata": {},
          "execution_count": 24
        }
      ]
    },
    {
      "cell_type": "code",
      "source": [
        "fig = plt.figure(figsize=(8, 8))\n",
        "pax_df_scaled.plot()\n",
        "pred.plot()"
      ],
      "metadata": {
        "colab": {
          "base_uri": "https://localhost:8080/",
          "height": 505
        },
        "id": "HBx7a4VjM5jU",
        "outputId": "0951fe34-cca1-47b0-a45d-cfc9c150820a"
      },
      "execution_count": null,
      "outputs": [
        {
          "output_type": "display_data",
          "data": {
            "text/plain": [
              "<Figure size 576x576 with 1 Axes>"
            ],
            "image/png": "[encoded data removed]"
          },
          "metadata": {
            "needs_background": "light"
          }
        }
      ]
    },
    {
      "cell_type": "markdown",
      "source": [
        "# Interpretable"
      ],
      "metadata": {
        "id": "EM4oJTcrM8eN"
      }
    },
    {
      "cell_type": "markdown",
      "source": [
        "## Model"
      ],
      "metadata": {
        "id": "KMHUgn1FOI4v"
      }
    },
    {
      "cell_type": "code",
      "source": [
        "model = NBEATSModel(input_chunk_length=24, \n",
        "                    output_chunk_length=12, \n",
        "                    generic_architecture=False,\n",
        "                    n_epochs = 100, \n",
        "                    random_state = 2001)"
      ],
      "metadata": {
        "id": "FhoiKcdHNZ0x"
      },
      "execution_count": null,
      "outputs": []
    },
    {
      "cell_type": "code",
      "source": [
        "model.fit(train_pax_df, verbose=True)"
      ],
      "metadata": {
        "colab": {
          "base_uri": "https://localhost:8080/",
          "height": 369,
          "referenced_widgets": [
            "657232948fd14d889b1cf62a43daef94",
            "321e6096fede4017b91258827386744d",
            "249aaae11e164ef8a38bfe2b7c58faac",
            "17dae432884f4bd0afc24265df473034",
            "9b0e90266d0b4e06a3e4c18e6e273ec5",
            "d73435af62684adb95752f90e25b2785",
            "2490df73439442b29b5bd47582334cfb",
            "05ec25dc0f564af88c3b69779981c87d",
            "6ba0aa556aed4ff1994a0f7ba835d322",
            "601e239380d544a19e351e3d1d906000",
            "abc5b17342c24d4fa0ee0c2f297363da"
          ]
        },
        "id": "0Zs6r8FvOHSj",
        "outputId": "1bfaaad8-c99e-4d6d-b1bb-d9edb0889fef"
      },
      "execution_count": null,
      "outputs": [
        {
          "output_type": "stream",
          "name": "stderr",
          "text": [
            "INFO:pytorch_lightning.utilities.rank_zero:GPU available: False, used: False\n",
            "INFO:pytorch_lightning.utilities.rank_zero:TPU available: False, using: 0 TPU cores\n",
            "INFO:pytorch_lightning.utilities.rank_zero:IPU available: False, using: 0 IPUs\n",
            "INFO:pytorch_lightning.utilities.rank_zero:HPU available: False, using: 0 HPUs\n",
            "INFO:pytorch_lightning.callbacks.model_summary:\n",
            "  | Name          | Type             | Params\n",
            "---------------------------------------------------\n",
            "0 | criterion     | MSELoss          | 0     \n",
            "1 | train_metrics | MetricCollection | 0     \n",
            "2 | val_metrics   | MetricCollection | 0     \n",
            "3 | stacks        | ModuleList       | 418 K \n",
            "---------------------------------------------------\n",
            "411 K     Trainable params\n",
            "6.7 K     Non-trainable params\n",
            "418 K     Total params\n",
            "3.349     Total estimated model params size (MB)\n"
          ]
        },
        {
          "output_type": "display_data",
          "data": {
            "text/plain": [
              "Training: 0it [00:00, ?it/s]"
            ],
            "application/vnd.jupyter.widget-view+json": {
              "version_major": 2,
              "version_minor": 0,
              "model_id": "657232948fd14d889b1cf62a43daef94"
            }
          },
          "metadata": {}
        },
        {
          "output_type": "stream",
          "name": "stderr",
          "text": [
            "INFO:pytorch_lightning.utilities.rank_zero:`Trainer.fit` stopped: `max_epochs=100` reached.\n"
          ]
        },
        {
          "output_type": "execute_result",
          "data": {
            "text/plain": [
              "<darts.models.forecasting.nbeats.NBEATSModel at 0x7fe0680a6950>"
            ]
          },
          "metadata": {},
          "execution_count": 32
        }
      ]
    },
    {
      "cell_type": "markdown",
      "source": [
        "## Predict"
      ],
      "metadata": {
        "id": "nFkqC8-wOYef"
      }
    },
    {
      "cell_type": "code",
      "source": [
        "pred = model.predict(n=36, series=train_pax_df)"
      ],
      "metadata": {
        "colab": {
          "base_uri": "https://localhost:8080/",
          "height": 49,
          "referenced_widgets": [
            "d02792063f8549909f478c283eea3e99",
            "aebbb58a67ef40dba3b4a74346e3a8fa",
            "9a0523161fe94300840172fb77647480",
            "48dc552331cd419d9f7aa623b84bfdfb",
            "52ce904d9e7b4c9bb9c5159d70f618ab",
            "2cde34a4fa6147bab4ef93d3a221aafe",
            "a30528b32230408c95e9361d6edb24e3",
            "b1c4910add46455ea333198e9615f203",
            "ac46c2ac95c44af1b49a69b3991dfcd0",
            "6c7b208faab9488289d384464bc7ae2a",
            "3ccc8206fbda4eea82d6504b37f6094e"
          ]
        },
        "id": "1PCw55CFOUm-",
        "outputId": "eee94152-c478-4458-9e94-685fbb753fc2"
      },
      "execution_count": null,
      "outputs": [
        {
          "output_type": "display_data",
          "data": {
            "text/plain": [
              "Predicting: 3it [00:00, ?it/s]"
            ],
            "application/vnd.jupyter.widget-view+json": {
              "version_major": 2,
              "version_minor": 0,
              "model_id": "d02792063f8549909f478c283eea3e99"
            }
          },
          "metadata": {}
        }
      ]
    },
    {
      "cell_type": "markdown",
      "source": [
        "## Evaluate"
      ],
      "metadata": {
        "id": "prLpB8-8OZlU"
      }
    },
    {
      "cell_type": "code",
      "source": [
        "mape(pax_df_scaled, pred)"
      ],
      "metadata": {
        "colab": {
          "base_uri": "https://localhost:8080/"
        },
        "id": "m3kQypItOcNB",
        "outputId": "2b68a038-afe2-48bb-d91a-3549e79a32ad"
      },
      "execution_count": null,
      "outputs": [
        {
          "output_type": "execute_result",
          "data": {
            "text/plain": [
              "11.346284729519612"
            ]
          },
          "metadata": {},
          "execution_count": 34
        }
      ]
    },
    {
      "cell_type": "code",
      "source": [
        "fig = plt.figure(figsize=(8, 8))\n",
        "pax_df_scaled.plot()\n",
        "pred.plot()"
      ],
      "metadata": {
        "colab": {
          "base_uri": "https://localhost:8080/",
          "height": 505
        },
        "id": "p--mv55xOg1X",
        "outputId": "1b99b607-fad7-4a06-b776-29cf6d4a7520"
      },
      "execution_count": null,
      "outputs": [
        {
          "output_type": "display_data",
          "data": {
            "text/plain": [
              "<Figure size 576x576 with 1 Axes>"
            ],
            "image/png": "[encoded data removed]"
          },
          "metadata": {
            "needs_background": "light"
          }
        }
      ]
    },
    {
      "cell_type": "code",
      "source": [
        "model.model"
      ],
      "metadata": {
        "colab": {
          "base_uri": "https://localhost:8080/"
        },
        "id": "YM_Lt5BQTv5m",
        "outputId": "65fec619-3725-4571-ecb0-055db7c9b09a"
      },
      "execution_count": null,
      "outputs": [
        {
          "output_type": "execute_result",
          "data": {
            "text/plain": [
              "_NBEATSModule(\n",
              "  (criterion): MSELoss()\n",
              "  (train_metrics): MetricCollection,\n",
              "    prefix=train_\n",
              "  )\n",
              "  (val_metrics): MetricCollection,\n",
              "    prefix=val_\n",
              "  )\n",
              "  (stacks): ModuleList(\n",
              "    (0): _Stack(\n",
              "      (blocks): ModuleList(\n",
              "        (0): _Block(\n",
              "          (activation): ReLU()\n",
              "          (fc_stack): ModuleList(\n",
              "            (0): Linear(in_features=24, out_features=256, bias=True)\n",
              "            (1): Linear(in_features=256, out_features=256, bias=True)\n",
              "            (2): Linear(in_features=256, out_features=256, bias=True)\n",
              "            (3): Linear(in_features=256, out_features=256, bias=True)\n",
              "          )\n",
              "          (backcast_linear_layer): Linear(in_features=256, out_features=3, bias=True)\n",
              "          (forecast_linear_layer): Linear(in_features=256, out_features=6, bias=True)\n",
              "          (backcast_g): _TrendGenerator()\n",
              "          (forecast_g): _TrendGenerator()\n",
              "        )\n",
              "      )\n",
              "    )\n",
              "    (1): _Stack(\n",
              "      (blocks): ModuleList(\n",
              "        (0): _Block(\n",
              "          (activation): ReLU()\n",
              "          (fc_stack): ModuleList(\n",
              "            (0): Linear(in_features=24, out_features=256, bias=True)\n",
              "            (1): Linear(in_features=256, out_features=256, bias=True)\n",
              "            (2): Linear(in_features=256, out_features=256, bias=True)\n",
              "            (3): Linear(in_features=256, out_features=256, bias=True)\n",
              "          )\n",
              "          (backcast_linear_layer): Linear(in_features=256, out_features=23, bias=True)\n",
              "          (forecast_linear_layer): Linear(in_features=256, out_features=22, bias=True)\n",
              "          (backcast_g): _SeasonalityGenerator()\n",
              "          (forecast_g): _SeasonalityGenerator()\n",
              "        )\n",
              "      )\n",
              "    )\n",
              "  )\n",
              ")"
            ]
          },
          "metadata": {},
          "execution_count": 91
        }
      ]
    },
    {
      "cell_type": "markdown",
      "source": [
        "# Compare"
      ],
      "metadata": {
        "id": "wlF5o0RMVQ4s"
      }
    },
    {
      "cell_type": "code",
      "source": [
        "def evaluate(model, train=train_pax_df, test=test_pax_df):\n",
        "    model.fit(train)\n",
        "    pred = model.predict(n=36)\n",
        "    print(f'Model {model}')\n",
        "    print(f'      MAPE: {mape(test, pred):.2f}%')\n",
        "\n",
        "evaluate(ExponentialSmoothing())\n",
        "evaluate(AutoARIMA())\n",
        "evaluate(TBATS())\n",
        "evaluate (NBEATSModel(input_chunk_length=24, \n",
        "                    output_chunk_length=12, \n",
        "                    n_epochs = 100, \n",
        "                    random_state = 2001))\n"
      ],
      "metadata": {
        "colab": {
          "base_uri": "https://localhost:8080/",
          "height": 545,
          "referenced_widgets": [
            "2e8dfc84bf2649a9acab0f252a9e9831",
            "60c45c25d71f448e8de56ebb157b1a2f",
            "7fc29ac22767428ebf46b6861aa99176",
            "60c04b19ae414b3c978f7e18f0e3643c",
            "a66ca69cd9b24481b68f6f5ff56f4755",
            "574f98e5cfec47e28a00fb053062fbf1",
            "d89425210a8c48d489dccacec08f789b",
            "e45feb9e77e046f6a3d9dcbd2328e68c",
            "6ae37d54a285423a9751852a2302bc6e",
            "4e4cc447d6d54311a085c3f1624de17a",
            "3d8071c3bc1b40028a7c19dbee6bb7f2",
            "00ddc75b685f40579b0e9f37554c369b",
            "ce63af8092804c0f8fe54b3e4ed07b68",
            "024fb4b8537a4e26b2c569f7e6ef1680",
            "df4e1601f6054803ae1831ca56ff8a5a",
            "29efd199eb984fdfabba056a9c81f0ae",
            "be5879cd293f482b873164baea35a6d5",
            "a85c2a1790b946389f41ac1567f04a60",
            "e95a488ea00e4340aefe05ec395c3a0f",
            "8d5c3203c00045b0ac9b926342a4b06e",
            "5193502149434bf2be690d90fff8573b",
            "862e8f9ecd78421d89fa4b279bf7f8c1"
          ]
        },
        "id": "TbJwunjmY6T_",
        "outputId": "7907b428-44c7-4660-a476-132e8e95334a"
      },
      "execution_count": null,
      "outputs": [
        {
          "output_type": "stream",
          "name": "stdout",
          "text": [
            "Model ExponentialSmoothing(trend=ModelMode.ADDITIVE, damped=False, seasonal=SeasonalityMode.ADDITIVE, seasonal_periods=12\n",
            "      MAPE: 8.04%\n",
            "Model Auto-ARIMA\n",
            "      MAPE: 16.21%\n",
            "Model (T)BATS\n",
            "      MAPE: 18.82%\n"
          ]
        },
        {
          "output_type": "stream",
          "name": "stderr",
          "text": [
            "INFO:pytorch_lightning.utilities.rank_zero:GPU available: False, used: False\n",
            "INFO:pytorch_lightning.utilities.rank_zero:TPU available: False, using: 0 TPU cores\n",
            "INFO:pytorch_lightning.utilities.rank_zero:IPU available: False, using: 0 IPUs\n",
            "INFO:pytorch_lightning.utilities.rank_zero:HPU available: False, using: 0 HPUs\n",
            "INFO:pytorch_lightning.callbacks.model_summary:\n",
            "  | Name          | Type             | Params\n",
            "---------------------------------------------------\n",
            "0 | criterion     | MSELoss          | 0     \n",
            "1 | train_metrics | MetricCollection | 0     \n",
            "2 | val_metrics   | MetricCollection | 0     \n",
            "3 | stacks        | ModuleList       | 6.2 M \n",
            "---------------------------------------------------\n",
            "6.2 M     Trainable params\n",
            "1.4 K     Non-trainable params\n",
            "6.2 M     Total params\n",
            "49.575    Total estimated model params size (MB)\n"
          ]
        },
        {
          "output_type": "display_data",
          "data": {
            "text/plain": [
              "Training: 0it [00:00, ?it/s]"
            ],
            "application/vnd.jupyter.widget-view+json": {
              "version_major": 2,
              "version_minor": 0,
              "model_id": "2e8dfc84bf2649a9acab0f252a9e9831"
            }
          },
          "metadata": {}
        },
        {
          "output_type": "stream",
          "name": "stderr",
          "text": [
            "INFO:pytorch_lightning.utilities.rank_zero:`Trainer.fit` stopped: `max_epochs=100` reached.\n"
          ]
        },
        {
          "output_type": "display_data",
          "data": {
            "text/plain": [
              "Predicting: 3it [00:00, ?it/s]"
            ],
            "application/vnd.jupyter.widget-view+json": {
              "version_major": 2,
              "version_minor": 0,
              "model_id": "00ddc75b685f40579b0e9f37554c369b"
            }
          },
          "metadata": {}
        },
        {
          "output_type": "stream",
          "name": "stdout",
          "text": [
            "Model <darts.models.forecasting.nbeats.NBEATSModel object at 0x7fe067a3f790>\n",
            "      MAPE: 10.97%\n"
          ]
        }
      ]
    },
    {
      "cell_type": "code",
      "source": [],
      "metadata": {
        "id": "BnguvKB7Zwkt"
      },
      "execution_count": null,
      "outputs": []
    }
  ]
}